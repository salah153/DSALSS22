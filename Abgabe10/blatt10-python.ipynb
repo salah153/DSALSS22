{
 "cells": [
  {
   "cell_type": "markdown",
   "metadata": {
    "deletable": false,
    "editable": false,
    "nbgrader": {
     "cell_type": "markdown",
     "checksum": "d34b10de34110f0e3464aae85e189fc1",
     "grade": false,
     "grade_id": "cell-2e9f551376e73eb9",
     "locked": true,
     "schema_version": 3,
     "solution": false,
     "task": false
    }
   },
   "source": [
    "# Datenstrukturen und Algorithmen\n",
    "\n",
    "## Praktische Aufgabe 5\n",
    "\n",
    "In dieser Praktischen Aufgabe werden Sie sich mit Graphalgorithmen beschäftigen. Dazu werden Sie einerseits den Algorithmus von Dijkstra implementieren und andererseits mit Hilfe von `networkx` Labyrinthe generieren und lösen. Bei `networkx` handelt es sich um ein Paket welches das Erstellen, Bearbeiten und Analysieren von Graphen erlaubt.\n",
    "\n",
    "Die Abgaben werden mit der `nbgrader` Erweiterung korrigiert. Das System erwartet, dass der Code zum Lösen der Aufgaben nach der `#YOUR CODE HERE` Anweisung kommt. Außerdem darf die Zellenreihenfolge nicht geändert werden. Damit Sie selbst Ihre Lösungsvorschläge validieren können, werden Ihnen Unittests zur Verfügung gestellt. Beachten Sie, dass diese Tests keine Garantie sind für das Erreichen der vollen Punktzahl, da Sie nur einen Teil der Funktionalität überprüfen.\n",
    "\n",
    "Wichtig: Füllen Sie zunächst die erste Zelle mit `#YOUR ANSWER HERE` unter dem Titel `Abgabeteam` mit ihren Namen und Matrikelnummern vollständig aus. Dies ermöglicht uns auch bei technischen Problemen die Abgaben eindeutig zuordnen zu können. Ändern Sie außerdem nicht den Namen der Datei. \n",
    "\n",
    "**Übersicht der Aufgaben** (20 Punkte):\n",
    "\n",
    "1. **Implementierung von Dijkstra** - insgesamt: 10 Punkte\n",
    "   - initialize_single_source() - 2P.\n",
    "   - relax() - 3P.\n",
    "   - dijkstra() - 5P.\n",
    "2. **Labyrinthe: Generieren und Lösen** - insgesamt: 10 Punkte\n",
    "   - generate_maze() - 6P.\n",
    "   - solve_maze() - 4P."
   ]
  },
  {
   "cell_type": "markdown",
   "metadata": {
    "deletable": false,
    "editable": false,
    "nbgrader": {
     "cell_type": "markdown",
     "checksum": "75be49d562fc81fca0ac423586962c48",
     "grade": false,
     "grade_id": "cell-7cf23d3c77998e55",
     "locked": true,
     "schema_version": 3,
     "solution": false,
     "task": false
    }
   },
   "source": [
    "## Abgabeteam\n",
    "Bitte füllen Sie die untenstehende Zelle aus mit \n",
    "\n",
    "Nummer des Tutoriums,\n",
    "\n",
    "Voranme Nachname Matrikelnummer 1,\n",
    "\n",
    "Vorname Nachname Matrikelnummer 2,\n",
    "\n",
    "(Vorname Nachname Matrikelnummer 3)"
   ]
  },
  {
   "cell_type": "markdown",
   "metadata": {
    "deletable": false,
    "editable": false,
    "nbgrader": {
     "cell_type": "markdown",
     "checksum": "c67229949bfd3efcf04d5783c5743274",
     "grade": false,
     "grade_id": "cell-417623334297ec57",
     "locked": true,
     "schema_version": 3,
     "solution": false,
     "task": false
    }
   },
   "source": [
    "23,\n",
    "\n",
    "Mohammed Al-Laktah 419664,\n",
    "\n",
    "Salah Atallah 414867,"
   ]
  },
  {
   "cell_type": "markdown",
   "metadata": {
    "deletable": false,
    "editable": false,
    "nbgrader": {
     "cell_type": "markdown",
     "checksum": "9cd91b3fafb563762136cf0297261a39",
     "grade": false,
     "grade_id": "cell-85df1a8ff62140cc",
     "locked": true,
     "schema_version": 3,
     "solution": false,
     "task": false
    }
   },
   "source": [
    "## Module importieren\n",
    "Zuerst werden die benötigten Module importiert und weitere Hilfsfunktionen definiert. Sie dürfen keine weiteren Module impotieren.\n",
    "\n",
    "Wenn in Ihrer Entwickungsumbegung (z.B Google Colab oder Deepnote) bestimmte Module nicht verfügbar sind, dann kommentieren Sie die erste Zeile aus um die Module in der Umgebung zu installieren."
   ]
  },
  {
   "cell_type": "code",
   "execution_count": 110,
   "metadata": {
    "deletable": false,
    "editable": false,
    "nbgrader": {
     "cell_type": "code",
     "checksum": "9c72db01c1e664cd8a284c208b2caaad",
     "grade": true,
     "grade_id": "cell-859a494f7ea8e097",
     "locked": true,
     "points": 0,
     "schema_version": 3,
     "solution": false,
     "task": false
    }
   },
   "outputs": [],
   "source": [
    "#!pip install nose\n",
    "#!pip install networkx\n",
    "from random import randint\n",
    "from nose.tools import assert_equal\n",
    "from networkx import draw_networkx_nodes, draw_networkx_edges, grid_2d_graph, shortest_path\n",
    "from networkx.algorithms.tree import minimum_spanning_tree\n",
    "\n",
    "\n",
    "# unittests helper functions\n",
    "import pickle\n",
    "\n",
    "def save_data(idx, name, data):\n",
    "    with open(f'data/{idx}/{name}.pkl', 'wb') as f:\n",
    "        pickle.dump(data, f)\n",
    "\n",
    "def load_data(idx, name):\n",
    "    with open(f'data/{idx}/{name}.pkl', 'rb') as f:\n",
    "        return pickle.load(f)"
   ]
  },
  {
   "cell_type": "markdown",
   "metadata": {
    "deletable": false,
    "editable": false,
    "nbgrader": {
     "cell_type": "markdown",
     "checksum": "7fcd8642ec10c16be0fb4e41db8ab8cf",
     "grade": false,
     "grade_id": "cell-095d07e12f995c67",
     "locked": true,
     "schema_version": 3,
     "solution": false,
     "task": false
    }
   },
   "source": [
    "# Algorithmus von Dijkstra\n",
    "\n",
    "Implementieren Sie den Algorithmus von Dijkstra indem Sie die folgenden Funktionen nacheinander implementieren: `initialize_single_source()`, `relax()` und `dijkstra()`. Orientieren Sie sich bei ihrer Implementierung an dem in der Vorlesung vorgestellten Code. \n",
    "\n",
    "Der untenstehende Code definiert die Klasse `Graph`. In dieser Klasse wird ein Graph als Adjazenzliste dargestellt. Sie können direkt über `G.Adj` auf die Adjazenzliste oder über `G.V` auf die Knoten des Graphen zugreifen.\n",
    "\n",
    "Die Funktion `extract_minimum()` wird Ihnen zur Verfügung gestellt. Beachten Sie, dass hier in jedem Extract-Schritt eine Sortierung aller verbliebenen Elemente vorgenommen wird. In der Praxis würde diese Funktion über einen Min-Heap effizient implementiert werden. Um die Implementierung kurz und übersichtlich zu gestalten, wird hier auf Effizienz zu Gunsten der Lesbarkeit verzichtet."
   ]
  },
  {
   "cell_type": "code",
   "execution_count": 111,
   "metadata": {
    "deletable": false,
    "editable": false,
    "nbgrader": {
     "cell_type": "code",
     "checksum": "49ff7a7f05f9c6aa20e9ed4cc1fe3ef5",
     "grade": false,
     "grade_id": "cell-88e60cb3e1c7c9ba",
     "locked": true,
     "schema_version": 3,
     "solution": false,
     "task": false
    }
   },
   "outputs": [],
   "source": [
    "class Graph:\n",
    "    def __init__(self, adjazencyList):\n",
    "        self.Adj = adjazencyList\n",
    "\n",
    "    @property\n",
    "    def V(self):\n",
    "        return list(self.Adj.keys())\n",
    "\n",
    "\n",
    "def extract_minimum(Q, key):\n",
    "    Q = {u: key[u] for u in Q}\n",
    "    Q = sorted(Q.items(), key=lambda i: i[1])\n",
    "    Q = [u for u, k in Q]\n",
    "    return Q[0], Q[1:]"
   ]
  },
  {
   "cell_type": "code",
   "execution_count": 112,
   "metadata": {
    "deletable": false,
    "editable": false,
    "nbgrader": {
     "cell_type": "code",
     "checksum": "a0e80ec903a9fe60ebc8210ae72a6803",
     "grade": false,
     "grade_id": "cell-7ada75fc774b67a8",
     "locked": true,
     "schema_version": 3,
     "solution": false,
     "task": false
    }
   },
   "outputs": [
    {
     "name": "stdout",
     "output_type": "stream",
     "text": [
      "Knoten:\n",
      "['a', 'b', 'c', 'd', 'e', 'f', 'g', 'h', 'i']\n",
      "Adjazenzliste:\n",
      "{'a': ['b', 'c'], 'b': ['a', 'c', 'e'], 'c': ['a', 'b', 'd', 'f'], 'd': ['c', 'e', 'f'], 'e': ['b', 'd', 'g', 'h'], 'f': ['c', 'd', 'h'], 'g': ['e', 'h', 'i'], 'h': ['e', 'f', 'g', 'i'], 'i': ['g', 'h']}\n"
     ]
    }
   ],
   "source": [
    "A = {\n",
    "    'a': ['b', 'c'],\n",
    "    'b': ['a', 'c', 'e'],\n",
    "    'c': ['a', 'b', 'd', 'f'],\n",
    "    'd': ['c', 'e', 'f'],\n",
    "    'e': ['b', 'd', 'g', 'h'],\n",
    "    'f': ['c', 'd', 'h'],\n",
    "    'g': ['e', 'h', 'i'],\n",
    "    'h': ['e', 'f', 'g', 'i'],\n",
    "    'i': ['g', 'h']\n",
    "}\n",
    "G = Graph(A)\n",
    "\n",
    "print(\"Knoten:\")\n",
    "print(G.V)\n",
    "\n",
    "print(\"Adjazenzliste:\")\n",
    "print(G.Adj)"
   ]
  },
  {
   "cell_type": "markdown",
   "metadata": {
    "deletable": false,
    "editable": false,
    "nbgrader": {
     "cell_type": "markdown",
     "checksum": "d8e83c63e719f5f0a006b724bfe7771c",
     "grade": false,
     "grade_id": "cell-590df0fcffec45de",
     "locked": true,
     "schema_version": 3,
     "solution": false,
     "task": false
    }
   },
   "source": [
    "## a) initialize_single_source() - 2P.\n",
    "\n",
    "Zuerst soll die Funktion `initialize_single_source()` implementiert werden. Als Eingabe erwartet sie den Graphen `G`, sowie den Startknoten `s`. Die Funktion erstellt zwei Dictionaries die für jeden Knoten aus aus `G` einen Wert initialisieren. Im ersten Dictionary sollen die Distanzen zum Startknoten gespeichert werden. Initialisieren Sie alle Einträge bis auf den Startknoten mit `float(\"Inf\")`. Die Distanz des Startknotens wird mit 0 initialisiert. Das zweite Dictionary soll jeweils einen Verweis auf seine Vorgänger speichern. Initialisieren Sie hier alle Einträge vorerst mit `None`. Am Ende gibt die Funktion als erstes das Dictionary mit den Distanzen und als zweites das Dictionary mit den Vorgängern zurück. "
   ]
  },
  {
   "cell_type": "code",
   "execution_count": 113,
   "metadata": {
    "deletable": false,
    "nbgrader": {
     "cell_type": "code",
     "checksum": "69e579237d98598254648055bb802dee",
     "grade": false,
     "grade_id": "cell-069381514a7d2cfc",
     "locked": false,
     "schema_version": 3,
     "solution": true,
     "task": false
    }
   },
   "outputs": [],
   "source": [
    "def initialize_single_source(G, s):\n",
    "    distance = dict()\n",
    "    predecessor = dict()\n",
    "\n",
    "    for key in G.V:\n",
    "        distance[key] = float('inf')\n",
    "        if key == s:\n",
    "            distance[key] = 0\n",
    "        \n",
    "        predecessor[key] = None\n",
    "    \n",
    "    return distance, predecessor"
   ]
  },
  {
   "cell_type": "markdown",
   "metadata": {
    "deletable": false,
    "editable": false,
    "nbgrader": {
     "cell_type": "markdown",
     "checksum": "de85403e172eb6b06fee1889c0f7ee4f",
     "grade": false,
     "grade_id": "cell-f703a22636a4920f",
     "locked": true,
     "schema_version": 3,
     "solution": false,
     "task": false
    }
   },
   "source": [
    "## a) Tests"
   ]
  },
  {
   "cell_type": "code",
   "execution_count": 114,
   "metadata": {
    "deletable": false,
    "editable": false,
    "nbgrader": {
     "cell_type": "code",
     "checksum": "22f4573b51a8c0b5de51a0c39fcc585c",
     "grade": true,
     "grade_id": "cell-34c03b37cfc64efc",
     "locked": true,
     "points": 0,
     "schema_version": 3,
     "solution": false,
     "task": false
    }
   },
   "outputs": [],
   "source": [
    "# unittests"
   ]
  },
  {
   "cell_type": "code",
   "execution_count": 115,
   "metadata": {
    "deletable": false,
    "editable": false,
    "nbgrader": {
     "cell_type": "code",
     "checksum": "6024d3ff2fd060456af615e821c358d3",
     "grade": false,
     "grade_id": "cell-492852a22b34a715",
     "locked": true,
     "schema_version": 3,
     "solution": false,
     "task": false
    }
   },
   "outputs": [],
   "source": [
    "#helper functions\n",
    "def load_data_initialize_single_source(idx):\n",
    "    A = load_data(idx, \"A\")\n",
    "    s = load_data(idx, \"s\")\n",
    "    d = load_data(idx, \"d\")\n",
    "    p = load_data(idx, \"p\")\n",
    "    return A, s, d, p\n",
    "\n",
    "def test_initialize_single_source(A, s, d, p):\n",
    "    print(\"source is vertex:\", s)\n",
    "    G = Graph(A)\n",
    "    d_out, p_out = initialize_single_source(G, s)\n",
    "    assert_equal(d, d_out)\n",
    "    assert_equal(p, p_out)"
   ]
  },
  {
   "cell_type": "code",
   "execution_count": 116,
   "metadata": {
    "deletable": false,
    "editable": false,
    "nbgrader": {
     "cell_type": "code",
     "checksum": "bded5d86c4d48317116261a2209ee9c6",
     "grade": true,
     "grade_id": "cell-6ec2d9ab648de994",
     "locked": true,
     "points": 2,
     "schema_version": 3,
     "solution": false,
     "task": false
    }
   },
   "outputs": [
    {
     "name": "stdout",
     "output_type": "stream",
     "text": [
      "source is vertex: a\n"
     ]
    }
   ],
   "source": [
    "test_initialize_single_source(*load_data_initialize_single_source(1))"
   ]
  },
  {
   "cell_type": "code",
   "execution_count": 117,
   "metadata": {
    "deletable": false,
    "editable": false,
    "nbgrader": {
     "cell_type": "code",
     "checksum": "96f3eb0b8cee593382e7693fafe2ce82",
     "grade": true,
     "grade_id": "cell-9cbb5045e9d062d6",
     "locked": true,
     "points": 0,
     "schema_version": 3,
     "solution": false,
     "task": false
    }
   },
   "outputs": [
    {
     "name": "stdout",
     "output_type": "stream",
     "text": [
      "source is vertex: c\n"
     ]
    }
   ],
   "source": [
    "test_initialize_single_source(*load_data_initialize_single_source(2))"
   ]
  },
  {
   "cell_type": "code",
   "execution_count": 118,
   "metadata": {
    "deletable": false,
    "editable": false,
    "nbgrader": {
     "cell_type": "code",
     "checksum": "253023b00996ea15aafe8983a12f4e31",
     "grade": true,
     "grade_id": "cell-2cead76dc853434b",
     "locked": true,
     "points": 0,
     "schema_version": 3,
     "solution": false,
     "task": false
    }
   },
   "outputs": [
    {
     "name": "stdout",
     "output_type": "stream",
     "text": [
      "source is vertex: f\n"
     ]
    }
   ],
   "source": [
    "test_initialize_single_source(*load_data_initialize_single_source(3))"
   ]
  },
  {
   "cell_type": "markdown",
   "metadata": {
    "deletable": false,
    "editable": false,
    "nbgrader": {
     "cell_type": "markdown",
     "checksum": "9b17af5fa066a8688777444e1b035bb4",
     "grade": false,
     "grade_id": "cell-28e7b6dc886d1c6c",
     "locked": true,
     "schema_version": 3,
     "solution": false,
     "task": false
    }
   },
   "source": [
    "## b) relax() - 3P.\n",
    "\n",
    "Implementieren Sie die Funktion `relax()`, die für zwei gegebene Knoten `u` und `v` vergleicht, ob der Weg von dem Startknoten über `u` nach `v` kürzer ist, als der bisher kürzeste Weg von dem Startknoten zu `v`. Falls dies der Fall ist, so wird dieser Weg ausgewählt und die neue Distanz im Distanz-Dictionary `d` für den Knoten `v` gespeichert. Zusätzlich speichern wir in dem Vorgänger-Dictionary `p` den neuen Vorgänger-Knoten. Die Distanzen zwischen den Knoten werden durch die Gewichte `w` beschrieben."
   ]
  },
  {
   "cell_type": "code",
   "execution_count": 119,
   "metadata": {
    "deletable": false,
    "nbgrader": {
     "cell_type": "code",
     "checksum": "2238993e182fead55c44e8dd3e887dc8",
     "grade": false,
     "grade_id": "cell-4f0b806bb8d7d8df",
     "locked": false,
     "schema_version": 3,
     "solution": true,
     "task": false
    }
   },
   "outputs": [],
   "source": [
    "def relax(u, v, w, p, d):\n",
    "    if (u, v) in w and d[u] + w[(u, v)] < d[v]:\n",
    "        d[v] = d[u] + w[(u, v)]\n",
    "        p[v] = u"
   ]
  },
  {
   "cell_type": "markdown",
   "metadata": {
    "deletable": false,
    "editable": false,
    "nbgrader": {
     "cell_type": "markdown",
     "checksum": "1327f09a627a99a989715547c9046496",
     "grade": false,
     "grade_id": "cell-982e49ea77a9b3a8",
     "locked": true,
     "schema_version": 3,
     "solution": false,
     "task": false
    }
   },
   "source": [
    "## b) Tests"
   ]
  },
  {
   "cell_type": "code",
   "execution_count": 120,
   "metadata": {
    "deletable": false,
    "editable": false,
    "nbgrader": {
     "cell_type": "code",
     "checksum": "271fc2cf4eb6d2f952864e6ad9c30df3",
     "grade": true,
     "grade_id": "cell-232f133cd3e4ed51",
     "locked": true,
     "points": 0,
     "schema_version": 3,
     "solution": false,
     "task": false
    }
   },
   "outputs": [],
   "source": [
    "# unittests"
   ]
  },
  {
   "cell_type": "code",
   "execution_count": 121,
   "metadata": {
    "deletable": false,
    "editable": false,
    "nbgrader": {
     "cell_type": "code",
     "checksum": "3b24a0f79186c5f147791508522acfb8",
     "grade": false,
     "grade_id": "cell-e9f46549f4bc04b7",
     "locked": true,
     "schema_version": 3,
     "solution": false,
     "task": false
    }
   },
   "outputs": [],
   "source": [
    "def load_data_relax(idx):\n",
    "    u = load_data(idx, \"u\")\n",
    "    v = load_data(idx, \"v\")\n",
    "    w = load_data(idx, \"w\")\n",
    "    p_1 = load_data(idx, \"p_1\")\n",
    "    d_1 = load_data(idx, \"d_1\")\n",
    "    p_2 = load_data(idx, \"p_2\")\n",
    "    d_2 = load_data(idx, \"d_2\")\n",
    "    return u, v, w, p_1, d_1, p_2, d_2\n",
    "\n",
    "def test_relax(u, v, w, p_1, d_1, p_2, d_2):\n",
    "    relax(u, v, w, p_1, d_1)\n",
    "\n",
    "    print(\"p_groundtruth:\", p_2)\n",
    "    print(\"p            :\", p_1)\n",
    "\n",
    "    print(\"---------------------\")\n",
    "\n",
    "    print(\"d_groundtruth:\", d_2)\n",
    "    print(\"d            :\", d_1)\n",
    "\n",
    "    assert_equal(p_1, p_2)\n",
    "    assert_equal(d_2, d_2)\n",
    "    print(\"-- > correct!\")"
   ]
  },
  {
   "cell_type": "code",
   "execution_count": 122,
   "metadata": {
    "deletable": false,
    "editable": false,
    "nbgrader": {
     "cell_type": "code",
     "checksum": "411c7fd435c0e8b7a450fd3a58fad7ed",
     "grade": true,
     "grade_id": "cell-fe97d4d76f048d37",
     "locked": true,
     "points": 3,
     "schema_version": 3,
     "solution": false,
     "task": false
    }
   },
   "outputs": [
    {
     "name": "stdout",
     "output_type": "stream",
     "text": [
      "p_groundtruth: {'a': None, 'b': 'a', 'c': None}\n",
      "p            : {'a': None, 'b': 'a', 'c': None}\n",
      "---------------------\n",
      "d_groundtruth: {'a': 0, 'b': 5, 'c': inf}\n",
      "d            : {'a': 0, 'b': 5, 'c': inf}\n",
      "-- > correct!\n"
     ]
    }
   ],
   "source": [
    "test_relax(*load_data_relax(11))"
   ]
  },
  {
   "cell_type": "code",
   "execution_count": 123,
   "metadata": {
    "deletable": false,
    "editable": false,
    "nbgrader": {
     "cell_type": "code",
     "checksum": "f4a8e6c02f803baf7b75f1d7cfd02ce0",
     "grade": true,
     "grade_id": "cell-518a41b5d52dcf57",
     "locked": true,
     "points": 0,
     "schema_version": 3,
     "solution": false,
     "task": false
    }
   },
   "outputs": [
    {
     "name": "stdout",
     "output_type": "stream",
     "text": [
      "p_groundtruth: {'a': None, 'b': 'a', 'c': None, 'd': None}\n",
      "p            : {'a': None, 'b': 'a', 'c': None, 'd': None}\n",
      "---------------------\n",
      "d_groundtruth: {'a': 0, 'b': 5, 'c': inf, 'd': inf}\n",
      "d            : {'a': 0, 'b': 5, 'c': inf, 'd': inf}\n",
      "-- > correct!\n"
     ]
    }
   ],
   "source": [
    "test_relax(*load_data_relax(22))"
   ]
  },
  {
   "cell_type": "code",
   "execution_count": 124,
   "metadata": {
    "deletable": false,
    "editable": false,
    "nbgrader": {
     "cell_type": "code",
     "checksum": "3818ef0d1f1047392395f8b955941b5a",
     "grade": true,
     "grade_id": "cell-faea252351909601",
     "locked": true,
     "points": 0,
     "schema_version": 3,
     "solution": false,
     "task": false
    }
   },
   "outputs": [
    {
     "name": "stdout",
     "output_type": "stream",
     "text": [
      "p_groundtruth: {'a': None, 'b': 'a', 'c': 'a', 'd': None}\n",
      "p            : {'a': None, 'b': 'a', 'c': 'a', 'd': None}\n",
      "---------------------\n",
      "d_groundtruth: {'a': 0, 'b': 5, 'c': 5, 'd': inf}\n",
      "d            : {'a': 0, 'b': 5, 'c': 5, 'd': inf}\n",
      "-- > correct!\n"
     ]
    }
   ],
   "source": [
    "test_relax(*load_data_relax(33))"
   ]
  },
  {
   "cell_type": "markdown",
   "metadata": {
    "deletable": false,
    "editable": false,
    "nbgrader": {
     "cell_type": "markdown",
     "checksum": "a35b1823a69ee90ffdbadff40eaa6e83",
     "grade": false,
     "grade_id": "cell-775085908d7f24c6",
     "locked": true,
     "schema_version": 3,
     "solution": false,
     "task": false
    }
   },
   "source": [
    "## c) dijkstra() - 5P.\n",
    "\n",
    "Implementieren Sie abschließen die Funktion `dijkstra()`, die den Algorithmus von Dijkstra implementiert, um den kürzesten Weg von einem Knoten `s` zu jedem anderen Knoten in dem Graphen `G` zu berechnen. Zusätzlich bekommt die Funktion die positiven Kantengewichte `w` übergegeben. Orientieren Sie sich an dem in der Vorlesung vorgestellten Code.\n",
    "\n",
    "Hinweis: Sie dürfen die zuvor implementierten Funktionen `initialize_single_source()`, `extract_minimum()`, sowie `relax()` verwenden."
   ]
  },
  {
   "cell_type": "code",
   "execution_count": 125,
   "metadata": {
    "deletable": false,
    "nbgrader": {
     "cell_type": "code",
     "checksum": "3c76cda406932ba2d8a8d3054f641799",
     "grade": false,
     "grade_id": "cell-9f9633fdbc62213d",
     "locked": false,
     "schema_version": 3,
     "solution": true,
     "task": false
    }
   },
   "outputs": [],
   "source": [
    "def dijkstra(G, w, s):\n",
    "    distance, predecessor = initialize_single_source(G, s)\n",
    "    \n",
    "    Q = G.V\n",
    "    \n",
    "    while Q != []:\n",
    "        u, Q = extract_minimum(Q, distance)\n",
    "        for v in G.Adj[u]:\n",
    "            relax(u, v, w, predecessor, distance)\n",
    "    \n",
    "    return distance, predecessor"
   ]
  },
  {
   "cell_type": "markdown",
   "metadata": {
    "deletable": false,
    "editable": false,
    "nbgrader": {
     "cell_type": "markdown",
     "checksum": "9e6f3b1094563c45cf34baabb1b388b3",
     "grade": false,
     "grade_id": "cell-bc0f92b2a1984c94",
     "locked": true,
     "schema_version": 3,
     "solution": false,
     "task": false
    }
   },
   "source": [
    "## c) Tests"
   ]
  },
  {
   "cell_type": "code",
   "execution_count": null,
   "metadata": {
    "deletable": false,
    "editable": false,
    "nbgrader": {
     "cell_type": "code",
     "checksum": "106ce23e77650adc952b97c9234f3c6b",
     "grade": true,
     "grade_id": "cell-7beb2d2593bf1fa5",
     "locked": true,
     "points": 0,
     "schema_version": 3,
     "solution": false,
     "task": false
    }
   },
   "outputs": [],
   "source": []
  },
  {
   "cell_type": "code",
   "execution_count": 126,
   "metadata": {
    "deletable": false,
    "editable": false,
    "nbgrader": {
     "cell_type": "code",
     "checksum": "9cba5bbe869f065b1de3a91cb322de8c",
     "grade": false,
     "grade_id": "cell-a15cc31d8d40bbfe",
     "locked": true,
     "schema_version": 3,
     "solution": false,
     "task": false
    }
   },
   "outputs": [],
   "source": [
    "def load_data_dijkstra(idx):\n",
    "    A = load_data(idx, \"A\")\n",
    "    w = load_data(idx, \"w\")\n",
    "    s = load_data(idx, \"s\")\n",
    "    d = load_data(idx, \"d\")\n",
    "    p = load_data(idx, \"p\")\n",
    "    return A, w, s, d, p\n",
    "\n",
    "def test_dijkstra(A, w, s, d, p):\n",
    "    print(\"A:\", A)\n",
    "    print(\"s:\", s)\n",
    "    print(\"====================\")\n",
    "    G = Graph(A)\n",
    "    d_out, p_out = dijkstra(G, w, s)\n",
    "\n",
    "    print(\"d_ground_truth:\", d)\n",
    "    print(\"d             :\", d_out)\n",
    "    print(\"--------------------\")\n",
    "    print(\"p_ground_truth:\", p)\n",
    "    print(\"p             :\", p_out)\n",
    "\n",
    "    assert_equal(d, d_out)\n",
    "    assert_equal(p, p_out)"
   ]
  },
  {
   "cell_type": "code",
   "execution_count": 127,
   "metadata": {
    "deletable": false,
    "editable": false,
    "nbgrader": {
     "cell_type": "code",
     "checksum": "3d8d6fa48447dcd266c29ee399e52438",
     "grade": true,
     "grade_id": "cell-4a892ec1bf11e3ef",
     "locked": true,
     "points": 5,
     "schema_version": 3,
     "solution": false,
     "task": false
    }
   },
   "outputs": [
    {
     "name": "stdout",
     "output_type": "stream",
     "text": [
      "A: {'a': ['b', 'c'], 'b': ['a', 'c'], 'c': ['a', 'b', 'd'], 'd': ['c']}\n",
      "s: a\n",
      "====================\n",
      "d_ground_truth: {'a': 0, 'b': 5, 'c': 7, 'd': 22}\n",
      "d             : {'a': 0, 'b': 5, 'c': 7, 'd': 22}\n",
      "--------------------\n",
      "p_ground_truth: {'a': None, 'b': 'a', 'c': 'a', 'd': 'c'}\n",
      "p             : {'a': None, 'b': 'a', 'c': 'a', 'd': 'c'}\n"
     ]
    }
   ],
   "source": [
    "test_dijkstra(*load_data_dijkstra(111))"
   ]
  },
  {
   "cell_type": "code",
   "execution_count": 128,
   "metadata": {
    "deletable": false,
    "editable": false,
    "nbgrader": {
     "cell_type": "code",
     "checksum": "01683c0c7a660046758610bfed04a9b3",
     "grade": true,
     "grade_id": "cell-88e383fea5131516",
     "locked": true,
     "points": 0,
     "schema_version": 3,
     "solution": false,
     "task": false
    }
   },
   "outputs": [
    {
     "name": "stdout",
     "output_type": "stream",
     "text": [
      "A: {'a': ['b'], 'b': ['a'], 'c': ['a']}\n",
      "s: a\n",
      "====================\n",
      "d_ground_truth: {'a': 0, 'b': 5, 'c': inf}\n",
      "d             : {'a': 0, 'b': 5, 'c': inf}\n",
      "--------------------\n",
      "p_ground_truth: {'a': None, 'b': 'a', 'c': None}\n",
      "p             : {'a': None, 'b': 'a', 'c': None}\n"
     ]
    }
   ],
   "source": [
    "#c can not be reached starting from a\n",
    "test_dijkstra(*load_data_dijkstra(222))"
   ]
  },
  {
   "cell_type": "code",
   "execution_count": 129,
   "metadata": {
    "deletable": false,
    "editable": false,
    "nbgrader": {
     "cell_type": "code",
     "checksum": "f130d7937847641cc9730ead054daebc",
     "grade": true,
     "grade_id": "cell-c6dc70f053a83c31",
     "locked": true,
     "points": 0,
     "schema_version": 3,
     "solution": false,
     "task": false
    }
   },
   "outputs": [
    {
     "name": "stdout",
     "output_type": "stream",
     "text": [
      "A: {'a': ['b', 'c'], 'b': ['d'], 'c': ['d'], 'd': []}\n",
      "s: a\n",
      "====================\n",
      "d_ground_truth: {'a': 0, 'b': 5, 'c': 5, 'd': 6}\n",
      "d             : {'a': 0, 'b': 5, 'c': 5, 'd': 6}\n",
      "--------------------\n",
      "p_ground_truth: {'a': None, 'b': 'a', 'c': 'a', 'd': 'b'}\n",
      "p             : {'a': None, 'b': 'a', 'c': 'a', 'd': 'b'}\n"
     ]
    }
   ],
   "source": [
    "#a only has outgoing edges and d has only incoming edges\n",
    "test_dijkstra(*load_data_dijkstra(333))"
   ]
  },
  {
   "cell_type": "markdown",
   "metadata": {
    "deletable": false,
    "editable": false,
    "nbgrader": {
     "cell_type": "markdown",
     "checksum": "023d2b3004a00aa5625cc0591ddbad40",
     "grade": false,
     "grade_id": "cell-7ee4a2a39146ef4f",
     "locked": true,
     "points": 0,
     "schema_version": 3,
     "solution": false,
     "task": true
    }
   },
   "source": [
    "# Labyrinthe: Generieren und Lösen\n",
    "\n",
    "In dieser Aufgabe werden Sie verschiedene Algorithmen nutzen, um einfache Labyrinthe automatisch zu erzeugen und anschließend zu lösen. Sie dürfen in dieser Teilaufgabe Funktionen aus dem Package `networkx` verwenden, das verschiedene Algorithmen auf Graphen implementiert. Machen Sie sich zunächst mit `networkx` vertraut. Der untenstehende Code `visualize_maze()` implementiert die Visualisierung. Schwarze Linien stellen hier Pfade dar. Der Start `s` ist grün und das Ziel `t` ist rot markiert. Falls eine Lösung `p` übergeben wurde, wird dieser Weg als eine blaue Linie gezeichnet."
   ]
  },
  {
   "cell_type": "code",
   "execution_count": 130,
   "metadata": {
    "deletable": false,
    "editable": false,
    "nbgrader": {
     "cell_type": "code",
     "checksum": "6dc8396304d555290e1c0b64b80dec6f",
     "grade": false,
     "grade_id": "cell-8239e7786db6a5a5",
     "locked": true,
     "schema_version": 3,
     "solution": false,
     "task": false
    }
   },
   "outputs": [],
   "source": [
    "def visualize_maze(G, s, t, p = None):\n",
    "    # draw all edges of G\n",
    "    n_size = 5000 / G.number_of_nodes()\n",
    "    pos = dict( (n, n) for n in G.nodes() )\n",
    "    draw_networkx_edges(G, pos=pos)\n",
    "\n",
    "    # draw the source node in green\n",
    "    S = G.subgraph(s)\n",
    "    draw_networkx_nodes(S, pos, node_color=\"green\", node_size=n_size)\n",
    "\n",
    "    # draw the target node in red\n",
    "    T = G.subgraph(t)\n",
    "    draw_networkx_nodes(T, pos, node_color=\"red\", node_size=n_size)\n",
    "\n",
    "    if p is not None:\n",
    "        P = G.subgraph(p)\n",
    "        draw_networkx_edges(P, pos, edge_color=\"blue\", width=2)"
   ]
  },
  {
   "cell_type": "markdown",
   "metadata": {
    "deletable": false,
    "editable": false,
    "nbgrader": {
     "cell_type": "markdown",
     "checksum": "6c3e3abb342a2f398a8e818bbc2a516f",
     "grade": false,
     "grade_id": "cell-efb7817a5369011a",
     "locked": true,
     "schema_version": 3,
     "solution": false,
     "task": false
    }
   },
   "source": [
    "## a) create_maze() - 6P.\n",
    "\n",
    "Implementieren Sie die Funktion `create_maze()`, die ein zufälliges Labyrinth erstellt. Hierbei kann die Größe des Labyrinths über die zwei Eingabeparameter `horizontal_size` und `vertical_size` bestimmt werden. Das Erstellen des Labyrinths soll dabei wie folgt funktionieren: \n",
    "\n",
    "- Erstellen Sie einen regulären Graphen mit Hilfe der Funktion `grid_2d_graph()`.\n",
    "- Weisen Sie den Kanten zufällige Gewichte zu. Nutzen Sie dazu die Funktion `G.edges(data=True)`, die eine Liste von Tripeln der Form (node1, node2, edge) zurück gibt. Sie können auf die Gewichte zugreifen und sie verändern mit: `edge['weight']`. \n",
    "- Berechnen Sie den minimalen Spannbaum (MST = Minimum Spanning Tree) mit Hilfe der Funktion `minimum_spanning_tree()`. Hierbei soll der Startknoten in einer Ecke liegen und der Zielknoten in der gegenüberliegenden Ecke. Sie können hier z.B. den ersten und letzten Knoten im Graphen als Start- und Zielknoten wählen.\n",
    "\n",
    "Die Funktion soll das Labyrinth als einen Graphen, sowie den Start- und Zielknoten zurückgeben.\n",
    "\n",
    "Hinweis: Lesen Sie die Dokumentation von `networkx`, um mehr über die verwendeten Funktionen zu erfahren.\n",
    "\n",
    "In der folgenden Abbildung sehen Sie wie ein 4x4 Labyrinth in vier Schritten erstellt wird. Zunächst wird der Graph erstellt, dann werden zufällige Kantengewichte generiert, anschließend ein MST berechnet und letztendlich die Start- und Zielknoten ausgewählt:\n",
    "\n",
    "![create_maze_example](img/create_maze_example.png)"
   ]
  },
  {
   "cell_type": "code",
   "execution_count": 131,
   "metadata": {
    "deletable": false,
    "nbgrader": {
     "cell_type": "code",
     "checksum": "97a3a26a859b71707915aa1340bf9cc4",
     "grade": true,
     "grade_id": "cell-4bfffce5f3993260",
     "locked": false,
     "points": 6,
     "schema_version": 3,
     "solution": true,
     "task": false
    }
   },
   "outputs": [],
   "source": [
    "def create_maze(horizontal_size = 4, vertical_size=4):\n",
    "    # YOUR CODE HERE\n",
    "    grid = grid_2d_graph(horizontal_size, vertical_size)\n",
    "    edges = [edge[2] for edge in grid.edges(data=True)]\n",
    "\n",
    "    for edge in edges:\n",
    "        edge['weight'] = randint(1, 101)\n",
    "    \n",
    "    mst = minimum_spanning_tree(grid)\n",
    "    \n",
    "    return mst, (0,0), (horizontal_size-1, vertical_size-1)"
   ]
  },
  {
   "cell_type": "code",
   "execution_count": null,
   "metadata": {},
   "outputs": [],
   "source": []
  },
  {
   "cell_type": "markdown",
   "metadata": {
    "deletable": false,
    "editable": false,
    "nbgrader": {
     "cell_type": "markdown",
     "checksum": "b1b8ba2d09acfee738bbb5da6f26b010",
     "grade": false,
     "grade_id": "cell-008dac44d979db90",
     "locked": true,
     "schema_version": 3,
     "solution": false,
     "task": false
    }
   },
   "source": [
    "## a) Tests"
   ]
  },
  {
   "cell_type": "code",
   "execution_count": 132,
   "metadata": {
    "deletable": false,
    "editable": false,
    "nbgrader": {
     "cell_type": "code",
     "checksum": "e845d42b1910c92710a2cc19a7e18290",
     "grade": false,
     "grade_id": "cell-de85152209552b1f",
     "locked": true,
     "schema_version": 3,
     "solution": false,
     "task": false
    }
   },
   "outputs": [
    {
     "data": {
      "image/png": "[encoded data removed]",
      "text/plain": [
       "<Figure size 432x288 with 1 Axes>"
      ]
     },
     "metadata": {},
     "output_type": "display_data"
    }
   ],
   "source": [
    "# unittests\n",
    "G, s, t = create_maze(20, 10)\n",
    "visualize_maze(G, s, t)"
   ]
  },
  {
   "cell_type": "code",
   "execution_count": 133,
   "metadata": {
    "deletable": false,
    "editable": false,
    "nbgrader": {
     "cell_type": "code",
     "checksum": "aedf0671d1b3b6c6fc15e43b9d4b8ec7",
     "grade": false,
     "grade_id": "cell-4416f4675be3ea6f",
     "locked": true,
     "schema_version": 3,
     "solution": false,
     "task": false
    }
   },
   "outputs": [
    {
     "data": {
      "image/png": "[encoded data removed]",
      "text/plain": [
       "<Figure size 432x288 with 1 Axes>"
      ]
     },
     "metadata": {},
     "output_type": "display_data"
    }
   ],
   "source": [
    "# unittests\n",
    "G, s, t = create_maze(4, 4)\n",
    "visualize_maze(G, s, t)"
   ]
  },
  {
   "cell_type": "code",
   "execution_count": 134,
   "metadata": {
    "deletable": false,
    "editable": false,
    "nbgrader": {
     "cell_type": "code",
     "checksum": "1e723b015e3d08ed03b2ee45350e4595",
     "grade": false,
     "grade_id": "cell-58b4df285b7ce3d5",
     "locked": true,
     "schema_version": 3,
     "solution": false,
     "task": false
    }
   },
   "outputs": [
    {
     "data": {
      "image/png": "[encoded data removed]",
      "text/plain": [
       "<Figure size 432x288 with 1 Axes>"
      ]
     },
     "metadata": {},
     "output_type": "display_data"
    }
   ],
   "source": [
    "# unittests\n",
    "G, s, t = create_maze(2, 2)\n",
    "visualize_maze(G, s, t)"
   ]
  },
  {
   "cell_type": "code",
   "execution_count": 135,
   "metadata": {
    "deletable": false,
    "editable": false,
    "nbgrader": {
     "cell_type": "code",
     "checksum": "793631d42737916f8398a19275961d61",
     "grade": true,
     "grade_id": "cell-31b4e88cafc62a22",
     "locked": true,
     "points": 0,
     "schema_version": 3,
     "solution": false,
     "task": false
    }
   },
   "outputs": [],
   "source": [
    "# unittests"
   ]
  },
  {
   "cell_type": "code",
   "execution_count": 136,
   "metadata": {
    "deletable": false,
    "editable": false,
    "nbgrader": {
     "cell_type": "code",
     "checksum": "bea1b7c5ea8f330309c5e051e52b1b29",
     "grade": true,
     "grade_id": "cell-658c59112a3950d5",
     "locked": true,
     "points": 0,
     "schema_version": 3,
     "solution": false,
     "task": false
    }
   },
   "outputs": [],
   "source": [
    "# unittests"
   ]
  },
  {
   "cell_type": "code",
   "execution_count": 137,
   "metadata": {
    "deletable": false,
    "editable": false,
    "nbgrader": {
     "cell_type": "code",
     "checksum": "3fb398224268f50c2e90fdb142f1d47b",
     "grade": true,
     "grade_id": "cell-a0058f503feecb1a",
     "locked": true,
     "points": 0,
     "schema_version": 3,
     "solution": false,
     "task": false
    }
   },
   "outputs": [],
   "source": [
    "# unittests"
   ]
  },
  {
   "cell_type": "markdown",
   "metadata": {
    "deletable": false,
    "editable": false,
    "nbgrader": {
     "cell_type": "markdown",
     "checksum": "5437bb98799b11d1484c76ca86d58b62",
     "grade": false,
     "grade_id": "cell-6dd5317ee4824db7",
     "locked": true,
     "schema_version": 3,
     "solution": false,
     "task": false
    }
   },
   "source": [
    "## b) solve_maze() - 4P.\n",
    "\n",
    "Implementieren Sie die Funktion `solve_maze()`, die ein Labyrinth mit einem gegebenen Start- und einem Ziel-Knoten löst. Die Funktion soll eine Liste von Knoten, die den kurzestem Weg zwischen dem Start und dem Ziel beschreiben (inklusive des Start- und Ziel-Knotens) zurückgeben. Zusätzlich soll die Funktion die Länge des kürzesten Pfades zurückgeben. Der Abstand zwischen zwei direkt benachbarten Knoten auf dem Gitter beträgt hierbei immer `1`.\n",
    "\n",
    "Hinweis: Verwenden Sie die Funktion `shortest_path()` in Ihrer Implementierung, um den kürzesten Pfad zu berechnen.\n",
    "\n",
    "In der folgenden Abbildung sehen Sie den kürzesten Weg für ein zufälliges 300x150 Labyrinth mit einer Pfadlänge von 1191:\n",
    "![solve_maze_example](img/solve_maze_example.png)"
   ]
  },
  {
   "cell_type": "code",
   "execution_count": 138,
   "metadata": {
    "deletable": false,
    "nbgrader": {
     "cell_type": "code",
     "checksum": "ca46ec69d65f91369b746c9cd54b03fd",
     "grade": false,
     "grade_id": "cell-babcb38c691aee51",
     "locked": false,
     "schema_version": 3,
     "solution": true,
     "task": false
    }
   },
   "outputs": [],
   "source": [
    "def solve_maze(G, s, t):\n",
    "    sp = shortest_path(G, s, t)\n",
    "    return sp, len(sp) - 1"
   ]
  },
  {
   "cell_type": "markdown",
   "metadata": {
    "deletable": false,
    "editable": false,
    "nbgrader": {
     "cell_type": "markdown",
     "checksum": "712b699cbadd504abdb63d4971e1b418",
     "grade": false,
     "grade_id": "cell-19405b9a84894064",
     "locked": true,
     "schema_version": 3,
     "solution": false,
     "task": false
    }
   },
   "source": [
    "## b) Tests"
   ]
  },
  {
   "cell_type": "code",
   "execution_count": 139,
   "metadata": {
    "deletable": false,
    "editable": false,
    "nbgrader": {
     "cell_type": "code",
     "checksum": "c2e59748c90041ef86551a40ddfa21df",
     "grade": true,
     "grade_id": "cell-2938ad9455ca452d",
     "locked": true,
     "points": 0,
     "schema_version": 3,
     "solution": false,
     "task": false
    }
   },
   "outputs": [],
   "source": [
    "def test_random_maze(horizontal, vertical):\n",
    "    maze, begin, end = create_maze(horizontal, vertical)\n",
    "    path, path_length = solve_maze(maze, begin, end)\n",
    "    visualize_maze(maze, begin, end, path)\n",
    "    return path_length\n",
    "\n",
    "\n",
    "def test_solve_maze(maze, begin, end, path):\n",
    "    path_length = len(path) - 1\n",
    "    path_out, path_length_out = solve_maze(maze, begin, end)\n",
    "    visualize_maze(maze, begin, end, path_out)\n",
    "    assert_equal(path_length, path_length_out)\n",
    "    assert_equal(path_out, path)\n",
    "    \n",
    "\n",
    "def load_data_maze(idx):\n",
    "    maze = load_data(idx, \"maze\")\n",
    "    path = load_data(idx, \"path\")\n",
    "    begin = path[0]\n",
    "    end = path[-1]\n",
    "    return maze, begin, end, path\n"
   ]
  },
  {
   "cell_type": "code",
   "execution_count": 140,
   "metadata": {
    "deletable": false,
    "editable": false,
    "nbgrader": {
     "cell_type": "code",
     "checksum": "213fe4aae711910e8713efa5e13d1acc",
     "grade": false,
     "grade_id": "cell-5a6bc54f39cb7c98",
     "locked": true,
     "schema_version": 3,
     "solution": false,
     "task": false
    }
   },
   "outputs": [
    {
     "data": {
      "text/plain": [
       "19"
      ]
     },
     "execution_count": 140,
     "metadata": {},
     "output_type": "execute_result"
    },
    {
     "data": {
      "image/png": "[encoded data removed]",
      "text/plain": [
       "<Figure size 432x288 with 1 Axes>"
      ]
     },
     "metadata": {},
     "output_type": "display_data"
    }
   ],
   "source": [
    "test_random_maze(20, 1)"
   ]
  },
  {
   "cell_type": "code",
   "execution_count": 141,
   "metadata": {
    "deletable": false,
    "editable": false,
    "nbgrader": {
     "cell_type": "code",
     "checksum": "dcc193a2fad2c9a7bb5a5201c6d7222f",
     "grade": false,
     "grade_id": "cell-a8b246c4d5ebaae1",
     "locked": true,
     "schema_version": 3,
     "solution": false,
     "task": false
    }
   },
   "outputs": [
    {
     "data": {
      "text/plain": [
       "10"
      ]
     },
     "execution_count": 141,
     "metadata": {},
     "output_type": "execute_result"
    },
    {
     "data": {
      "image/png": "[encoded data removed]",
      "text/plain": [
       "<Figure size 432x288 with 1 Axes>"
      ]
     },
     "metadata": {},
     "output_type": "display_data"
    }
   ],
   "source": [
    "test_random_maze(10, 2)"
   ]
  },
  {
   "cell_type": "code",
   "execution_count": 170,
   "metadata": {
    "deletable": false,
    "editable": false,
    "nbgrader": {
     "cell_type": "code",
     "checksum": "5871f8c1afec1038312a093921f80aa1",
     "grade": false,
     "grade_id": "cell-07d41a2a575a1309",
     "locked": true,
     "schema_version": 3,
     "solution": false,
     "task": false
    }
   },
   "outputs": [
    {
     "data": {
      "text/plain": [
       "26"
      ]
     },
     "execution_count": 170,
     "metadata": {},
     "output_type": "execute_result"
    },
    {
     "data": {
      "image/png": "[encoded data removed]",
      "text/plain": [
       "<Figure size 432x288 with 1 Axes>"
      ]
     },
     "metadata": {},
     "output_type": "display_data"
    }
   ],
   "source": [
    "test_random_maze(13, 7)"
   ]
  },
  {
   "cell_type": "code",
   "execution_count": 156,
   "metadata": {
    "deletable": false,
    "editable": false,
    "nbgrader": {
     "cell_type": "code",
     "checksum": "7e7fe66758cae1fc1acfc08efa66362b",
     "grade": true,
     "grade_id": "cell-1604e54e40e1dffe",
     "locked": true,
     "points": 4,
     "schema_version": 3,
     "solution": false,
     "task": false
    }
   },
   "outputs": [
    {
     "data": {
      "image/png": "[encoded data removed]",
      "text/plain": [
       "<Figure size 432x288 with 1 Axes>"
      ]
     },
     "metadata": {},
     "output_type": "display_data"
    }
   ],
   "source": [
    "test_solve_maze(*load_data_maze(1111))"
   ]
  },
  {
   "cell_type": "code",
   "execution_count": 144,
   "metadata": {
    "deletable": false,
    "editable": false,
    "nbgrader": {
     "cell_type": "code",
     "checksum": "f240041083c2d7dcebeb12152fe4bcb1",
     "grade": true,
     "grade_id": "cell-8affb965618a99e5",
     "locked": true,
     "points": 0,
     "schema_version": 3,
     "solution": false,
     "task": false
    }
   },
   "outputs": [
    {
     "data": {
      "image/png": "[encoded data removed]",
      "text/plain": [
       "<Figure size 432x288 with 1 Axes>"
      ]
     },
     "metadata": {},
     "output_type": "display_data"
    }
   ],
   "source": [
    "test_solve_maze(*load_data_maze(2222))\n"
   ]
  },
  {
   "cell_type": "code",
   "execution_count": 145,
   "metadata": {
    "deletable": false,
    "editable": false,
    "nbgrader": {
     "cell_type": "code",
     "checksum": "0b7222f9b92c7b0921f49a8dea49ba81",
     "grade": true,
     "grade_id": "cell-ce59f326945f9736",
     "locked": true,
     "points": 0,
     "schema_version": 3,
     "solution": false,
     "task": false
    }
   },
   "outputs": [
    {
     "data": {
      "image/png": "[encoded data removed]",
      "text/plain": [
       "<Figure size 432x288 with 1 Axes>"
      ]
     },
     "metadata": {},
     "output_type": "display_data"
    }
   ],
   "source": [
    "test_solve_maze(*load_data_maze(3333))"
   ]
  },
  {
   "cell_type": "code",
   "execution_count": 146,
   "metadata": {
    "deletable": false,
    "editable": false,
    "nbgrader": {
     "cell_type": "code",
     "checksum": "a3b02a0f384191bfd601df1f75e092b1",
     "grade": true,
     "grade_id": "cell-fe6e876fadd8d371",
     "locked": true,
     "points": 0,
     "schema_version": 3,
     "solution": false,
     "task": false
    }
   },
   "outputs": [
    {
     "data": {
      "image/png": "[encoded data removed]",
      "text/plain": [
       "<Figure size 432x288 with 1 Axes>"
      ]
     },
     "metadata": {},
     "output_type": "display_data"
    }
   ],
   "source": [
    "test_solve_maze(*load_data_maze(4444))"
   ]
  },
  {
   "cell_type": "code",
   "execution_count": 147,
   "metadata": {
    "deletable": false,
    "editable": false,
    "nbgrader": {
     "cell_type": "code",
     "checksum": "0ad4c458f9ef9d4adb52f53ea8b5890e",
     "grade": true,
     "grade_id": "cell-45ed3ee895856358",
     "locked": true,
     "points": 0,
     "schema_version": 3,
     "solution": false,
     "task": false
    }
   },
   "outputs": [
    {
     "data": {
      "image/png": "[encoded data removed]",
      "text/plain": [
       "<Figure size 432x288 with 1 Axes>"
      ]
     },
     "metadata": {},
     "output_type": "display_data"
    }
   ],
   "source": [
    "test_solve_maze(*load_data_maze(5555))"
   ]
  },
  {
   "cell_type": "code",
   "execution_count": 148,
   "metadata": {
    "deletable": false,
    "editable": false,
    "nbgrader": {
     "cell_type": "code",
     "checksum": "01b403cb557458d9e72fc2832661f481",
     "grade": true,
     "grade_id": "cell-198b6ad7274f9aae",
     "locked": true,
     "points": 0,
     "schema_version": 3,
     "solution": false,
     "task": false
    }
   },
   "outputs": [
    {
     "data": {
      "image/png": "[encoded data removed]",
      "text/plain": [
       "<Figure size 432x288 with 1 Axes>"
      ]
     },
     "metadata": {},
     "output_type": "display_data"
    }
   ],
   "source": [
    "test_solve_maze(*load_data_maze(6666))"
   ]
  },
  {
   "cell_type": "markdown",
   "metadata": {
    "deletable": false,
    "editable": false,
    "nbgrader": {
     "cell_type": "markdown",
     "checksum": "b97ff9d57b123e6dee0160d384edd3b6",
     "grade": false,
     "grade_id": "cell-1b974b740c5bee36",
     "locked": true,
     "schema_version": 3,
     "solution": false,
     "task": false
    }
   },
   "source": [
    "## Jupyter Notebook Stolperfalle\n",
    "Bei der Benutzung von Jupyter Notebooks, wird der globale Zustand aller Variablen zwischen der Ausführung von verschiedenen Zellen erhalten. Dies ist auch der Fall, wenn Zellen gelöscht oder hinzugefügt werden.\n",
    "Um sicher zu gehen, dass nicht ausversehen notwendige Variablen überschrieben oder gelöscht wurden, kann der Befehl `Kernel -> Restart & Run All` ausgeführt werden."
   ]
  }
 ],
 "metadata": {
  "kernelspec": {
   "display_name": "Python 3.10.2 ('venv': venv)",
   "language": "python",
   "name": "python3"
  },
  "language_info": {
   "codemirror_mode": {
    "name": "ipython",
    "version": 3
   },
   "file_extension": ".py",
   "mimetype": "text/x-python",
   "name": "python",
   "nbconvert_exporter": "python",
   "pygments_lexer": "ipython3",
   "version": "3.10.2"
  },
  "varInspector": {
   "cols": {
    "lenName": 16,
    "lenType": 16,
    "lenVar": 40
   },
   "kernels_config": {
    "python": {
     "delete_cmd_postfix": "",
     "delete_cmd_prefix": "del ",
     "library": "var_list.py",
     "varRefreshCmd": "print(var_dic_list())"
    },
    "r": {
     "delete_cmd_postfix": ") ",
     "delete_cmd_prefix": "rm(",
     "library": "var_list.r",
     "varRefreshCmd": "cat(var_dic_list()) "
    }
   },
   "types_to_exclude": [
    "module",
    "function",
    "builtin_function_or_method",
    "instance",
    "_Feature"
   ],
   "window_display": false
  },
  "vscode": {
   "interpreter": {
    "hash": "bd2f0bc07c95d150693dac41446bc3ae1ab5a7e6f01fbabf4ed0d4297109f598"
   }
  }
 },
 "nbformat": 4,
 "nbformat_minor": 4
}
