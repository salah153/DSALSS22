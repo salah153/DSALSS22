{
 "cells": [
  {
   "cell_type": "markdown",
   "metadata": {},
   "source": [
    "# Datenstrukturen und Algorithmen\n",
    "\n",
    "## Praktische Aufgabe 2\n",
    "\n",
    "In dieser praktischen Aufgabe werden Sie sich mit Dynamischem Programmieren, sowie einfachen Sortierverfahren beschäftigen.\n",
    "Diese Aufgabe dient dazu die Konzepte aus der Vorlesung zu festigen und soll Ihnen dabei helfen ein Gefühl für die Funktionsweise der Sortieralgorithmen zu entwickeln. \n",
    "\n",
    "Die Abgaben werden mit der `nbgrader` Erweiterung korrigiert. Das System erwartet, dass der Code zum Lösen der Aufgaben nach der `#YOUR CODE HERE` Anweisung kommt. Außerdem darf die Zellenreihenfolge nicht geändert werden. Damit Sie selbst Ihre Lösungsvorschläge validieren können, werden Ihnen Unittests zur Verfügung gestellt. Beachten Sie, dass diese Tests keine Garantie sind für das Erreichen der vollen Punktzahl, da Sie nur einen Teil der Funktionalität überprüfen.\n",
    "\n",
    "Wichtig: Füllen Sie auch die erste Zelle mit dem Titel Abgabeteam vollständig aus. Dies ermöglicht uns auch bei technischen Problemen die Abgaben eindeutig zuordnen zu können. Ändern Sie außerdem nicht den Namen der Datei. \n",
    "\n",
    "**Übersicht der Aufgaben** (20 Punkte):\n",
    "\n",
    "1. **Dynamisches Programmieren** - insgesamt: 10 Punkte\n",
    "   - Matrix-Multiplikation - 10P.\n",
    "\n",
    "2. **Einfache Sortierverfahren** - insgesamt: 10 Punkte\n",
    "   - Selection-Sort - 4P.\n",
    "   - Insertion-Sort - 4P.\n",
    "   - Vergleich von Operationen - 2P.\n"
   ]
  },
  {
   "cell_type": "markdown",
   "metadata": {
    "deletable": false,
    "editable": false,
    "nbgrader": {
     "cell_type": "markdown",
     "checksum": "75be49d562fc81fca0ac423586962c48",
     "grade": false,
     "grade_id": "cell-7cf23d3c77998e55",
     "locked": true,
     "schema_version": 3,
     "solution": false,
     "task": false
    }
   },
   "source": [
    "## Abgabeteam\n",
    "Bitte füllen Sie die untenstehende Zelle aus mit \n",
    "\n",
    "Nummer des Tutoriums,\n",
    "\n",
    "Mohammed Al-Laktah 419664,\n",
    "\n",
    "Salah Atallah 414867, \n",
    "\n",
    "(Vorname Nachname Matrikelnummer 3)"
   ]
  },
  {
   "cell_type": "markdown",
   "metadata": {},
   "source": [
    "Tutorium Musterlösung\n",
    "\n",
    "Max Mustermann 123456\n",
    "\n",
    "Erika Mustermann 123457\n",
    "\n",
    "(Paul Mustermann 123458)"
   ]
  },
  {
   "cell_type": "markdown",
   "metadata": {},
   "source": [
    "## Module importieren\n",
    "Zuerst werden die benötigten Module importiert. Sie dürfen keine weiteren Module impotieren.\n",
    "\n",
    "Wenn in Ihrer Entwickungsumbegung (z.B Deepnote) bestimmte Module nicht verfügbar sind, dann kommentieren Sie die erste Zeile aus um die Module temporär in der Umgebung zu installieren. "
   ]
  },
  {
   "cell_type": "code",
   "execution_count": 3,
   "metadata": {
    "deletable": false,
    "editable": false,
    "nbgrader": {
     "cell_type": "code",
     "checksum": "854938a67c4e3a9bb49b10ecb4d0d5ff",
     "grade": false,
     "grade_id": "cell-722ce1bd53835509",
     "locked": true,
     "schema_version": 3,
     "solution": false,
     "task": false
    }
   },
   "outputs": [],
   "source": [
    "#%pip install pandas, rwth_nb, nose\n",
    "\n",
    "# unittests\n",
    "from nose.tools import assert_equal\n",
    "\n",
    "# measuring time\n",
    "from time import time\n",
    "\n",
    "# random numbers\n",
    "from random import randint\n",
    "\n",
    "# plotting\n",
    "import pandas as pd\n",
    "import rwth_nb.plots.mpl_decorations as rwth_plt"
   ]
  },
  {
   "cell_type": "markdown",
   "metadata": {
    "deletable": false,
    "editable": false,
    "nbgrader": {
     "cell_type": "markdown",
     "checksum": "28fe0d27441acb86b66b4aca472b725d",
     "grade": false,
     "grade_id": "cell-7a24f103e9444cfa",
     "locked": true,
     "schema_version": 3,
     "solution": false,
     "task": false
    }
   },
   "source": [
    "# Dynamisches Programmieren\n",
    "\n",
    "Im Folgenden sollen Sie den in der Vorlesung vorgestellten Code modifizieren, um nicht nur die minimale Anzahl an Skalarmultiplikationen auszurechnen, sondern auch die korrekte Klammerung auszugeben."
   ]
  },
  {
   "cell_type": "markdown",
   "metadata": {
    "deletable": false,
    "editable": false,
    "nbgrader": {
     "cell_type": "markdown",
     "checksum": "76877113669b7af4f3b3dfd9685d1865",
     "grade": false,
     "grade_id": "cell-60f745fa86b04bcb",
     "locked": true,
     "schema_version": 3,
     "solution": false,
     "task": false
    }
   },
   "source": [
    "## a) matrix_multiplication() - 10P.\n",
    "\n",
    "Erweitern Sie den in der Vorlesung vorgestellten Code um eine Matrix `S`, in der Sie zusätzliche speichern, welche Kombination der Teillösungen Sie in jeder Teillösung ausgewählt haben. Diese Matrix soll für jede Teillösung die Klammerung der Matritzen mit ihren Namen speichern, die zu einer minimalen Anzahl an Skalarmultiplikationen führt.\n",
    "\n",
    "Bitte beachten Sie zusätzlich, dass Sie jetzt nicht einen Vektor `r` als Eingabe bekommen, sondern ein Dictionary `R` in dem der Name, sowie die Dimension der Matrix als Key und Value angegeben werden. Initialisieren Sie zunächst den Vektor `r`, sowie die Matritzen `M` und `S` mit der richtigen Werten, bevor Sie mit der Berechnung beginnen. Die Matritzen in `R` sollen der Reihe nach miteinander multipliziert werden. Die Matrix `S` soll die Namen der Matritzen, sowie deren korrekte Klammerung beinhalten. Geben Sie am Ende der Berechnung sowohl die Matrix `M`, als auch `S` aus.\n",
    "\n",
    "Die folgende Abbildung zeigt das Verhalten der Funktion _matrix_multiplication()_ an einem Beispiel:\n",
    "```\n",
    "Eingabe:\n",
    "R = {'A': (10, 1), 'B': (1, 10), 'C': (10, 1)}\n",
    "\n",
    "Ausgabe:\n",
    "M = [[0, 100, 20], [None, 0, 10], [None, None, 0]]\n",
    "S = [['A', '(AB)', '(A(BC))'], [None, 'B', '(BC)'], [None, None, 'C']]\n",
    "\n",
    "\n",
    "Eingabe:\n",
    "R = {'A': (30, 1), 'B': (1, 40), 'C': (40, 10), 'D': (10, 25)}\n",
    "\n",
    "Ausgabe:\n",
    "M = [[0, 1200, 700, 1400], [None, 0, 400, 650], [None, None, 0, 10000], [None, None, None, 0]]\n",
    "S = [['A', '(AB)', '(A(BC))', '(A((BC)D))'], [None, 'B', '(BC)', '((BC)D)'], [None, None, 'C', '(CD)'], [None, None, None, 'D']]\n",
    "```\n",
    "\n",
    "Sie dürfen/sollen in dieser Aufgabe die Listen benutzen die von Python zur Verfügung gestellt werden."
   ]
  },
  {
   "cell_type": "code",
   "execution_count": 7,
   "metadata": {
    "deletable": false,
    "nbgrader": {
     "cell_type": "code",
     "checksum": "cde5ac5298d5dec8b9e6c8cad4bcc058",
     "grade": false,
     "grade_id": "cell-1fddeb76cceb3ff4",
     "locked": false,
     "schema_version": 3,
     "solution": true,
     "task": false
    }
   },
   "outputs": [],
   "source": [
    "def matrix_multiplication(R):\n",
    "    n = len(R)    \n",
    "    M = [x[:] for x in n * [n * [None]]]\n",
    "    S = [x[:] for x in n * [n * [None]]]\n",
    "\n",
    "    # YOUR CODE HERE\n",
    "    \n",
    "    # raise NotImplementedError()\n",
    "\n",
    "    return M, S"
   ]
  },
  {
   "cell_type": "code",
   "execution_count": 35,
   "metadata": {
    "deletable": false,
    "editable": false,
    "nbgrader": {
     "cell_type": "code",
     "checksum": "19f60c8bdcd91f673f1d8e2ef391913b",
     "grade": true,
     "grade_id": "cell-88e48719b0bd873b",
     "locked": true,
     "points": 10,
     "schema_version": 3,
     "solution": false,
     "task": false
    }
   },
   "outputs": [
    {
     "ename": "AssertionError",
     "evalue": "'[[None, None, None], [None, None, None], [None, None, None]]' != '[[0, 100, 20], [None, 0, 10], [None, None, 0]]'\n- [[None, None, None], [None, None, None], [None, None, None]]\n+ [[0, 100, 20], [None, 0, 10], [None, None, 0]]\n",
     "output_type": "error",
     "traceback": [
      "\u001b[1;31m---------------------------------------------------------------------------\u001b[0m",
      "\u001b[1;31mAssertionError\u001b[0m                            Traceback (most recent call last)",
      "\u001b[1;32mc:\\github.com\\meesyice\\DSALSS22\\Abgabe4\\blatt04-python.ipynb Cell 9'\u001b[0m in \u001b[0;36m<cell line: 11>\u001b[1;34m()\u001b[0m\n\u001b[0;32m      <a href='vscode-notebook-cell:/c%3A/github.com/meesyice/DSALSS22/Abgabe4/blatt04-python.ipynb#ch0000008?line=8'>9</a>\u001b[0m M_groundtruth \u001b[39m=\u001b[39m [[\u001b[39m0\u001b[39m, \u001b[39m100\u001b[39m, \u001b[39m20\u001b[39m], [\u001b[39mNone\u001b[39;00m, \u001b[39m0\u001b[39m, \u001b[39m10\u001b[39m], [\u001b[39mNone\u001b[39;00m, \u001b[39mNone\u001b[39;00m, \u001b[39m0\u001b[39m]]\n\u001b[0;32m     <a href='vscode-notebook-cell:/c%3A/github.com/meesyice/DSALSS22/Abgabe4/blatt04-python.ipynb#ch0000008?line=9'>10</a>\u001b[0m S_groundtruth \u001b[39m=\u001b[39m [[\u001b[39m'\u001b[39m\u001b[39mA\u001b[39m\u001b[39m'\u001b[39m, \u001b[39m'\u001b[39m\u001b[39m(AB)\u001b[39m\u001b[39m'\u001b[39m, \u001b[39m'\u001b[39m\u001b[39m(A(BC))\u001b[39m\u001b[39m'\u001b[39m], [\u001b[39mNone\u001b[39;00m, \u001b[39m'\u001b[39m\u001b[39mB\u001b[39m\u001b[39m'\u001b[39m, \u001b[39m'\u001b[39m\u001b[39m(BC)\u001b[39m\u001b[39m'\u001b[39m], [\u001b[39mNone\u001b[39;00m, \u001b[39mNone\u001b[39;00m, \u001b[39m'\u001b[39m\u001b[39mC\u001b[39m\u001b[39m'\u001b[39m]]\n\u001b[1;32m---> <a href='vscode-notebook-cell:/c%3A/github.com/meesyice/DSALSS22/Abgabe4/blatt04-python.ipynb#ch0000008?line=10'>11</a>\u001b[0m assert_equal(\u001b[39mstr\u001b[39;49m(M), \u001b[39mstr\u001b[39;49m(M_groundtruth))\n\u001b[0;32m     <a href='vscode-notebook-cell:/c%3A/github.com/meesyice/DSALSS22/Abgabe4/blatt04-python.ipynb#ch0000008?line=11'>12</a>\u001b[0m assert_equal(\u001b[39mstr\u001b[39m(S), \u001b[39mstr\u001b[39m(S_groundtruth))\n\u001b[0;32m     <a href='vscode-notebook-cell:/c%3A/github.com/meesyice/DSALSS22/Abgabe4/blatt04-python.ipynb#ch0000008?line=14'>15</a>\u001b[0m \u001b[39m#test2\u001b[39;00m\n",
      "File \u001b[1;32m~\\AppData\\Local\\Programs\\Python\\Python310\\lib\\unittest\\case.py:845\u001b[0m, in \u001b[0;36mTestCase.assertEqual\u001b[1;34m(self, first, second, msg)\u001b[0m\n\u001b[0;32m    <a href='file:///c%3A/Users/Meesy/AppData/Local/Programs/Python/Python310/lib/unittest/case.py?line=840'>841</a>\u001b[0m \u001b[39m\"\"\"Fail if the two objects are unequal as determined by the '=='\u001b[39;00m\n\u001b[0;32m    <a href='file:///c%3A/Users/Meesy/AppData/Local/Programs/Python/Python310/lib/unittest/case.py?line=841'>842</a>\u001b[0m \u001b[39m   operator.\u001b[39;00m\n\u001b[0;32m    <a href='file:///c%3A/Users/Meesy/AppData/Local/Programs/Python/Python310/lib/unittest/case.py?line=842'>843</a>\u001b[0m \u001b[39m\"\"\"\u001b[39;00m\n\u001b[0;32m    <a href='file:///c%3A/Users/Meesy/AppData/Local/Programs/Python/Python310/lib/unittest/case.py?line=843'>844</a>\u001b[0m assertion_func \u001b[39m=\u001b[39m \u001b[39mself\u001b[39m\u001b[39m.\u001b[39m_getAssertEqualityFunc(first, second)\n\u001b[1;32m--> <a href='file:///c%3A/Users/Meesy/AppData/Local/Programs/Python/Python310/lib/unittest/case.py?line=844'>845</a>\u001b[0m assertion_func(first, second, msg\u001b[39m=\u001b[39;49mmsg)\n",
      "File \u001b[1;32m~\\AppData\\Local\\Programs\\Python\\Python310\\lib\\unittest\\case.py:1226\u001b[0m, in \u001b[0;36mTestCase.assertMultiLineEqual\u001b[1;34m(self, first, second, msg)\u001b[0m\n\u001b[0;32m   <a href='file:///c%3A/Users/Meesy/AppData/Local/Programs/Python/Python310/lib/unittest/case.py?line=1223'>1224</a>\u001b[0m diff \u001b[39m=\u001b[39m \u001b[39m'\u001b[39m\u001b[39m\\n\u001b[39;00m\u001b[39m'\u001b[39m \u001b[39m+\u001b[39m \u001b[39m'\u001b[39m\u001b[39m'\u001b[39m\u001b[39m.\u001b[39mjoin(difflib\u001b[39m.\u001b[39mndiff(firstlines, secondlines))\n\u001b[0;32m   <a href='file:///c%3A/Users/Meesy/AppData/Local/Programs/Python/Python310/lib/unittest/case.py?line=1224'>1225</a>\u001b[0m standardMsg \u001b[39m=\u001b[39m \u001b[39mself\u001b[39m\u001b[39m.\u001b[39m_truncateMessage(standardMsg, diff)\n\u001b[1;32m-> <a href='file:///c%3A/Users/Meesy/AppData/Local/Programs/Python/Python310/lib/unittest/case.py?line=1225'>1226</a>\u001b[0m \u001b[39mself\u001b[39;49m\u001b[39m.\u001b[39;49mfail(\u001b[39mself\u001b[39;49m\u001b[39m.\u001b[39;49m_formatMessage(msg, standardMsg))\n",
      "File \u001b[1;32m~\\AppData\\Local\\Programs\\Python\\Python310\\lib\\unittest\\case.py:675\u001b[0m, in \u001b[0;36mTestCase.fail\u001b[1;34m(self, msg)\u001b[0m\n\u001b[0;32m    <a href='file:///c%3A/Users/Meesy/AppData/Local/Programs/Python/Python310/lib/unittest/case.py?line=672'>673</a>\u001b[0m \u001b[39mdef\u001b[39;00m \u001b[39mfail\u001b[39m(\u001b[39mself\u001b[39m, msg\u001b[39m=\u001b[39m\u001b[39mNone\u001b[39;00m):\n\u001b[0;32m    <a href='file:///c%3A/Users/Meesy/AppData/Local/Programs/Python/Python310/lib/unittest/case.py?line=673'>674</a>\u001b[0m     \u001b[39m\"\"\"Fail immediately, with the given message.\"\"\"\u001b[39;00m\n\u001b[1;32m--> <a href='file:///c%3A/Users/Meesy/AppData/Local/Programs/Python/Python310/lib/unittest/case.py?line=674'>675</a>\u001b[0m     \u001b[39mraise\u001b[39;00m \u001b[39mself\u001b[39m\u001b[39m.\u001b[39mfailureException(msg)\n",
      "\u001b[1;31mAssertionError\u001b[0m: '[[None, None, None], [None, None, None], [None, None, None]]' != '[[0, 100, 20], [None, 0, 10], [None, None, 0]]'\n- [[None, None, None], [None, None, None], [None, None, None]]\n+ [[0, 100, 20], [None, 0, 10], [None, None, 0]]\n"
     ]
    }
   ],
   "source": [
    "#general case\n",
    "#test1\n",
    "R = {\n",
    "    \"A\": (10, 1),\n",
    "    \"B\": (1, 10),\n",
    "    \"C\": (10, 1),\n",
    "}\n",
    "M, S = matrix_multiplication(R)\n",
    "M_groundtruth = [[0, 100, 20], [None, 0, 10], [None, None, 0]]\n",
    "S_groundtruth = [['A', '(AB)', '(A(BC))'], [None, 'B', '(BC)'], [None, None, 'C']]\n",
    "assert_equal(str(M), str(M_groundtruth))\n",
    "assert_equal(str(S), str(S_groundtruth))\n",
    "\n",
    "\n",
    "#test2\n",
    "R = {\n",
    "    \"A\": (20, 5),\n",
    "    \"B\": (5, 70),\n",
    "    \"C\": (70, 5),\n",
    "    \"D\": (5, 5),\n",
    "}\n",
    "M, S = matrix_multiplication(R)\n",
    "M_groundtruth = [[0, 7000, 2250, 2375], [None, 0, 1750, 1875], [None, None, 0, 1750], [None, None, None, 0]]\n",
    "S_groundtruth = [['A', '(AB)', '(A(BC))', '(A((BC)D))'], [None, 'B', '(BC)', '((BC)D)'], [None, None, 'C', '(CD)'], [None, None, None, 'D']]\n",
    "assert_equal(str(M), str(M_groundtruth))\n",
    "assert_equal(str(S), str(S_groundtruth))\n"
   ]
  },
  {
   "cell_type": "markdown",
   "metadata": {
    "deletable": false,
    "editable": false,
    "nbgrader": {
     "cell_type": "markdown",
     "checksum": "9802ab7ed413fa12d2d05e9cd842ba32",
     "grade": false,
     "grade_id": "cell-3766a69fa04a4ccd",
     "locked": true,
     "schema_version": 3,
     "solution": false,
     "task": false
    }
   },
   "source": [
    "# Einfache Sortierverfahren\n",
    "\n",
    "Der folgende Code implementiert das Bubble-Sort Verfahren in der Methode _`bubble_sort()`_. Beachten Sie, dass als Datenstruktur die vorimplementierten Listen von Python verwendet werden. Zusätzlich werden die Zahlen nicht aufsteigend, sondern absteigend sortiert.\n",
    "\n",
    "Ihre Aufgabe ist es zwei weitere Sortierverfahren, Insertion-Sort und Selection-Sort, zu implementieren. Dies soll in den jeweiligen Methode  _`selection_sort()`_ und _`insertion_sort()`_ passieren. Anschließend sollen die Algorithmen bezüglich ihrer Laufzeit, sowie der Anzahl an Vergleichs- und Kopieroperationen verglichen werden.\n",
    "\n",
    "Beachten Sie, dass die Methoden die übergebenen Listen direkt modifizieren sollen, weshalb die sortierte Liste nicht zurückgegeben werden muss.\n",
    "\n",
    "Die zwei Variablen `cmp_ops` und `cpy_ops` werden benutzt um die Anzahl von Vergleichs- und Kopieroperationen innerhalb eines Aufrufs zu zählen. Vergleiche von Indizes werden in der folgenden Analyse vernachlässigt. Die Werte für die Operationen werden nach dem Sortieren zurückgegeben und können für die Auswertung im letzten Aufgabenteil genutzt werden."
   ]
  },
  {
   "cell_type": "code",
   "execution_count": 36,
   "metadata": {
    "deletable": false,
    "editable": false,
    "nbgrader": {
     "cell_type": "code",
     "checksum": "9133023361a09b9d83a5b886c7bf901a",
     "grade": false,
     "grade_id": "cell-9529736e9ff6e7ed",
     "locked": true,
     "schema_version": 3,
     "solution": false,
     "task": false
    }
   },
   "outputs": [],
   "source": [
    "def bubble_sort(a):\n",
    "    cmp_ops = 0  # number of compare operations\n",
    "    cpy_ops = 0  # number of copy operations\n",
    "\n",
    "    i = 0\n",
    "    n = len(a)\n",
    "    while i < n - 1:\n",
    "        j = n - 1\n",
    "        while j > i:\n",
    "            cmp_ops += 1\n",
    "            if a[j] > a[j - 1]:\n",
    "                cpy_ops += 2\n",
    "                a[j], a[j - 1] = a[j - 1], a[j]\n",
    "            j -= 1\n",
    "        i += 1\n",
    "\n",
    "    return cmp_ops, cpy_ops"
   ]
  },
  {
   "cell_type": "code",
   "execution_count": 37,
   "metadata": {
    "deletable": false,
    "editable": false,
    "nbgrader": {
     "cell_type": "code",
     "checksum": "0330f4a351eec0c91bfa8180cc5521f5",
     "grade": false,
     "grade_id": "cell-a60de2332094800e",
     "locked": true,
     "schema_version": 3,
     "solution": false,
     "task": false
    }
   },
   "outputs": [
    {
     "name": "stdout",
     "output_type": "stream",
     "text": [
      "Unsortierte Liste:\n",
      "[8, 0, 1, 7, 4, 7, 4, 9, 6, 1]\n",
      "Sortierte Liste:\n",
      "[9, 8, 7, 7, 6, 4, 4, 1, 1, 0]\n",
      "Vergleichs- & Kopieroperationen:\n",
      "45, 44\n"
     ]
    }
   ],
   "source": [
    "a = [randint(0, 10) for _ in range(10)]\n",
    "print(f\"Unsortierte Liste:\\n{a}\")\n",
    "\n",
    "cmp, cpy = bubble_sort(a)\n",
    "print(f\"Sortierte Liste:\\n{a}\")\n",
    "print(f\"Vergleichs- & Kopieroperationen:\\n{cmp}, {cpy}\")"
   ]
  },
  {
   "cell_type": "markdown",
   "metadata": {
    "deletable": false,
    "editable": false,
    "nbgrader": {
     "cell_type": "markdown",
     "checksum": "e77818dd3491489c42dc9ee403b84a42",
     "grade": false,
     "grade_id": "cell-baf057a6b5f06182",
     "locked": true,
     "schema_version": 3,
     "solution": false,
     "task": false
    }
   },
   "source": [
    "Implementieren Sie die Functionen _`selection_sort()`_ und _`insertion_sort()`_ in den unten stehenden Zellen.\n",
    "\n",
    "## a) _selection_sort()_ - 4P.\n",
    "\n",
    "Die Function _selection_sort()_ soll den Selection-Sort Algorithmus aus der Vorlesung implementieren. Die Funktion erwartet eine beliebige Liste als Eingabe, welche dann sortiert werden soll. Die Liste soll absteigend sortiert werden. Zusätzlich sollen die Anzahl der Vergleichs- und Kopieroperationen gezählt werden und am Ende der Funktion zurückgeben. \n",
    "\n",
    "Orientieren Sie sich bei Ihrer Implementierung an dem Pseudocode, der in der Vorlesung vorgestellt worden ist, sowie an der Funktion _bubble_sort()_. Bitte beachten Sie, dass es insbesondere nicht erlaubt ist die Liste zuerst aufsteigend zu sortieren und in einem zweiten Schritt die Reihenfolge der Zahlen zu ändern. Ihr Algorithmus soll direkt beim Durchlauf die Zahlen absteigend sortieren. Sie dürfen die vordefinierten Listen von Python benutzen, zusätzlich dürfen Sie die Funktion len() verwenden. Alle anderen Funktionen dürfen Sie nicht benutzen, so auch nicht die Funktion sort() oder reverse(). "
   ]
  },
  {
   "cell_type": "code",
   "execution_count": 38,
   "metadata": {
    "deletable": false,
    "nbgrader": {
     "cell_type": "code",
     "checksum": "9d6f741659ccdb4480d0c8bc8656ae4e",
     "grade": false,
     "grade_id": "cell-aa6638b53e1d0386",
     "locked": false,
     "schema_version": 3,
     "solution": true,
     "task": false
    }
   },
   "outputs": [],
   "source": [
    "def selection_sort(a):\n",
    "    cmp_ops = 0  # number of compare operations\n",
    "    cpy_ops = 0  # number of copy operations\n",
    "\n",
    "    # YOUR CODE HERE\n",
    "    n = len(a)\n",
    "    for i in range(0,n-1):\n",
    "        max = i\n",
    "        for j in range(i+1,n):\n",
    "            if a[j] > a[max]:\n",
    "                max = j\n",
    "                cmp_ops += 10\n",
    "            else:\n",
    "                cmp_ops += 1\n",
    "        tmp = a[i]\n",
    "        a[i] = a[max]\n",
    "        a[max] = tmp\n",
    "        cpy_ops += 2\n",
    "                \n",
    "        \n",
    "    # raise NotImplementedError()\n",
    "    return cmp_ops, cpy_ops"
   ]
  },
  {
   "cell_type": "markdown",
   "metadata": {
    "deletable": false,
    "editable": false,
    "nbgrader": {
     "cell_type": "markdown",
     "checksum": "5af623c8bbd4cc08261816046b511b4c",
     "grade": false,
     "grade_id": "cell-9cdfbcd675ea30ca",
     "locked": true,
     "schema_version": 3,
     "solution": false,
     "task": false
    }
   },
   "source": [
    "## a) - Test Cases"
   ]
  },
  {
   "cell_type": "code",
   "execution_count": 39,
   "metadata": {
    "deletable": false,
    "editable": false,
    "nbgrader": {
     "cell_type": "code",
     "checksum": "2f3e87ad1aafd14b57fb63e37e108967",
     "grade": true,
     "grade_id": "cell-c4d6b7e04ad407ae",
     "locked": true,
     "points": 4,
     "schema_version": 3,
     "solution": false,
     "task": false
    }
   },
   "outputs": [
    {
     "name": "stdout",
     "output_type": "stream",
     "text": [
      "Unsortierte Liste:\n",
      "[7, 4, 5, 4, 4, 10, 1, 5, 9, 10]\n",
      "Sortierte Liste:\n",
      "[10, 10, 9, 7, 5, 5, 4, 4, 4, 1]\n",
      "Vergleichs- & Kopieroperationen:\n",
      "162, 18\n"
     ]
    }
   ],
   "source": [
    "# public unittests\n",
    "# test if list is sorted after function call\n",
    "l_unsorted = [0, 1, 2, 3, 4, 5, 6, 7, 8, 9]\n",
    "l_sorted = [9, 8, 7, 6, 5, 4, 3, 2, 1, 0]\n",
    "selection_sort(l_unsorted)\n",
    "assert_equal(str(l_unsorted), str(l_sorted))\n",
    "\n",
    "l_unsorted = ['asd', 'qwe', 'fgh', 'iop']\n",
    "l_sorted = ['qwe', 'iop', 'fgh', 'asd']\n",
    "selection_sort(l_unsorted)\n",
    "assert_equal(str(l_unsorted), str(l_sorted))\n",
    "\n",
    "#check yourself if the list is ordered in a descending order\n",
    "a = [randint(0, 10) for _ in range(10)]\n",
    "print(f\"Unsortierte Liste:\\n{a}\")\n",
    "\n",
    "cmp, cpy = selection_sort(a)\n",
    "print(f\"Sortierte Liste:\\n{a}\")\n",
    "print(f\"Vergleichs- & Kopieroperationen:\\n{cmp}, {cpy}\")\n"
   ]
  },
  {
   "cell_type": "markdown",
   "metadata": {
    "deletable": false,
    "editable": false,
    "nbgrader": {
     "cell_type": "markdown",
     "checksum": "c40604d5244c0a8d5c01c1f7d7f66661",
     "grade": false,
     "grade_id": "cell-0644bffe29daee43",
     "locked": true,
     "schema_version": 3,
     "solution": false,
     "task": false
    }
   },
   "source": [
    "## b) _insertion_sort()_ - 4P.\n",
    "\n",
    "Die Function _insertion_sort()_ soll den Insertion-Sort Algorithmus aus der Vorlesung implementieren, allerdings soll die Liste absteigend sortiert werden. Sie bekommen eine sortierte oder unsortierte Liste als Eingabe und sollen diese sortieren. Zusätzlich sollen Sie die Anzahl der Vergleichs- und Kopieroperationen in ihrem Algorithmus zählen und am Ende der Funktion zurückgeben. \n",
    "\n",
    "Bitte orientieren Sie sich in Ihrer Implementierung an dem Pseudocode, der in der Vorlesung vorgestellt worden ist, sowie an der Funktion _bubble_sort()_. Bitte beachten Sie zusätzlich, dass es insbesondere nicht erlaubt ist die Liste zuerst aufsteigend zu sortieren und in einem zweiten Schritt die Reihenfolge der Zahlen zu ändern. Ihr Algorithmus soll direkt beim Durchlauf die Zahlen absteigend einsortieren."
   ]
  },
  {
   "cell_type": "code",
   "execution_count": 49,
   "metadata": {
    "deletable": false,
    "nbgrader": {
     "cell_type": "code",
     "checksum": "04e0f1ba180581de7a3d0dbd44101086",
     "grade": false,
     "grade_id": "cell-de5f106794a3af12",
     "locked": false,
     "schema_version": 3,
     "solution": true,
     "task": false
    }
   },
   "outputs": [],
   "source": [
    "def insertion_sort(a):\n",
    "    cmp_ops = 0  # number of compare operations\n",
    "    cpy_ops = 0  # number of copy operations\n",
    "\n",
    "    # YOUR CODE HERE\n",
    "    n = len(a)\n",
    "    for i in range(1,n):\n",
    "        key = a[i]\n",
    "        j= i-1\n",
    "        while j>= 0 and key > a[j]:\n",
    "            cmp_ops += 1\n",
    "            a[j + 1] = a[j]\n",
    "            cpy_ops += 1\n",
    "            j -= 1\n",
    "        a[j + 1] = key\n",
    "        cpy_ops += 1\n",
    "        \n",
    "\n",
    "    # raise NotImplementedError()\n",
    "    return cmp_ops, cpy_ops"
   ]
  },
  {
   "cell_type": "markdown",
   "metadata": {
    "deletable": false,
    "editable": false,
    "nbgrader": {
     "cell_type": "markdown",
     "checksum": "becbdb73004e81d415a520de5be9b59b",
     "grade": false,
     "grade_id": "cell-75cda17ca968b144",
     "locked": true,
     "schema_version": 3,
     "solution": false,
     "task": false
    }
   },
   "source": [
    "## b) - Test Cases"
   ]
  },
  {
   "cell_type": "code",
   "execution_count": 50,
   "metadata": {
    "deletable": false,
    "editable": false,
    "nbgrader": {
     "cell_type": "code",
     "checksum": "4010036a4a9c6416dc7d08eb4ff5bbdb",
     "grade": true,
     "grade_id": "cell-d877bcd5780acbe8",
     "locked": true,
     "points": 4,
     "schema_version": 3,
     "solution": false,
     "task": false
    }
   },
   "outputs": [
    {
     "name": "stdout",
     "output_type": "stream",
     "text": [
      "[9, 8, 7, 6, 5, 4, 3, 2, 1, 0]\n",
      "['qwe', 'iop', 'fgh', 'asd']\n",
      "Unsortierte Liste:\n",
      "[7, 6, 7, 8, 9, 9, 0, 10, 10, 0]\n",
      "Sortierte Liste:\n",
      "[10, 10, 9, 9, 8, 7, 7, 6, 0, 0]\n",
      "Vergleichs- & Kopieroperationen:\n",
      "26, 35\n"
     ]
    }
   ],
   "source": [
    "# public unittests\n",
    "# test if list is sorted after function call\n",
    "l_unsorted = [0, 1, 2, 3, 4, 5, 6, 7, 8, 9]\n",
    "l_sorted = [9, 8, 7, 6, 5, 4, 3, 2, 1, 0]\n",
    "insertion_sort(l_unsorted)\n",
    "print(l_unsorted)\n",
    "assert_equal(str(l_unsorted), str(l_sorted))\n",
    "\n",
    "l_unsorted = ['asd', 'qwe', 'fgh', 'iop']\n",
    "l_sorted = ['qwe', 'iop', 'fgh', 'asd']\n",
    "insertion_sort(l_unsorted)\n",
    "print(l_unsorted)\n",
    "assert_equal(str(l_unsorted), str(l_sorted))\n",
    "\n",
    "\n",
    "#check yourself if the list is ordered in a descending order\n",
    "a = [randint(0, 10) for _ in range(10)]\n",
    "print(f\"Unsortierte Liste:\\n{a}\")\n",
    "\n",
    "cmp, cpy = insertion_sort(a)\n",
    "print(f\"Sortierte Liste:\\n{a}\")\n",
    "print(f\"Vergleichs- & Kopieroperationen:\\n{cmp}, {cpy}\")\n"
   ]
  },
  {
   "cell_type": "markdown",
   "metadata": {
    "deletable": false,
    "editable": false,
    "nbgrader": {
     "cell_type": "markdown",
     "checksum": "51f419d746268957f22ef11d24f34f32",
     "grade": false,
     "grade_id": "cell-0ec5e727366a1b7d",
     "locked": true,
     "schema_version": 3,
     "solution": false,
     "task": false
    }
   },
   "source": [
    "## c) Vergleich von Operationen - 2P.\n",
    "\n",
    "Als nächstes sollen Sie die in diesem Notebook implementierten Verfahren gegeneinander testen. Der unten stehende Code führt die Sortierverfahren auf zwei generierten Listen und berechnet zusätzlich die Ausführungszeit. Diese Zeit ist abhängig von der verwendeten Hardware und kann auf unterschiedlichen Umgebungen variieren. Die Anzahl der Vergleichs- und Kopieroperationen bleibt allerdings gleich.\n",
    "\n",
    "Führen Sie den unten stehenden Code aus und beschreiben sie kurz (3-5 Sätze) die Ergebnisse, die Sie in den Tabellen sehen. Verhalten sich die Sortieralgorithmen so, wie in der Vorlesung beschrieben? Worin besteht Ihrer Meinung nach der unterschied zwischen `Array 1` und `Array 2`? Können Sie diese Ergebnisse bei mehrfacher Ausführung von dem Code reproduzieren oder ändern sich die Ergebnisse jedes Mal?"
   ]
  },
  {
   "cell_type": "code",
   "execution_count": 51,
   "metadata": {
    "deletable": false,
    "editable": false,
    "nbgrader": {
     "cell_type": "code",
     "checksum": "9d38e839bd53a6bc13207596b00a1d7f",
     "grade": false,
     "grade_id": "cell-5db1e57be65379dc",
     "locked": true,
     "schema_version": 3,
     "solution": false,
     "task": false
    }
   },
   "outputs": [
    {
     "data": {
      "image/png": "[encoded data removed]",
      "text/plain": [
       "<Figure size 1080x288 with 3 Axes>"
      ]
     },
     "metadata": {
      "needs_background": "light"
     },
     "output_type": "display_data"
    },
    {
     "data": {
      "image/png": "[encoded data removed]",
      "text/plain": [
       "<Figure size 1080x288 with 3 Axes>"
      ]
     },
     "metadata": {
      "needs_background": "light"
     },
     "output_type": "display_data"
    }
   ],
   "source": [
    "def testSort(a, sort_fct):\n",
    "    b = [x for x in a]\n",
    "    start = time()\n",
    "    cmp_ops, cpy_ops = sort_fct(b)\n",
    "    return time() - start, cmp_ops, cpy_ops\n",
    "\n",
    "def plotRuntimeAndOperations(array, title=None):\n",
    "    df = pd.DataFrame(columns=['Runtime', 'Compare Operations', 'Copy Operations'])\n",
    "    df.loc['Selection-Sort'] = testSort(array, selection_sort)\n",
    "    df.loc['Bubble-Sort'] = testSort(array, bubble_sort)\n",
    "    df.loc['Insertion-Sort'] = testSort(array, insertion_sort)\n",
    "    ax = df.plot.bar(title=title, rot=0, subplots=True, layout=(1,3), figsize=(15,4))\n",
    "\n",
    "array_1 = [randint(0, 100) for _ in range(100)]\n",
    "array_2 = list(range(100, 0, -1))\n",
    "\n",
    "plotRuntimeAndOperations(array_1, \"Array 1\")\n",
    "plotRuntimeAndOperations(array_2, \"Array 2\")"
   ]
  },
  {
   "cell_type": "markdown",
   "metadata": {
    "deletable": false,
    "nbgrader": {
     "cell_type": "markdown",
     "checksum": "2d375207ae8bd63d285dfec47cc9540a",
     "grade": true,
     "grade_id": "cell-f295ba5cb24fff3b",
     "locked": false,
     "points": 2,
     "schema_version": 3,
     "solution": true,
     "task": false
    }
   },
   "source": [
    "YOUR ANSWER HERE"
   ]
  },
  {
   "cell_type": "markdown",
   "metadata": {
    "deletable": false,
    "editable": false,
    "nbgrader": {
     "cell_type": "markdown",
     "checksum": "e8d863a9e8bef480a54e373a4e6545f3",
     "grade": false,
     "grade_id": "cell-f636723cd815c1c9",
     "locked": true,
     "schema_version": 3,
     "solution": false,
     "task": false
    }
   },
   "source": [
    "## Jupyter Notebook Stolperfalle\n",
    "Bei der Benutzung von Jupyter Notebooks, wird der globale Zustand aller Variablen zwischen der Ausführung von verschiedenen Zellen erhalten. Dies ist auch der Fall, wenn man Zellen löscht oder hinzufügt.\n",
    "Um sicher zu gehen, dass Sie nicht ausversehen notwendige Variablen überschrieben oder gelöscht haben benutzen Sie bitte `Kernel -> Restart & Run All`.\n",
    "\n",
    "Zudem möchten wir Sie bitten zu überprüfen, ob alle öffentlichen Unittests bestanden werden. Dies stellt sicher, dass wir ihren Code mit unserem automatisierten System bewerten können."
   ]
  }
 ],
 "metadata": {
  "interpreter": {
   "hash": "6088285738b255873fa6d72b4bdc15b11b597adc55494487031ae234c12ac3f2"
  },
  "kernelspec": {
   "display_name": "Python 3.10.2 ('venv': venv)",
   "language": "python",
   "name": "python3"
  },
  "language_info": {
   "codemirror_mode": {
    "name": "ipython",
    "version": 3
   },
   "file_extension": ".py",
   "mimetype": "text/x-python",
   "name": "python",
   "nbconvert_exporter": "python",
   "pygments_lexer": "ipython3",
   "version": "3.10.2"
  }
 },
 "nbformat": 4,
 "nbformat_minor": 2
}
