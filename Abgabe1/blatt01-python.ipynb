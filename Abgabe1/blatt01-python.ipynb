{
 "cells": [
  {
   "cell_type": "markdown",
   "metadata": {
    "deletable": false,
    "editable": false,
    "nbgrader": {
     "cell_type": "markdown",
     "checksum": "2d00bfc79f36548a5cf259f848b982b7",
     "grade": false,
     "grade_id": "cell-2e9f551376e73eb9",
     "locked": true,
     "schema_version": 3,
     "solution": false,
     "task": false
    }
   },
   "source": [
    "# Datenstrukturen und Algorithmen\n",
    "\n",
    "## Praktische Aufgabe 1\n",
    "\n",
    "In dieser praktischen Aufgabe werden Sie lineare Strukturen (einfach und doppelt verkettete Listen) implementieren. Diese Aufgabe dient dazu einige Konzepte der Vorlesung zu wiederholen.\n",
    "\n",
    "Die Abgaben werden mit der `nbgrader` Erweiterung korrigiert. Das System erwartet, dass der Code zum Lösen der Aufgaben nach der `#YOUR CODE HERE` Anweisung kommt. Außerdem darf die Zellenreihenfolge nicht geändert werden. Damit Sie selbst Ihre Lösungsvorschläge validieren können, werden Ihnen Unittests zur Verfügung gestellt. Beachten Sie, dass diese Tests keine Garantie sind für das Erreichen der vollen Punktzahl, da Sie nur einen Teil der Funktionalität prüfen.\n",
    "\n",
    "Wichtig: Füllen Sie auch die erste Zelle mit dem Titel Abgabeteam vollständig aus. Dies ermöglicht uns auch bei technischen Problemen die Abgaben eindeutig zuordnen zu können.\n",
    "\n",
    "**Übersicht der Aufgaben** (20 Punkte):\n",
    "\n",
    "1. **Einfach verkettete Listen** - insgesamt: 2 Punkte\n",
    "   1. insert() - 1P.\n",
    "   2. delete() - 1P.\n",
    "\n",
    "2. **Doppelt verkettete Listen** - insgesamt: 18 Punkte\n",
    "   1. insert() - 1P.\n",
    "   2. delete() - 1P.\n",
    "   3. length() - 2P.\n",
    "   4. join() - 2P.\n",
    "   5. split() - 3P.\n",
    "   6. cycle() - 3P.\n",
    "   7. swap() - 2P.\n",
    "   8. reverse() - 4P.\n"
   ]
  },
  {
   "cell_type": "markdown",
   "metadata": {
    "deletable": false,
    "editable": false,
    "nbgrader": {
     "cell_type": "markdown",
     "checksum": "3fe24d21dba20939ec7cddf84b7923e4",
     "grade": false,
     "grade_id": "cell-7cf23d3c77998e55",
     "locked": true,
     "schema_version": 3,
     "solution": false,
     "task": false
    }
   },
   "source": [
    "## Abgabeteam\n",
    "Tragen Sie in die unterstehende Zelle Ihre Daten ein:\n",
    "\n",
    "23\n",
    "\n",
    "Mohammed Al-Laktah + 419664\n",
    "\n",
    "Salah Atallah + 414867"
   ]
  },
  {
   "cell_type": "markdown",
   "metadata": {
    "deletable": false,
    "editable": false,
    "nbgrader": {
     "cell_type": "markdown",
     "checksum": "fcdec05701b6231ffb67e20bde5ba731",
     "grade": false,
     "grade_id": "cell-85df1a8ff62140cc",
     "locked": true,
     "schema_version": 3,
     "solution": false,
     "task": false
    }
   },
   "source": [
    "## Module importieren\n",
    "\n",
    "Zuerst werden die benötigten Module importiert. Sie dürfen keine weiteren Module importieren.\n",
    "\n",
    "Wenn in Ihrer Entwickungsumbegung (z.B Google Colab oder Deepnote) bestimmte Module nicht verfügbar sind, dann kommentieren Sie die erste Zeile aus um die Module in der Laufzeitumgebung temporär zu installieren."
   ]
  },
  {
   "cell_type": "markdown",
   "metadata": {
    "deletable": false,
    "nbgrader": {
     "cell_type": "markdown",
     "checksum": "959f81d2c0d0c2e135ee1adfae659a85",
     "grade": true,
     "grade_id": "cell-b24f7a9a423e44c5",
     "locked": false,
     "points": 0,
     "schema_version": 3,
     "solution": true,
     "task": false
    }
   },
   "source": [
    "YOUR ANSWER HERE"
   ]
  },
  {
   "cell_type": "code",
   "execution_count": 57,
   "metadata": {
    "deletable": false,
    "editable": false,
    "nbgrader": {
     "cell_type": "code",
     "checksum": "3c04769570d2fc2f2cf545418977be32",
     "grade": false,
     "grade_id": "cell-859a494f7ea8e097",
     "locked": true,
     "schema_version": 3,
     "solution": false,
     "task": false
    }
   },
   "outputs": [],
   "source": [
    "#!pip install nose\n",
    "from nose.tools import assert_equal"
   ]
  },
  {
   "cell_type": "markdown",
   "metadata": {
    "deletable": false,
    "editable": false,
    "nbgrader": {
     "cell_type": "markdown",
     "checksum": "422f9b54befc89f14a8981e66be82490",
     "grade": false,
     "grade_id": "cell-c6b852cd7e7c1c24",
     "locked": true,
     "schema_version": 3,
     "solution": false,
     "task": false
    }
   },
   "source": [
    "# Einfach verkettete Listen\n",
    "\n",
    "Der folgende Code implementiert teilweise einfach verkettete Listen.\n",
    "Ihre Aufgabe ist es die fehlenden Funktionen _`insert()`_ und _`delete()`_ zu implementieren, so wie sie in der Vorlesung vorgestellt worden sind.\n",
    "\n",
    "Der zur Verfügung gestellte Code definiert zunächst die Klasse _SinglyLinkedList_ und _Node_, sowie die Funktionen _create()_, _get()_, _reset()_, _next()_, _isEmpty()_ und _isLast()_, die bereits aus der Vorlesung bekannt sind.\n",
    "\n",
    "Desweiteren verwenden wir die folgende Darstellung für einfach verkettete Listen und deren Elemente: Die Pointer auf das nächste Element sind durch `-->` dargestellt. Das 'Anchor' Objekt wird durch `A` representiert und der Marker auf das aktuelle Element der Liste wird mit `( )` dargestellt.\n",
    "\n",
    "```\n",
    "Node:               SinglyLinkedList - create():\n",
    "   | |-->              | |-->\n",
    "   |?|                 (A)\n",
    "```"
   ]
  },
  {
   "cell_type": "code",
   "execution_count": 58,
   "metadata": {
    "deletable": false,
    "editable": false,
    "nbgrader": {
     "cell_type": "code",
     "checksum": "4ba609982a61b5320892a10c85fce962",
     "grade": false,
     "grade_id": "cell-2bdde033377ac96a",
     "locked": true,
     "schema_version": 3,
     "solution": false,
     "task": false
    }
   },
   "outputs": [],
   "source": [
    "class Node:\n",
    "    \"\"\" A single object which holds an item and a pointer to its successor. \"\"\"\n",
    "    def __init__(self, item):\n",
    "        self.item = item\n",
    "        self.next = None\n",
    "\n",
    "    def __repr__(self):\n",
    "        return str(self.item)\n",
    "\n",
    "\n",
    "class SinglyLinkedList:\n",
    "    \"\"\" A list object which points to the current node element and the head of the list. \"\"\"\n",
    "    def __init__(self):\n",
    "        self.head = Node(\"Anchor\")\n",
    "        self.cur = self.head\n",
    "\n",
    "    def __repr__(self):\n",
    "        str_out = str(self.head) if self.head != self.cur else f\"({str(self.head)})\"\n",
    "        x = self.head.next\n",
    "        while x:\n",
    "            str_out += f\", {str(x)}\" if self.cur != x else f\", ({str(x)})\"\n",
    "            x = x.next\n",
    "        return str_out\n",
    "\n",
    "\n",
    "def create():\n",
    "    \"\"\" Creates an empty list. \"\"\"\n",
    "    return SinglyLinkedList()\n",
    "\n",
    "\n",
    "def get(list):\n",
    "    \"\"\" Returns the object, the pointer is assigned to.\"\"\"\n",
    "    return list.cur.item\n",
    "\n",
    "\n",
    "def reset(list):\n",
    "    \"\"\" Resets the pointer at the head of the list. \"\"\"\n",
    "    list.cur = list.head\n",
    "    return list\n",
    "\n",
    "\n",
    "def next(list):\n",
    "    \"\"\" Moves the pointer to the next list item. \"\"\"\n",
    "    list.cur = list.cur.next\n",
    "    return list\n",
    "\n",
    "\n",
    "def isEmpty(list):\n",
    "    \"\"\" Returns `True` if the list is empty. \"\"\"\n",
    "    return list.head.next is None\n",
    "\n",
    "\n",
    "def isLast(list):\n",
    "    \"\"\" Returns `True` if the pointer points to the last element in the list. \"\"\"\n",
    "    return list.cur.next is None"
   ]
  },
  {
   "cell_type": "markdown",
   "metadata": {
    "deletable": false,
    "editable": false,
    "nbgrader": {
     "cell_type": "markdown",
     "checksum": "3a5bec48a2f98911afde97f87c203803",
     "grade": false,
     "grade_id": "cell-798910f323843dc5",
     "locked": true,
     "schema_version": 3,
     "solution": false,
     "task": false
    }
   },
   "source": [
    "Sie können die Funktion *print()* verwenden, um eine List auszugeben."
   ]
  },
  {
   "cell_type": "code",
   "execution_count": 59,
   "metadata": {
    "deletable": false,
    "editable": false,
    "nbgrader": {
     "cell_type": "code",
     "checksum": "c451a794856b7840384c87b81c9ef750",
     "grade": false,
     "grade_id": "cell-f99f593abbe655d3",
     "locked": true,
     "schema_version": 3,
     "solution": false,
     "task": false
    }
   },
   "outputs": [
    {
     "name": "stdout",
     "output_type": "stream",
     "text": [
      "(Anchor)\n"
     ]
    }
   ],
   "source": [
    "my_list_variable = create()\n",
    "print(my_list_variable)"
   ]
  },
  {
   "cell_type": "markdown",
   "metadata": {
    "deletable": false,
    "editable": false,
    "nbgrader": {
     "cell_type": "markdown",
     "checksum": "a5db52ddeeaecca9eebe5721ecce42cc",
     "grade": false,
     "grade_id": "cell-c965014a9ff5bdb3",
     "locked": true,
     "schema_version": 3,
     "solution": false,
     "task": false
    }
   },
   "source": [
    "Bitte implementieren Sie die Funktionen _`insert()`_ und _`delete()`_ in den unten stehenden Zellen an den markierten Stellen.\n",
    "\n",
    "## a) _insert()_ - 1P.\n",
    "\n",
    "Die Funktion _insert()_ soll ein neues _Node_ Element erzeugen. Das neue _Node_ Element soll hinter dem Marker, wie in der Vorlesung vorgestellt, eingefügt werden. \n",
    "Am Ende wird die aktualisierte Liste zurückgegeben. \n",
    "\n",
    "Bitte verwenden Sie die unten stehenden Unittests, um Ihren Code zu validieren. Die zur Verfügung gestellten Unittests überprüfen immer nur einen Teil der geforderten Funktionalität und garantieren nicht, dass Sie auch die volle Punktzahl erhalten.\n",
    "\n",
    "Die folgende Abbildung zeigt das Verhalten der Funktion _insert()_ an einem Beispiel:\n",
    "\n",
    "```\n",
    "Einfügen von Element '2'\n",
    "\n",
    "Eingabe:                                    Ausgabe:\n",
    "   | |-->| |-->| |-->| |-->                 | |-->| |-->| |-->| |-->| |-->\n",
    "   |A|   (1)   |3|   |4|                    |A|   (1)   |2|   |3|   |4|\n",
    "```"
   ]
  },
  {
   "cell_type": "code",
   "execution_count": 60,
   "metadata": {
    "deletable": false,
    "nbgrader": {
     "cell_type": "code",
     "checksum": "a99b784aaecb8f2a7d008b09fa146bac",
     "grade": false,
     "grade_id": "cell-ecca8b6270db77fe",
     "locked": false,
     "schema_version": 3,
     "solution": true,
     "task": false
    }
   },
   "outputs": [],
   "source": [
    "def insert(item, list):\n",
    "    \"\"\" Inserts the provided item at the current pointer position of the list element. \"\"\"\n",
    "    # YOUR CODE HERE\n",
    "    node = Node(item)\n",
    "    node.next = list.cur.next\n",
    "    list.cur.next = node\n",
    "    \n",
    "    # raise NotImplementedError()\n",
    "    return list\n"
   ]
  },
  {
   "cell_type": "code",
   "execution_count": 61,
   "metadata": {
    "deletable": false,
    "editable": false,
    "nbgrader": {
     "cell_type": "code",
     "checksum": "e9d66e54742c861a84e9265f9ae65868",
     "grade": true,
     "grade_id": "cell-e368ec8a46c4aeb2",
     "locked": true,
     "points": 1,
     "schema_version": 3,
     "solution": false,
     "task": false
    }
   },
   "outputs": [],
   "source": [
    "list = create()\n",
    "assert_equal(str(list), \"(Anchor)\")\n",
    "\n",
    "list = insert(1, insert(2, insert(3, list)))\n",
    "assert_equal(str(list), \"(Anchor), 1, 2, 3\")\n"
   ]
  },
  {
   "cell_type": "markdown",
   "metadata": {
    "deletable": false,
    "editable": false,
    "nbgrader": {
     "cell_type": "markdown",
     "checksum": "889c511597e4aa409e39ea5ab76c94a4",
     "grade": false,
     "grade_id": "cell-c166c4bc06826d09",
     "locked": true,
     "schema_version": 3,
     "solution": false,
     "task": false
    }
   },
   "source": [
    "## b) _delete()_ - 1P.\n",
    "\n",
    "Die Funktion _delete()_ löscht das Element nach dem Marker und gibt die modifizierte Liste zurück. Sie müssen das Element selbst nicht explizit löschen. Sobald es nicht mehr erreichbar ist, wird es automatisch von Python aus dem Speicher gelöscht, da Python über Garbage Collection verfügt. Bitte implementieren Sie die Funktion so, wie in der Vorlesung vorgestellt.\n",
    "\n",
    "Die folgende Abbildung zeigt das Verhalten der Funktion _delete()_ an einem Beispiel:\n",
    "```\n",
    "Löschen eines Elements\n",
    "\n",
    "Eingabe:                                         Ausgabe:\n",
    "   | |-->| |-->| |-->| |-->| |-->                | |-->| |-->| |-->| |-->\n",
    "   |A|   (1)   |2|   |3|   |4|                   |A|   (1)   |3|   |4|\n",
    "```"
   ]
  },
  {
   "cell_type": "code",
   "execution_count": 62,
   "metadata": {
    "deletable": false,
    "nbgrader": {
     "cell_type": "code",
     "checksum": "ec15e1ca7868bd6c98c085cc607e1b67",
     "grade": false,
     "grade_id": "cell-2ddfbeffe606ddd9",
     "locked": false,
     "schema_version": 3,
     "solution": true,
     "task": false
    }
   },
   "outputs": [],
   "source": [
    "def delete(list):\n",
    "    \"\"\" Deletes the item  \"\"\"\n",
    "    # YOUR CODE HERE\n",
    "    if list.cur.next:\n",
    "        list.cur.next = list.cur.next.next\n",
    "    # raise NotImplementedError()\n",
    "    return list"
   ]
  },
  {
   "cell_type": "code",
   "execution_count": 63,
   "metadata": {
    "deletable": false,
    "editable": false,
    "nbgrader": {
     "cell_type": "code",
     "checksum": "b48d5db0b5470305dd7707c8c18711e3",
     "grade": true,
     "grade_id": "cell-148b382e49eba2f5",
     "locked": true,
     "points": 1,
     "schema_version": 3,
     "solution": false,
     "task": false
    }
   },
   "outputs": [],
   "source": [
    "list = insert(1, insert(2, insert(3, insert(4, create()))))\n",
    "\n",
    "list = delete(next(list))\n",
    "assert_equal(str(list), \"Anchor, (1), 3, 4\")\n"
   ]
  },
  {
   "cell_type": "markdown",
   "metadata": {
    "deletable": false,
    "editable": false,
    "nbgrader": {
     "cell_type": "markdown",
     "checksum": "ba7647b02b2e63b46084658bb94fe29a",
     "grade": false,
     "grade_id": "cell-7fc7b2ade37c2623",
     "locked": true,
     "schema_version": 3,
     "solution": false,
     "task": false
    }
   },
   "source": [
    "\n",
    "# Doppelt verkettete Listen\n",
    "\n",
    "Der folgende Code implementiert eine doppelt verkettete Liste mit einem 'Anchor' und 'Sentinel' Element. \n",
    "Ihre Aufgabe ist es die fehlenden Funktionen _`insert()`_ und _`delete()`_ zu implementieren, so wie sie in der Vorlesung vorgestellt worden sind.\n",
    "Zusätzlich sollen Sie die folgenden Funktionen implementieren, die später noch näher erklärt werden: \n",
    " _`length()`_, _`join()`_, _`split()`_, _`cycle()`_, _`swap()`_ und _`reverse()`_.\n",
    "\n",
    "Der zur Verfügung gestellte Code definiert zunächst die Klassen _DoublyLinkedList_, _Node_ sowie die Funktionen _create()_, _get()_, _reset()_, _next()_, _previous()_, _isEmpty()_ und _isLast()_, die bereits aus der Vorlesung bekannt sind. \n",
    "\n",
    "Desweiteren verwenden wir die folgende Darstellung für doppelt verkettete Listen und deren Elemente: Die Pointer auf das nächste und vorherige Element werden jeweils durch `-->` und `<--` dargestellt. Das 'Anchor' und 'Sentinel' Objekt werden jeweils durch `A` und `S` representiert und der Marker auf das aktuelle Element der Liste wird mit `( )` dargestellt.\n",
    "\n",
    "```\n",
    "Node:               DoublyLinkedList - create():\n",
    "   | |-->              | |-->| |-->\n",
    "   |?|                 (A)   |S|\n",
    "<--| |              <--| |<--| |\n",
    "```"
   ]
  },
  {
   "cell_type": "code",
   "execution_count": 64,
   "metadata": {
    "deletable": false,
    "editable": false,
    "nbgrader": {
     "cell_type": "code",
     "checksum": "e400705dfaa406605468cbd054d11b9f",
     "grade": false,
     "grade_id": "cell-78cb96991651da98",
     "locked": true,
     "schema_version": 3,
     "solution": false,
     "task": false
    }
   },
   "outputs": [],
   "source": [
    "class Node:\n",
    "    def __init__(self, item):\n",
    "        self.item = item\n",
    "        self.prev = None\n",
    "        self.next = None\n",
    "\n",
    "    def __repr__(self):\n",
    "        return str(self.item)\n",
    "\n",
    "\n",
    "class DoublyLinkedList:\n",
    "    def __init__(self):\n",
    "        self.head = Node(\"Anchor\")\n",
    "        self.tail = Node(\"Sentinel\")\n",
    "        self.head.next = self.tail\n",
    "        self.tail.prev = self.head\n",
    "        self.cur = self.head\n",
    "\n",
    "    def __repr__(self):\n",
    "        str_out = str(self.head) if self.head != self.cur else f\"({str(self.head)})\"\n",
    "        x = self.head.next\n",
    "        while x:\n",
    "            str_out += f\", {str(x)}\" if self.cur != x else f\", ({str(x)})\"\n",
    "            x = x.next\n",
    "        return str_out\n",
    "\n",
    "def create():\n",
    "    return DoublyLinkedList()\n",
    "\n",
    "\n",
    "def get(list):\n",
    "    return list.cur.item\n",
    "\n",
    "\n",
    "def reset(list):\n",
    "    list.cur = list.head\n",
    "    return list\n",
    "\n",
    "\n",
    "def next(list):\n",
    "    list.cur = list.cur.next\n",
    "    return list\n",
    "\n",
    "\n",
    "def prev(list):\n",
    "    list.cur = list.cur.prev\n",
    "    return list\n",
    "\n",
    "\n",
    "def isEmpty(list):\n",
    "    return list.head.next.item == \"Sentinel\"\n",
    "\n",
    "\n",
    "def isLast(list):\n",
    "    return list.cur.next.item == \"Sentinel\""
   ]
  },
  {
   "cell_type": "markdown",
   "metadata": {
    "deletable": false,
    "editable": false,
    "nbgrader": {
     "cell_type": "markdown",
     "checksum": "7c79a067ce2afd67467f309044a8d39f",
     "grade": false,
     "grade_id": "cell-f08edf269bec04f7",
     "locked": true,
     "schema_version": 3,
     "solution": false,
     "task": false
    }
   },
   "source": [
    "## a) _insert()_ - 1P.\n",
    "\n",
    "Die Funktion _insert()_ soll ein neues _Node_ Element erzeugen. Das neue _Node_ Element soll hinter dem Marker, wie in der Vorlesung vorgestellt, eingefügt werden. \n",
    "Am Ende wird die aktualisierte Liste zurückgegeben. \n",
    "\n",
    "Beachten Sie, dass wenn der Marker auf das \"Sentinel\"-Element zeigt, die Funktion _insert()_ nichts tun soll. Typischerweise würde man in so einer Situation einen Fehler ausgeben. Der Einfachheit halber verzichten wir an dieser Stelle darauf.\n",
    "\n",
    "Die folgende Abbildung zeigt das Verhalten der Funktion _insert()_ an einem Beispiel:\n",
    "```\n",
    "Einfügen von Element '2'\n",
    "\n",
    "Eingabe:                                            Ausgabe:\n",
    "   | |-->| |-->| |-->| |-->| |-->                      | |-->| |-->| |-->| |-->| |-->| |-->                \n",
    "   |A|   (1)   |3|   |4|   |S|                         |A|   (1)   |2|   |3|   |4|   |S|                   \n",
    "<--| |<--| |<--| |<--| |<--| |                      <--| |<--| |<--| |<--| |<--| |<--| |                \n",
    "```"
   ]
  },
  {
   "cell_type": "code",
   "execution_count": 65,
   "metadata": {
    "deletable": false,
    "nbgrader": {
     "cell_type": "code",
     "checksum": "3bdbeb22e167fe73389dd7f74b2f75df",
     "grade": false,
     "grade_id": "cell-d4178ea3dfb9eb54",
     "locked": false,
     "schema_version": 3,
     "solution": true,
     "task": false
    }
   },
   "outputs": [],
   "source": [
    "def insert(item, list):\n",
    "    # YOUR CODE HERE\n",
    "    if list.cur == list.tail:\n",
    "        return list\n",
    "    \n",
    "    node = Node(item)\n",
    "    node.prev = list.cur\n",
    "    node.next = list.cur.next\n",
    "    node.prev.next = node\n",
    "    node.next.prev = node\n",
    "    \n",
    "    # raise NotImplementedError()\n",
    "    return list"
   ]
  },
  {
   "cell_type": "code",
   "execution_count": 66,
   "metadata": {
    "deletable": false,
    "editable": false,
    "nbgrader": {
     "cell_type": "code",
     "checksum": "c98a3b4d22fc6531cbae8dd24f3c096a",
     "grade": true,
     "grade_id": "cell-d51f52a2d83d872b",
     "locked": true,
     "points": 1,
     "schema_version": 3,
     "solution": false,
     "task": false
    }
   },
   "outputs": [],
   "source": [
    "list = insert(4, insert(3, insert(2, insert(1, create()))))\n",
    "assert_equal(str(list), \"(Anchor), 4, 3, 2, 1, Sentinel\")\n"
   ]
  },
  {
   "cell_type": "markdown",
   "metadata": {
    "deletable": false,
    "editable": false,
    "nbgrader": {
     "cell_type": "markdown",
     "checksum": "447f2c3207a6b9074ef8eda86fc0e4b1",
     "grade": false,
     "grade_id": "cell-9a6073fc82e5d13a",
     "locked": true,
     "schema_version": 3,
     "solution": false,
     "task": false
    }
   },
   "source": [
    "## b) _delete()_ - 1P.\n",
    "\n",
    "Die Funktion _delete()_ löscht das aktuelle Element auf das der Marker zeigt und gibt die modifizierte Liste zurück. Sie müssen das Element selbst nicht explizit löschen. Sobald es nicht mehr erreichbar ist, wird es automatisch von Python aus dem Speicher gelöscht, da Python über Garbage Collection verfügt. Bitte implementieren Sie die Funktion so, wie in der Vorlesung vorgestellt.\n",
    "\n",
    "Bitte beachten Sie, dass sowohl das Anchor als auch das Sentinel Element nicht gelöscht werden dürfen. Falls dies nach der obigen Spezifikation passieren würde, dann tut die Funktion _delete()_ nichts. Typischerweise würde man in so einer Situation einen Fehler ausgeben. Der Einfachheit halber verzichten wir an dieser Stelle darauf.\n",
    "\n",
    "Die folgende Abbildung zeigt das Verhalten der Funktion _delete()_ an einem Beispiel:\n",
    "```\n",
    "Löschen eines Elements\n",
    "\n",
    "Eingabe:                                            Ausgabe:\n",
    "   | |-->| |-->| |-->| |-->| |-->| |-->                | |-->| |-->| |-->| |-->| |-->\n",
    "   |A|   |1|   (2)   |3|   |4|   |S|                   |A|   (1)   |3|   |4|   |S| \n",
    "<--| |<--| |<--| |<--| |<--| |<--| |                <--| |<--| |<--| |<--| |<--| |\n",
    "```"
   ]
  },
  {
   "cell_type": "code",
   "execution_count": 67,
   "metadata": {
    "deletable": false,
    "nbgrader": {
     "cell_type": "code",
     "checksum": "3fce047ab0d317bc8b80910f3932f687",
     "grade": false,
     "grade_id": "cell-fba2499f821434c2",
     "locked": false,
     "schema_version": 3,
     "solution": true,
     "task": false
    }
   },
   "outputs": [],
   "source": [
    "def delete(list):\n",
    "    # YOUR CODE HERE\n",
    "    if (list.cur in [list.head, list.tail]):\n",
    "        return list\n",
    "    list.cur.prev.next = list.cur.next\n",
    "    list.cur.next.prev = list.cur.prev\n",
    "    prev(list)\n",
    "    # raise NotImplementedError()\n",
    "    return list"
   ]
  },
  {
   "cell_type": "code",
   "execution_count": 68,
   "metadata": {
    "deletable": false,
    "editable": false,
    "nbgrader": {
     "cell_type": "code",
     "checksum": "43de1ae9eeb602b868f6584977012514",
     "grade": true,
     "grade_id": "cell-a9f41b20d1b60621",
     "locked": true,
     "points": 1,
     "schema_version": 3,
     "solution": false,
     "task": false
    }
   },
   "outputs": [],
   "source": [
    "list = insert(4, insert(3, insert(2, insert(1, create()))))\n",
    "list = delete(next(list))\n",
    "assert_equal(str(list), \"(Anchor), 3, 2, 1, Sentinel\")\n",
    "\n",
    "list = create()\n",
    "list = delete(list)\n",
    "assert_equal(str(list), \"(Anchor), Sentinel\")\n"
   ]
  },
  {
   "cell_type": "markdown",
   "metadata": {
    "deletable": false,
    "editable": false,
    "nbgrader": {
     "cell_type": "markdown",
     "checksum": "ac41c167d2e314dbf8e92b6ce768938e",
     "grade": false,
     "grade_id": "cell-fd55ed85eb33e795",
     "locked": true,
     "schema_version": 3,
     "solution": false,
     "task": false
    }
   },
   "source": [
    "## c) _length()_ - 2P.\n",
    "\n",
    "Die Funktion _length()_ soll die aktuelle Länge einer Liste zurückgeben. Es ist zu beachten, dass das 'Anchor' und 'Sentinel' Objekt selbst nicht zu der Anzahl der Elemente einer List zählen sollen.\n",
    "Eine leere Liste soll also die Länge 0 haben. Wenn einer Liste 4 Elemente zugewiesen worden sind, dann soll die Länge dieser Liste als 4 angegeben werden. \n",
    "\n",
    "Weiter ist zu beachten, dass die Funktion weder den Marker der List verändern darf noch die Liste auf eine andere Art modifizieren darf.\n",
    "\n",
    "Die folgende Abbildung zeigt das Verhalten der Funktion _length()_ anhand von Beispielen:\n",
    "\n",
    "```\n",
    "Liste 1:                        Liste 2:\n",
    "   | |-->| |-->                    | |-->| |-->| |-->| |-->| |-->| |-->\n",
    "   (A)   |S|                       |A|   |1|   (2)   |3|   |4|   |S|\n",
    "<--| |<--| |                    <--| |<--| |<--| |<--| |<--| |<--| |\n",
    "\n",
    "Length: 0                       Length: 4\n",
    "```"
   ]
  },
  {
   "cell_type": "code",
   "execution_count": 69,
   "metadata": {
    "deletable": false,
    "nbgrader": {
     "cell_type": "code",
     "checksum": "a9e06395095fa82b2f79ecc17ff63cab",
     "grade": false,
     "grade_id": "cell-e3cf051b762dccbf",
     "locked": false,
     "schema_version": 3,
     "solution": true,
     "task": false
    }
   },
   "outputs": [],
   "source": [
    "def length(list):\n",
    "    # YOUR CODE HERE\n",
    "    length = 0\n",
    "    marker = list.cur\n",
    "    reset(list)\n",
    "    while(not isLast(list) and not isEmpty(list)):\n",
    "        length += 1\n",
    "        next(list)\n",
    "    list.cur = marker\n",
    "    # raise NotImplementedError()\n",
    "    return length"
   ]
  },
  {
   "cell_type": "code",
   "execution_count": 70,
   "metadata": {
    "deletable": false,
    "editable": false,
    "nbgrader": {
     "cell_type": "code",
     "checksum": "9b273a4d362153964465d3da5298f24c",
     "grade": true,
     "grade_id": "cell-149a23141527524c",
     "locked": true,
     "points": 2,
     "schema_version": 3,
     "solution": false,
     "task": false
    }
   },
   "outputs": [],
   "source": [
    "list = create()\n",
    "assert_equal(length(list), 0)\n",
    "\n",
    "list = insert(4, insert(3, insert(2, insert(1, create()))))\n",
    "assert_equal(length(list), 4)\n"
   ]
  },
  {
   "cell_type": "markdown",
   "metadata": {
    "deletable": false,
    "editable": false,
    "nbgrader": {
     "cell_type": "markdown",
     "checksum": "9c00e79a7b053ce90d26f90276b8fea6",
     "grade": false,
     "grade_id": "cell-7ad5e43e4e1a07cc",
     "locked": true,
     "schema_version": 3,
     "solution": false,
     "task": false
    }
   },
   "source": [
    "## d) _join()_ - 2P.\n",
    "\n",
    "Die Funktion _join()_ bekommt zwei Listen übergeben und gibt die Verschmelzung beider Listen zurück. Hierbei soll die zweite Liste an das Ende der ersten Liste angehängt werden und die erste Liste zurückgegeben werden.\n",
    "Bitte beachten Sie, dass sie zusätzlich sicher stellen müssen, dass die 'Anchor' und 'Sentinel' Objekte in der List korrekt sind. Außerdem müssen die entsprechenden Marker/Pointer auf diese Objekte konsistent sein.\n",
    "\n",
    "Die folgende Abbildung zeigt das Verhalten der Funktion _join()_ an einem Beispiel:\n",
    "\n",
    "```\n",
    "Liste 1:                                Liste 2:\n",
    "   | |-->| |-->| |-->| |-->| |-->          | |-->| |-->| |-->| |-->| |-->\n",
    "   |A|   (1)   |2|   |3|   |S|             |A|   |4|   (5)   |6|   |S|\n",
    "<--| |<--| |<--| |<--| |<--| |          <--| |<--| |<--| |<--| |<--| |\n",
    "\n",
    "Ausgabe:\n",
    "   | |-->| |-->| |-->| |-->| |-->| |-->| |-->| |-->\n",
    "   |A|   (1)   |2|   |3|   |4|   |5|   |6|   |S|\n",
    "<--| |<--| |<--| |<--| |<--| |<--| |<--| |<--| |\n",
    "```"
   ]
  },
  {
   "cell_type": "code",
   "execution_count": 71,
   "metadata": {
    "deletable": false,
    "nbgrader": {
     "cell_type": "code",
     "checksum": "ef0285874205ac3bad4a3d17f9c0e267",
     "grade": false,
     "grade_id": "cell-2377fa633ed4ed59",
     "locked": false,
     "schema_version": 3,
     "solution": true,
     "task": false
    }
   },
   "outputs": [],
   "source": [
    "def join(list, list2):\n",
    "    \"\"\" Joins two lists into a single one. \"\"\"\n",
    "    # YOUR CODE HERE    \n",
    "    list.tail.prev.next = list2.head.next\n",
    "    list2.head.next.prev = list.tail.prev\n",
    "    list.tail = list2.tail\n",
    "    # raise NotImplementedError()\n",
    "    return list "
   ]
  },
  {
   "cell_type": "code",
   "execution_count": 72,
   "metadata": {
    "deletable": false,
    "editable": false,
    "nbgrader": {
     "cell_type": "code",
     "checksum": "6c8e9d004e6f124fbcb53879d2a1c51d",
     "grade": true,
     "grade_id": "cell-7a401d59efb8ba22",
     "locked": true,
     "points": 2,
     "schema_version": 3,
     "solution": false,
     "task": false
    }
   },
   "outputs": [],
   "source": [
    "list1 = insert(1, insert(2, insert(3, insert(4, create()))))\n",
    "list2 = insert(5, insert(6, insert(7, insert(8, create()))))\n",
    "\n",
    "list = join(list1, list2)\n",
    "assert_equal(str(list), \"(Anchor), 1, 2, 3, 4, 5, 6, 7, 8, Sentinel\")\n"
   ]
  },
  {
   "cell_type": "markdown",
   "metadata": {
    "deletable": false,
    "editable": false,
    "nbgrader": {
     "cell_type": "markdown",
     "checksum": "cb798f1524e5ea109bb709b77168f9e9",
     "grade": false,
     "grade_id": "cell-0c07c4b2418b89b3",
     "locked": true,
     "schema_version": 3,
     "solution": false,
     "task": false
    }
   },
   "source": [
    "## e) _split()_ - 3P.\n",
    "\n",
    "Die Funktion _split()_  soll eine Liste als Eingabe erhalten und zwei Listen zurückgeben. Hierbei soll die übergegebene Liste an der Stelle des Markers in zwei Listen aufgeteilt werden. Bitte implementieren Sie die folgende Funktion, indem Sie eine neue Liste erstellen und die Pointer entsprechend umbiegen. Alle Pointer, inklusive der Pointer auf den Anfang und das Ende beider Listen, müssen nach der Ausgabe konsistent sein.\n",
    "\n",
    "Bitte beachten Sie alle Sonderfälle, wie das Teilen am Anfang oder am Ende der Liste, oder das Teilen einer leeren Liste.\n",
    "\n",
    "Die folgende Abbildung zeigt das Verhalten der Funktion _split()_ an einem Beispiel:\n",
    "```\n",
    "Eingabe:\n",
    "   | |-->| |-->| |-->| |-->| |-->| |-->\n",
    "   |A|   |1|   (2)   |3|   |4|   |S|\n",
    "<--| |<--| |<--| |<--| |<--| |<--| |\n",
    "\n",
    "Ausgabe 1:                        Ausgabe 2:\n",
    "   | |-->| |-->| |-->| |-->          | |-->| |-->| |-->| |-->\n",
    "   |A|   |1|   (2)   |S|             (A)   |3|   |4|   |S|\n",
    "<--| |<--| |<--| |<--| |          <--| |<--| |<--| |<--| |\n",
    "```"
   ]
  },
  {
   "cell_type": "code",
   "execution_count": 73,
   "metadata": {
    "deletable": false,
    "nbgrader": {
     "cell_type": "code",
     "checksum": "7a03753827c5b79b48f13b01a5d279c2",
     "grade": false,
     "grade_id": "cell-9aac5431d1de4a77",
     "locked": false,
     "schema_version": 3,
     "solution": true,
     "task": false
    }
   },
   "outputs": [],
   "source": [
    "def split(list):\n",
    "    \"\"\" Splits the list into two list at the position of the current pointer. \"\"\"\n",
    "    # YOUR CODE HERE\n",
    "    list2 = create()\n",
    "\n",
    "    if list.cur.next == list.tail or list.cur == list.tail:\n",
    "        return list, list2\n",
    "    \n",
    "    if list.cur == list.head:\n",
    "        return list2, list\n",
    "\n",
    "    start = list.cur.next\n",
    "    end = list.tail.prev\n",
    "    list.cur.next = list.tail\n",
    "    list.tail.prev=list.cur\n",
    "    list2.head.next = start\n",
    "    start.prev = list2.head\n",
    "    list2.tail.prev = end\n",
    "    end.next = list2.tail\n",
    "    \n",
    "    # raise NotImplementedError()\n",
    "    return list, list2"
   ]
  },
  {
   "cell_type": "code",
   "execution_count": 74,
   "metadata": {
    "deletable": false,
    "editable": false,
    "nbgrader": {
     "cell_type": "code",
     "checksum": "9634bd79e7a79c82f4d70c7c97de1829",
     "grade": true,
     "grade_id": "cell-b3af41e012e96040",
     "locked": true,
     "points": 3,
     "schema_version": 3,
     "solution": false,
     "task": false
    }
   },
   "outputs": [],
   "source": [
    "list = insert(1, insert(2, insert(3, insert(4, create()))))\n",
    "list1, list2 = split(list)\n",
    "assert_equal(str(list1), \"(Anchor), Sentinel\")\n",
    "assert_equal(str(list2), \"(Anchor), 1, 2, 3, 4, Sentinel\")\n",
    "\n",
    "list = insert(1, insert(2, insert(3, insert(4, create()))))\n",
    "list = next(next(list))\n",
    "list1, list2 = split(list)\n",
    "assert_equal(str(list1), \"Anchor, 1, (2), Sentinel\")\n",
    "assert_equal(str(list2), \"(Anchor), 3, 4, Sentinel\")\n",
    "\n",
    "list = create()\n",
    "list1, list2 = split(list)\n",
    "assert_equal(str(list1), \"(Anchor), Sentinel\")\n",
    "assert_equal(str(list2), \"(Anchor), Sentinel\")\n",
    "\n",
    "list = next(create())\n",
    "list1, list2 = split(list)\n",
    "assert_equal(str(list1), \"Anchor, (Sentinel)\")\n",
    "assert_equal(str(list2), \"(Anchor), Sentinel\")\n",
    "\n"
   ]
  },
  {
   "cell_type": "markdown",
   "metadata": {
    "deletable": false,
    "editable": false,
    "nbgrader": {
     "cell_type": "markdown",
     "checksum": "b1595dc2da78c4a7bf6b2f0b11c203e7",
     "grade": false,
     "grade_id": "cell-14b5e71968c300c0",
     "locked": true,
     "schema_version": 3,
     "solution": false,
     "task": false
    }
   },
   "source": [
    "## f) _cycle()_ - 3P.\n",
    "\n",
    "Die Funktion _cycle()_ soll die Elemente der Liste um eine Stelle nach vorne rotieren. Dies ist eine globale Operation, die den Marker auf das momentane Objekt nicht verändern sollte. Zudem sollten sich am Ende der Operation sowohl das 'Anchor', als auch 'Sentinel' Element an den Enden der Liste befinden. Bitte implementieren Sie diese Funktion gemäß der Beschreibung und der unten stehenden Abbildungen.\n",
    "\n",
    "Die folgende Abbildung zeigt das Verhalten der Funktion _cycle()_ an einem Beispiel:\n",
    "\n",
    "```\n",
    "Eingabe:                                                    Eingabe:\n",
    "   | |-->| |-->| |-->| |-->| |-->| |-->| |-->| |-->            | |-->| |-->\n",
    "   |A|   (1)   |2|   |3|   |4|   |5|   |6|   |S|               (A)   |S|\n",
    "<--| |<--| |<--| |<--| |<--| |<--| |<--| |<--| |            <--| |<--| | \n",
    "\n",
    "Ausgabe:                                                    Ausgabe:\n",
    "   | |-->| |-->| |-->| |-->| |-->| |-->| |-->| |-->            | |-->| |-->\n",
    "   |A|   |6|   (1)   |2|   |3|   |4|   |5|   |S|               (A)   |S|\n",
    "<--| |<--| |<--| |<--| |<--| |<--| |<--| |<--| |            <--| |<--| |           \n",
    "```"
   ]
  },
  {
   "cell_type": "code",
   "execution_count": 75,
   "metadata": {
    "deletable": false,
    "nbgrader": {
     "cell_type": "code",
     "checksum": "6f2b2d534babb4ad822b46f88f6ce09a",
     "grade": false,
     "grade_id": "cell-120eff7b851dc780",
     "locked": false,
     "schema_version": 3,
     "solution": true,
     "task": false
    }
   },
   "outputs": [],
   "source": [
    "def cycle(list):\n",
    "    \"\"\" Cycles the list by one element forward, such that the last element in the list becomes the first one. \"\"\"\n",
    "    # YOUR CODE HERE\n",
    "    if isEmpty(list):\n",
    "        return list\n",
    "    \n",
    "    first = list.head.next\n",
    "    last  = list.tail.prev\n",
    "    \n",
    "    last.prev.next = list.tail\n",
    "    \n",
    "    list.head.next = last\n",
    "    list.tail.prev = last.prev\n",
    "    \n",
    "    first.prev = last\n",
    "    \n",
    "    last.next = first\n",
    "    last.prev = list.head\n",
    "    \n",
    "    # raise NotImplementedError()\n",
    "    return list"
   ]
  },
  {
   "cell_type": "code",
   "execution_count": 76,
   "metadata": {
    "deletable": false,
    "editable": false,
    "nbgrader": {
     "cell_type": "code",
     "checksum": "063a4059eeec64eee91448dd6eba9601",
     "grade": true,
     "grade_id": "cell-25ccdce899fc2d37",
     "locked": true,
     "points": 3,
     "schema_version": 3,
     "solution": false,
     "task": false
    }
   },
   "outputs": [],
   "source": [
    "list = insert(1, insert(2, insert(3, insert(4, create()))))\n",
    "list = cycle(list)\n",
    "assert_equal(str(list), \"(Anchor), 4, 1, 2, 3, Sentinel\")\n"
   ]
  },
  {
   "cell_type": "markdown",
   "metadata": {
    "deletable": false,
    "editable": false,
    "nbgrader": {
     "cell_type": "markdown",
     "checksum": "0671344b2585c223fc82b519f2213da8",
     "grade": false,
     "grade_id": "cell-4324bf2c52a823e5",
     "locked": true,
     "schema_version": 3,
     "solution": false,
     "task": false
    }
   },
   "source": [
    "## g) _swap()_ - 2P.\n",
    "\n",
    "Die Funktion _swap()_ nimmt als Eingabe eine Liste und vertauscht das Element, auf das der Marker zeigt mit dem nächsten Element und gibt die neue Liste zurück.\n",
    "Bitte implementieren Sie die Funktion _swap()_ gemäß der Beschreibung und der unten stehenden Abbildung. Beachten Sie zudem alle Sonderfälle, die auftreten könnten.\n",
    "\n",
    "Hierbei ist zu beachten, dass die 'Anchor' und 'Sentinel' Elemente nicht vertauscht werden dürfen. Das bedeutet bei leeren Listen oder der Liste mit einem Element tut die Funktion _swap()_ nichts. \n",
    "\n",
    "Die folgende Abbildung zeigt das Verhalten der Funktion _swap()_ anhand von Beispielen:\n",
    "\n",
    "```\n",
    "Eingabe:                                Eingabe:\n",
    "   | |-->| |-->| |-->| |-->| |-->          | |-->| |-->| |\n",
    "   |A|   (1)   |2|   |3|   |S|             |A|   (1)   |S| \n",
    "<--| |<--| |<--| |<--| |<--| |          <--| |<--| |<--| |\n",
    "\n",
    "Ausgabe:                                Ausgabe:\n",
    "   | |-->| |-->| |-->| |-->| |-->          | |-->| |-->| |-->\n",
    "   |A|   |2|   (1)   |3|   |S|             |A|   (1)   |S|\n",
    "<--| |<--| |<--| |<--| |<--| |          <--| |<--| |<--| |\n",
    "```"
   ]
  },
  {
   "cell_type": "code",
   "execution_count": 77,
   "metadata": {
    "deletable": false,
    "nbgrader": {
     "cell_type": "code",
     "checksum": "215ae8423799996aa99c1d9de25a2493",
     "grade": false,
     "grade_id": "cell-979f8a106eb9273c",
     "locked": false,
     "schema_version": 3,
     "solution": true,
     "task": false
    }
   },
   "outputs": [],
   "source": [
    "def swap(list):\n",
    "    \"\"\" Swap the current element with the next element in the list. \"\"\"\n",
    "    # YOUR CODE HERE\n",
    "\n",
    "    if list.cur in [list.head, list.tail] or list.cur.next == list.tail:\n",
    "        return list\n",
    "    \n",
    "    curprev= list.cur.prev          #head\n",
    "    cur=list.cur                    #1\n",
    "    curnext=list.cur.next           #2\n",
    "    curnextnext=list.cur.next.next  #3\n",
    "                                    \n",
    "    cur.next = curnextnext          #RED\n",
    "    cur.prev = curnext              #Blue\n",
    "\n",
    "    curnext.prev = curprev          #Yellow\n",
    "    curnext.next = cur              #Dark Green\n",
    "\n",
    "    curprev.next = curnext          #Orange\n",
    "\n",
    "    curnextnext.prev = cur          #Light Green\n",
    "    \n",
    "    # raise NotImplementedError()\n",
    "    return list"
   ]
  },
  {
   "cell_type": "code",
   "execution_count": 78,
   "metadata": {
    "deletable": false,
    "editable": false,
    "nbgrader": {
     "cell_type": "code",
     "checksum": "407df7077c4930ff30161fd8948b3cd8",
     "grade": true,
     "grade_id": "cell-2ac11e7a363b7c5b",
     "locked": true,
     "points": 2,
     "schema_version": 3,
     "solution": false,
     "task": false
    }
   },
   "outputs": [],
   "source": [
    "list = next(insert(1, insert(2, insert(3, insert(4, create())))))\n",
    "list = swap(list)\n",
    "assert_equal(str(list), \"Anchor, 2, (1), 3, 4, Sentinel\")\n"
   ]
  },
  {
   "cell_type": "markdown",
   "metadata": {
    "deletable": false,
    "editable": false,
    "nbgrader": {
     "cell_type": "markdown",
     "checksum": "6079d7109a4cb75e30d4aa9423d7fd4e",
     "grade": false,
     "grade_id": "cell-4d90535845c336f8",
     "locked": true,
     "schema_version": 3,
     "solution": false,
     "task": false
    }
   },
   "source": [
    "## h) _reverse()_ - 4P.\n",
    "\n",
    "Die Funktion _reverse()_ bekommt eine Liste als Eingabe und gibt eine Liste zurück, wobei die Reihenfolge der Elemente umgekehrt wirde. Hierbei soll der Marker auf das aktuelle Element erhalten bleiben. \n",
    "\n",
    "Es ist zu beachten, dass die 'Anchor' und 'Sentinel' Elemente ihre Position beibehalten sollen. Das bedeutet bei leeren Listen oder der Liste mit einem Element tut die Funktion _reverse()_ nichts. \n",
    "\n",
    "Hilfestellung:\n",
    "Wir empfehlen die Aufgabe mit Hilfe einer Schleife zu lösen, die über alle Elemente der Liste iteriert und die entsprechenden Zeiger der Liste umbiegt. Das erste und letzte Element der Liste sind besonders zu behandeln.\n",
    "\n",
    "Die folgende Abbildung zeigt das Verhalten der Funktion _reverse()_ anhand von Beispielen:\n",
    "\n",
    "```\n",
    "Eingabe:                                Eingabe:\n",
    "   | |-->| |-->| |-->| |-->| |-->          | |-->| |-->| |\n",
    "   |A|   (1)   |2|   |3|   |S|             (A)   |1|   |S|\n",
    "<--| |<--| |<--| |<--| |<--| |          <--| |<--| |<--| |\n",
    "\n",
    "Ausgabe:                                Ausgabe:\n",
    "   | |-->| |-->| |-->| |-->| |-->          | |-->| |-->| |-->\n",
    "   |A|   |3|   |2|   (1)   |S|             (A)   |1|   |S|\n",
    "<--| |<--| |<--| |<--| |<--| |          <--| |<--| |<--| |    \n",
    "```"
   ]
  },
  {
   "cell_type": "code",
   "execution_count": 160,
   "metadata": {
    "deletable": false,
    "nbgrader": {
     "cell_type": "code",
     "checksum": "07b4df503bf4802af4a22744c4b9f10d",
     "grade": false,
     "grade_id": "cell-83a4c7f3102ee7b9",
     "locked": false,
     "schema_version": 3,
     "solution": true,
     "task": false
    }
   },
   "outputs": [],
   "source": [
    "def reverse(list):\n",
    "    \"\"\" Reverse the order of elements in the list. \"\"\"\n",
    "    # YOUR CODE HERE\n",
    "    if isEmpty(list):\n",
    "        return list\n",
    "    \n",
    "    temp = None\n",
    "    current = list.head\n",
    "    list.head = list.tail\n",
    "    list.tail = current\n",
    "    list.head.item = 'Anchor'\n",
    "    list.tail.item = 'Sentinel'\n",
    "    if list.cur == list.head:\n",
    "        list.cur = list.tail\n",
    "    if list.cur == list.tail:\n",
    "        list.cur = list.head\n",
    "    \n",
    "    while current is not None:\n",
    "        temp = current.prev\n",
    "        current.prev = current.next\n",
    "        current.next = temp\n",
    "        current = current.prev\n",
    "    # raise NotImplementedError()\n",
    "    return list"
   ]
  },
  {
   "cell_type": "code",
   "execution_count": 164,
   "metadata": {
    "deletable": false,
    "editable": false,
    "nbgrader": {
     "cell_type": "code",
     "checksum": "dec082a46203dda72c6760adcd526515",
     "grade": true,
     "grade_id": "cell-c3349f9e5ff0aaf8",
     "locked": true,
     "points": 4,
     "schema_version": 3,
     "solution": false,
     "task": false
    }
   },
   "outputs": [],
   "source": [
    "list = insert(1, insert(2, insert(3, insert(4, create()))))\n",
    "list = reverse(list)\n",
    "assert_equal(str(list), \"(Anchor), 4, 3, 2, 1, Sentinel\")\n",
    "\n",
    "i = \"a\"\n",
    "list = insert(i, insert(2, insert(i, insert(4, create()))))\n",
    "list = next(next(next(list)))\n",
    "list = reverse(list)\n",
    "assert_equal(str(list), \"Anchor, 4, (a), 2, a, Sentinel\")\n",
    "\n",
    "list = create()\n",
    "list = reverse(list)\n",
    "assert_equal(str(list), \"(Anchor), Sentinel\")\n",
    "\n",
    "list = create()\n",
    "next(list)\n",
    "list = reverse(list)\n",
    "assert_equal(str(list), \"Anchor, (Sentinel)\")\n",
    "\n",
    "list = (insert (1, create()))\n",
    "next(list)\n",
    "list = reverse(list)\n",
    "assert_equal(str(list), \"Anchor, (1), Sentinel\")\n"
   ]
  },
  {
   "cell_type": "markdown",
   "metadata": {
    "deletable": false,
    "editable": false,
    "nbgrader": {
     "cell_type": "markdown",
     "checksum": "b97ff9d57b123e6dee0160d384edd3b6",
     "grade": false,
     "grade_id": "cell-1b974b740c5bee36",
     "locked": true,
     "schema_version": 3,
     "solution": false,
     "task": false
    }
   },
   "source": [
    "## Jupyter Notebook Stolperfalle\n",
    "Bei der Benutzung von Jupyter Notebooks, wird der globale Zustand aller Variablen zwischen der Ausführung von verschiedenen Zellen erhalten. Dies ist auch der Fall, wenn Zellen gelöscht oder hinzugefügt werden.\n",
    "Um sicher zu gehen, dass nicht ausversehen notwendige Variablen überschrieben oder gelöscht wurden, kann der Befehl `Kernel -> Restart & Run All` ausgeführt werden."
   ]
  }
 ],
 "metadata": {
  "kernelspec": {
   "display_name": "Python 3 (ipykernel)",
   "language": "python",
   "name": "python3"
  },
  "language_info": {
   "codemirror_mode": {
    "name": "ipython",
    "version": 3
   },
   "file_extension": ".py",
   "mimetype": "text/x-python",
   "name": "python",
   "nbconvert_exporter": "python",
   "pygments_lexer": "ipython3",
   "version": "3.10.2"
  },
  "varInspector": {
   "cols": {
    "lenName": 16,
    "lenType": 16,
    "lenVar": 40
   },
   "kernels_config": {
    "python": {
     "delete_cmd_postfix": "",
     "delete_cmd_prefix": "del ",
     "library": "var_list.py",
     "varRefreshCmd": "print(var_dic_list())"
    },
    "r": {
     "delete_cmd_postfix": ") ",
     "delete_cmd_prefix": "rm(",
     "library": "var_list.r",
     "varRefreshCmd": "cat(var_dic_list()) "
    }
   },
   "types_to_exclude": [
    "module",
    "function",
    "builtin_function_or_method",
    "instance",
    "_Feature"
   ],
   "window_display": false
  }
 },
 "nbformat": 4,
 "nbformat_minor": 4
}
