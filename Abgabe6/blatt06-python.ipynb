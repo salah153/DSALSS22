{
 "cells": [
  {
   "cell_type": "markdown",
   "metadata": {
    "deletable": false,
    "editable": false,
    "nbgrader": {
     "cell_type": "markdown",
     "checksum": "c608fea6fbbdf007d95d9d5968df915d",
     "grade": false,
     "grade_id": "cell-6f57b1bd149329fb",
     "locked": true,
     "schema_version": 3,
     "solution": false,
     "task": false
    }
   },
   "source": [
    "# Datenstrukturen und Algorithmen\n",
    "\n",
    "## Praktische Aufgabe 3\n",
    "\n",
    "In dieser praktischen Aufgabe werden Sie sich mit binären Suchbäumen (BST = binary search tree) beschäftigen. Zunächst implementieren Sie die aus der Vorlesung bekannte Funktion `insert()`, die jetzt neben einem Schlüssel auch einen Wert im Binärbaum (BT = binary tree) abspeichert. Danach überprüfen Sie, ob ein gegebener BT auch ein BST ist und falls nicht, implementieren Sie einen einfachen Algorithmus, um jeden beliebiegen BT in einen BST mit einer vorgegebenen Baumstruktur zu überführen.\n",
    "\n",
    "Die Abgaben werden mit der `nbgrader` Erweiterung korrigiert. Das System erwartet, dass der Code zum Lösen der Aufgaben nach der `#YOUR CODE HERE` Anweisung kommt. Außerdem darf die Zellenreihenfolge nicht geändert werden. Damit Sie selbst Ihre Lösungsvorschläge validieren können, werden Ihnen Unittests zur Verfügung gestellt. Beachten Sie, dass diese Tests keine Garantie sind für das Erreichen der vollen Punktzahl, da Sie nur einen Teil der Funktionalität überprüfen.\n",
    "\n",
    "Wichtig: Füllen Sie zunächst die erste Zelle mit `#YOUR ANSWER HERE` unter dem Titel `Abgabeteam` mit ihren Namen und Matrikelnummern vollständig aus. Dies ermöglicht uns auch bei technischen Problemen die Abgaben eindeutig zuordnen zu können. Ändern Sie außerdem nicht den Namen der Datei. \n",
    "\n",
    "Zusammenfassung der Aufgaben:\n",
    "\n",
    "1. **Binäre Suchbäume** - insgesamt: 20 Punkte\n",
    "   - insert() - 4P.\n",
    "   - is_bin_search_tree() - 6P.\n",
    "   - bin_tree_2_list() - 3P.\n",
    "   - list_2_bin_tree() - 3P.\n",
    "   - bin_tree_2_bin_search_tree() - 4P.\n"
   ]
  },
  {
   "cell_type": "markdown",
   "metadata": {
    "deletable": false,
    "editable": false,
    "nbgrader": {
     "cell_type": "markdown",
     "checksum": "75be49d562fc81fca0ac423586962c48",
     "grade": false,
     "grade_id": "cell-7cf23d3c77998e55",
     "locked": true,
     "schema_version": 3,
     "solution": false,
     "task": false
    }
   },
   "source": [
    "## Abgabeteam\n",
    "Bitte füllen Sie die untenstehende Zelle aus mit \n",
    "\n",
    "Nummer des Tutoriums,\n",
    "\n",
    "Voranme Nachname Matrikelnummer 1,\n",
    "\n",
    "Vorname Nachname Matrikelnummer 2,\n",
    "\n",
    "(Vorname Nachname Matrikelnummer 3)"
   ]
  },
  {
   "cell_type": "markdown",
   "metadata": {
    "deletable": false,
    "nbgrader": {
     "cell_type": "markdown",
     "checksum": "73a0dc6fe4f07411023973773c56909a",
     "grade": true,
     "grade_id": "cell-28a4063cbff4e8c6",
     "locked": false,
     "points": 0,
     "schema_version": 3,
     "solution": true,
     "task": false
    }
   },
   "source": [
    "YOUR ANSWER HERE"
   ]
  },
  {
   "cell_type": "markdown",
   "metadata": {
    "deletable": false,
    "editable": false,
    "nbgrader": {
     "cell_type": "markdown",
     "checksum": "1f9cfef83d7d71c4d6a5d32d1bd2d39e",
     "grade": false,
     "grade_id": "cell-b2d86d43bd7fe8b5",
     "locked": true,
     "schema_version": 3,
     "solution": false,
     "task": false
    }
   },
   "source": [
    "## Module importieren\n",
    "\n",
    "Als erstes importieren wir die verwendeten Module. Sie dürfen keine weiteren Python Module importieren oder verwenden, als die hier spezifizierten Module.\n",
    "\n",
    "Falls Sie eine Entwicklungsumgebung, wie Google Colab oder Deepnote verwendeen und bestimmte Module nicht verfügbar sind, kommentieren Sie die erste Zeile aus, um die Module in der Laufzeitumgebung temporär zu installieren."
   ]
  },
  {
   "cell_type": "code",
   "execution_count": 1,
   "metadata": {
    "deletable": false,
    "editable": false,
    "nbgrader": {
     "cell_type": "code",
     "checksum": "641a050358bc70548eeb63ce2080c18b",
     "grade": false,
     "grade_id": "cell-99307f8fe8c86fcb",
     "locked": true,
     "schema_version": 3,
     "solution": false,
     "task": false
    }
   },
   "outputs": [],
   "source": [
    "#!pip install nose\n",
    "\n",
    "from nose.tools import assert_equal"
   ]
  },
  {
   "cell_type": "markdown",
   "metadata": {
    "deletable": false,
    "editable": false,
    "nbgrader": {
     "cell_type": "markdown",
     "checksum": "9d6ceeb5caaa5b8e0cfb722f3ca79f59",
     "grade": false,
     "grade_id": "cell-ad6c06dd7f6d1c94",
     "locked": true,
     "schema_version": 3,
     "solution": false,
     "task": false
    }
   },
   "source": [
    "# Binäre Suchbäume\n",
    "\n",
    "Im folgenden werden Sie einen BST implementieren, der sowohl ein Attribut `key`, als auch `value` besitzt. Dabei wird die Sortierung der Blätter über den Schlüssel `key` bestimmt, während das eigentliche Element in `value` gespeichert wird. Dadurch können wir verschiedene Elemente nach einem beliebigen Schlüssel im Baum speichern. Der unten stehende Code definiert die Struktur von einem Node. Die Funktion `print_tree` gibt jeweils den BT als einen formattierten Output aus.\n",
    "Bitte beachten Sie, dass wir in dieser Implementierung keinen Parent-Pointer nutzen. Alle Aufgaben lassen sich auch ohne diese Referenz effizient lösen."
   ]
  },
  {
   "cell_type": "code",
   "execution_count": 2,
   "metadata": {
    "deletable": false,
    "editable": false,
    "nbgrader": {
     "cell_type": "code",
     "checksum": "77225fdf9907bafde98f5a82d4e69923",
     "grade": false,
     "grade_id": "cell-5724431c4af8206a",
     "locked": true,
     "schema_version": 3,
     "solution": false,
     "task": false
    }
   },
   "outputs": [],
   "source": [
    "class Node:\n",
    "    def __init__(self, key, value=None, left=None, right=None):\n",
    "        self.key = key\n",
    "        self.value = value\n",
    "        self.left = left\n",
    "        self.right = right\n",
    "        \n",
    "\n",
    "    def __repr__(self):\n",
    "        return f\"({self.left}, {self.key}|{self.value}, {self.right})\"\n",
    "\n",
    "\n",
    "def print_tree(node, level=0):\n",
    "    if node is not None:\n",
    "        print_tree(node.right, level + 1)\n",
    "        print(f\"{' ' * 8 * level}->  {str(node.key)}|{str(node.value)}\")\n",
    "        print_tree(node.left, level + 1)"
   ]
  },
  {
   "cell_type": "code",
   "execution_count": 3,
   "metadata": {
    "deletable": false,
    "editable": false,
    "nbgrader": {
     "cell_type": "code",
     "checksum": "f192baf6441d7e40bc7d7696192a111f",
     "grade": false,
     "grade_id": "cell-519a7d5b518abcd4",
     "locked": true,
     "schema_version": 3,
     "solution": false,
     "task": false
    }
   },
   "outputs": [
    {
     "name": "stdout",
     "output_type": "stream",
     "text": [
      "Valid BST:\n",
      "                        ->  8|cde\n",
      "                ->  7|abv\n",
      "        ->  6|234\n",
      "                ->  5|abc\n",
      "->  4|421\n",
      "                        ->  3|vwa\n",
      "                ->  3|None\n",
      "        ->  2|123\n",
      "                ->  1|asd\n",
      "(((None, 1|asd, None), 2|123, (None, 3|None, (None, 3|vwa, None))), 4|421, ((None, 5|abc, None), 6|234, (None, 7|abv, (None, 8|cde, None))))\n",
      "\n",
      "------------------\n",
      "\n",
      "Invalid BST:\n",
      "                ->  4|dnf\n",
      "                        ->  2|123\n",
      "        ->  9|agg\n",
      "->  1|421\n",
      "        ->  2|kve\n",
      "                ->  4|abc\n",
      "                        ->  0|esi\n",
      "((((None, 0|esi, None), 4|abc, None), 2|kve, None), 1|421, (None, 9|agg, ((None, 2|123, None), 4|dnf, None)))\n"
     ]
    }
   ],
   "source": [
    "print(\"Valid BST:\")\n",
    "valid_bst = Node(4, 421, Node(2, 123, Node(1, \"asd\"), Node(3, None, right=Node(3, \"vwa\"))), Node(6, 234, Node(5, \"abc\"), Node(7, \"abv\", right=Node(8, \"cde\"))))\n",
    "print_tree(valid_bst)\n",
    "print(valid_bst)\n",
    "\n",
    "print(\"\\n------------------\\n\")\n",
    "\n",
    "print(\"Invalid BST:\")\n",
    "invalid_bst = Node(1, 421, Node(2, \"kve\", Node(4, \"abc\", Node(0, \"esi\"))), Node(9, \"agg\", right=Node(4, \"dnf\", Node(2, 123))))\n",
    "print_tree(invalid_bst)\n",
    "print(invalid_bst)"
   ]
  },
  {
   "cell_type": "markdown",
   "metadata": {
    "deletable": false,
    "editable": false,
    "nbgrader": {
     "cell_type": "markdown",
     "checksum": "10e5e801ab42825cd4785f225aeea33d",
     "grade": false,
     "grade_id": "cell-11ca8e4b08ce4197",
     "locked": true,
     "schema_version": 3,
     "solution": false,
     "task": false
    }
   },
   "source": [
    "## a) insert() - 4P.\n",
    "\n",
    "Implementieren Sie die Funktion `insert()`, die `node`, `key`, sowie `value` als Parameter übergegeben bekommt. `node` ist hierbei der Elternknoten in den ein Element `value` entsprechend des Schlüssels `key` eingefügt wird. Der resultierende Baum soll dabei die Eigenschaften eines BST behalten. Orientieren sie sich an der aus der Vorlesung bekannten Funktion `insert()` und wandeln diese an den nötigen Stellen ab.\n",
    "\n",
    "Wenn zweimal der gleiche `key` eingefügt wird, dann wird einfach nur `value` ersetzt. "
   ]
  },
  {
   "cell_type": "code",
   "execution_count": 12,
   "metadata": {
    "deletable": false,
    "nbgrader": {
     "cell_type": "code",
     "checksum": "480ed667a9d67f5347dda85eba9f1aa9",
     "grade": false,
     "grade_id": "cell-d4538ec7909a57aa",
     "locked": false,
     "schema_version": 3,
     "solution": true,
     "task": false
    }
   },
   "outputs": [],
   "source": [
    "def insert(node, key, value):\n",
    "    \"\"\" Insert a new node into a binary search tree based on `key` which holds `value`. \"\"\"\n",
    "    # YOUR CODE HERE\n",
    "    \n",
    "    newNode = Node(key, value)\n",
    "\n",
    "    if not node:\n",
    "        node = Node(key, value)\n",
    "    elif key > node.key and node.right:\n",
    "           insert(node.right, key, value)\n",
    "    elif key < node.key and node.left:\n",
    "           insert(node.left, key, value)\n",
    "    elif key > node.key and not node.right:\n",
    "        node.right = newNode\n",
    "    elif key < node.key and not node.left:\n",
    "        node.left = newNode\n",
    "\n",
    "    return node\n",
    "    #raise NotImplementedError()"
   ]
  },
  {
   "cell_type": "markdown",
   "metadata": {
    "deletable": false,
    "editable": false,
    "nbgrader": {
     "cell_type": "markdown",
     "checksum": "59a1f1601278585627f107ee989251f0",
     "grade": false,
     "grade_id": "cell-2a44bb381f371947",
     "locked": true,
     "schema_version": 3,
     "solution": false,
     "task": false
    }
   },
   "source": [
    "## a) Tests"
   ]
  },
  {
   "cell_type": "code",
   "execution_count": 13,
   "metadata": {
    "deletable": false,
    "editable": false,
    "nbgrader": {
     "cell_type": "code",
     "checksum": "e00ecccb3fde5367417a51bb47f46cef",
     "grade": true,
     "grade_id": "cell-5985aec0890b8f05",
     "locked": true,
     "points": 4,
     "schema_version": 3,
     "solution": false,
     "task": false
    }
   },
   "outputs": [],
   "source": [
    "root = None \n",
    "root = insert(root, 3, 1177)\n",
    "assert_equal(str(root), \"(None, 3|1177, None)\")\n"
   ]
  },
  {
   "cell_type": "code",
   "execution_count": 14,
   "metadata": {
    "deletable": false,
    "editable": false,
    "nbgrader": {
     "cell_type": "code",
     "checksum": "b81775ac21968cfa159d370e2db27298",
     "grade": true,
     "grade_id": "cell-45f5d7f00d5bc60e",
     "locked": true,
     "points": 0,
     "schema_version": 3,
     "solution": false,
     "task": false
    }
   },
   "outputs": [],
   "source": [
    "root = None \n",
    "root = insert(root, 0, \"Value\")\n",
    "root = insert(root, 1, \"Value\")\n",
    "root = insert(root, 2, \"Value\")\n",
    "assert_equal(str(root), \"(None, 0|Value, (None, 1|Value, (None, 2|Value, None)))\")\n"
   ]
  },
  {
   "cell_type": "code",
   "execution_count": 15,
   "metadata": {
    "deletable": false,
    "editable": false,
    "nbgrader": {
     "cell_type": "code",
     "checksum": "408b8b8368fe85b197f22c1067823602",
     "grade": true,
     "grade_id": "cell-b467a9a56c876490",
     "locked": true,
     "points": 0,
     "schema_version": 3,
     "solution": false,
     "task": false
    }
   },
   "outputs": [],
   "source": [
    "# hidden tests"
   ]
  },
  {
   "cell_type": "markdown",
   "metadata": {
    "deletable": false,
    "editable": false,
    "nbgrader": {
     "cell_type": "markdown",
     "checksum": "26dcf13ef713698e26145027ce3dd97a",
     "grade": false,
     "grade_id": "cell-6916aa32022d80bd",
     "locked": true,
     "schema_version": 3,
     "solution": false,
     "task": false
    }
   },
   "source": [
    "Die nächste Aufgabe besteht darin einen beliebigen BT in einen BST umzuwandeln. Dabei darf die Form des Baumes, also die Verzweigung, nicht verändert werden.\n",
    "\n",
    "Hierzu werden Sie zunächst eine Funktion implementieren, die überprüft ob ein gegebener BT auch ein BST ist. Danach implementieren Sie zwei Funktionen, die eine Inorder-Traversal über den BT durchführen und die Nodes in eine Liste schreiben bzw. Nodes aus einer Liste in einen BT überführen. Anschließend nutzen Sie diese Funktionen, sowie das Sortieren von Listen, um einen beliebigen BT in einen BST umzuwandeln und dabei die Verzweigungen des BT nicht zu verändern.\n",
    "\n",
    "Der zu implementierende Algorithmus besteht aus den folgenden Schritten:\n",
    "- Falls der BT ein BST ist:\n",
    "  - mache nichts und geben den BT zurück\n",
    "- Sonst, führe die folgenden Schritte aus:\n",
    "  - Konvertiere den BT mit Inorder-Traversal in eine Liste\n",
    "  - Sortiere die Liste nach dem Schlüssel\n",
    "  - Konvertiere die Liste mit Inoder-Traversal in einen BT"
   ]
  },
  {
   "cell_type": "markdown",
   "metadata": {
    "deletable": false,
    "editable": false,
    "nbgrader": {
     "cell_type": "markdown",
     "checksum": "8dd6576b56a8be9ab107d53e850482dc",
     "grade": false,
     "grade_id": "cell-6c238ca31829f095",
     "locked": true,
     "schema_version": 3,
     "solution": false,
     "task": false
    }
   },
   "source": [
    "## b) is_bin_search_tree() - 6P.\n",
    "\n",
    "Implementieren Sie die Funktion `is_bin_search_tree()`, die `node` als Parameter übergegeben bekommt und überprüft, ob es sich um den BT der durch `node` dargestellt wird, um einen BST handelt. Die Funktion soll `True` zurückgeben, falls ein BST übergegeben wurde, sonst gibt sie `False` aus.\n",
    "\n",
    "```\n",
    "Eingabe:\n",
    "Node(4, None, Node(2), Node(6))\n",
    "\n",
    "Ausgabe:\n",
    "True\n",
    "\n",
    "\n",
    "Eingabe:\n",
    "Node(3, None, Node(2,None, Node(1), Node(4)), Node(5))\n",
    "\n",
    "Ausgabe:\n",
    "False\n",
    "```"
   ]
  },
  {
   "cell_type": "code",
   "execution_count": 18,
   "metadata": {
    "deletable": false,
    "nbgrader": {
     "cell_type": "code",
     "checksum": "00988677119b49cfd1e1506dbf62bde7",
     "grade": false,
     "grade_id": "cell-4473dc82bd7f04f7",
     "locked": false,
     "schema_version": 3,
     "solution": true,
     "task": false
    }
   },
   "outputs": [],
   "source": [
    "def is_bin_search_tree(node):\n",
    "    \"\"\" Check if a given binary tree is a binary search tree. \"\"\"\n",
    "    # YOUR CODE HERE\n",
    "    if node.right and node.left:\n",
    "        isbin = node and node.right.key > node.key and node.left.key < node.key\n",
    "        return isbin and is_bin_search_tree(node.left) and is_bin_search_tree(node.right)\n",
    "    else:\n",
    "        return node is not None\n",
    "    #raise NotImplementedError()\n",
    "    "
   ]
  },
  {
   "cell_type": "markdown",
   "metadata": {
    "deletable": false,
    "editable": false,
    "nbgrader": {
     "cell_type": "markdown",
     "checksum": "4f59a886d18665f6953da3a9a5a78ac7",
     "grade": false,
     "grade_id": "cell-019ed96fcfbce35d",
     "locked": true,
     "schema_version": 3,
     "solution": false,
     "task": false
    }
   },
   "source": [
    "## b) Tests"
   ]
  },
  {
   "cell_type": "code",
   "execution_count": 19,
   "metadata": {
    "deletable": false,
    "editable": false,
    "nbgrader": {
     "cell_type": "code",
     "checksum": "215441f91e667f4d906e48b42a4229f2",
     "grade": true,
     "grade_id": "cell-fa6aa67562fbf344",
     "locked": true,
     "points": 6,
     "schema_version": 3,
     "solution": false,
     "task": false
    }
   },
   "outputs": [],
   "source": [
    "# unittests\n",
    "valid_bst = Node(4, 421, Node(2, 123, Node(1, \"asd\"), Node(3)), Node(6, 234, Node(5, \"abc\"), Node(7, \"abv\", right=Node(8, \"cde\"))))\n",
    "assert_equal(True, is_bin_search_tree(valid_bst))\n",
    "\n",
    "invalid_bst = Node(1, 421, Node(2, \"kve\", Node(4, \"abc\", Node(0, \"esi\"))), Node(9, \"agg\", right=Node(4, \"dnf\", Node(2, 123))))\n",
    "assert_equal(False, is_bin_search_tree(invalid_bst))"
   ]
  },
  {
   "cell_type": "code",
   "execution_count": 20,
   "metadata": {
    "deletable": false,
    "editable": false,
    "nbgrader": {
     "cell_type": "code",
     "checksum": "6b7eeeb5fe1a7bff72d73954d806f430",
     "grade": true,
     "grade_id": "cell-7c376d9043defa12",
     "locked": true,
     "points": 0,
     "schema_version": 3,
     "solution": false,
     "task": false
    }
   },
   "outputs": [],
   "source": [
    "# hidden tests"
   ]
  },
  {
   "cell_type": "code",
   "execution_count": 21,
   "metadata": {
    "deletable": false,
    "editable": false,
    "nbgrader": {
     "cell_type": "code",
     "checksum": "560ba48de5b208cbb650b17b1fae9610",
     "grade": true,
     "grade_id": "cell-9a00280a3e3bdc4a",
     "locked": true,
     "points": 0,
     "schema_version": 3,
     "solution": false,
     "task": false
    }
   },
   "outputs": [],
   "source": [
    "# hidden tests"
   ]
  },
  {
   "cell_type": "code",
   "execution_count": 22,
   "metadata": {
    "deletable": false,
    "editable": false,
    "nbgrader": {
     "cell_type": "code",
     "checksum": "011a086ee6cdb5fcd0683bbd9e459301",
     "grade": true,
     "grade_id": "cell-bb1b714fbd171b6f",
     "locked": true,
     "points": 0,
     "schema_version": 3,
     "solution": false,
     "task": false
    }
   },
   "outputs": [],
   "source": [
    "# hidden tests"
   ]
  },
  {
   "cell_type": "markdown",
   "metadata": {
    "deletable": false,
    "editable": false,
    "nbgrader": {
     "cell_type": "markdown",
     "checksum": "e97aea2b9a59131142fbf9b42e03cddc",
     "grade": false,
     "grade_id": "cell-45a70c47865a829c",
     "locked": true,
     "schema_version": 3,
     "solution": false,
     "task": false
    }
   },
   "source": [
    "## c) bin_tree_2_list() - 3P.\n",
    "\n",
    "Implementieren Sie die Funktion `bin_tree_2_list()`, die einen BT `node` erhält und eine Liste zurückgibt. Diese Liste enthält Tupel von Schlüsseln und Werten als Elemente, die jeweils die Nodes des BT in Inorder-Traversal beschreiben.\n",
    "\n",
    "```\n",
    "Eingabe:\n",
    "Node(4, 421, Node(2, 123, Node(1, \"asd\"), Node(3, None, right=Node(3, \"vwa\"))), Node(6, 234, Node(5, \"abc\"), Node(7, \"abv\", right=Node(8, \"cde\"))))\n",
    "\n",
    "Ausgabe:\n",
    "[(1, 'asd'), (2, 123), (3, None), (3, 'vwa'), (4, 421), (5, 'abc'), (6, 234), (7, 'abv'), (8, 'cde')]\n",
    "\n",
    "\n",
    "Eingabe:\n",
    "Node(1, 421, Node(2, \"kve\", Node(4, \"abc\", Node(0, \"esi\"))), Node(9, \"agg\", right=Node(4, \"dnf\", Node(2, 123))))\n",
    "\n",
    "Ausgabe:\n",
    "[(0, 'esi'), (4, 'abc'), (2, 'kve'), (1, 421), (9, 'agg'), (2, 123), (4, 'dnf')]\n",
    "```"
   ]
  },
  {
   "cell_type": "code",
   "execution_count": null,
   "metadata": {
    "deletable": false,
    "nbgrader": {
     "cell_type": "code",
     "checksum": "cc8367c12e38fd31eebf289bea42f362",
     "grade": false,
     "grade_id": "cell-d24b7fb71a44e22a",
     "locked": false,
     "schema_version": 3,
     "solution": true,
     "task": false
    }
   },
   "outputs": [],
   "source": [
    "def bin_tree_2_list(node):\n",
    "        \"\"\" Convert keys & values of a binary tree into a list. \"\"\"\n",
    "        # YOUR CODE HERE\n",
    "        raise NotImplementedError()"
   ]
  },
  {
   "cell_type": "markdown",
   "metadata": {
    "deletable": false,
    "editable": false,
    "nbgrader": {
     "cell_type": "markdown",
     "checksum": "6fe89190254a3e1355c448dcddae9a9a",
     "grade": false,
     "grade_id": "cell-61d5ff0b76ec4703",
     "locked": true,
     "schema_version": 3,
     "solution": false,
     "task": false
    }
   },
   "source": [
    "## c) Tests"
   ]
  },
  {
   "cell_type": "code",
   "execution_count": null,
   "metadata": {
    "deletable": false,
    "editable": false,
    "nbgrader": {
     "cell_type": "code",
     "checksum": "4cbf1ea1ec0f59c392da3f4c6624483a",
     "grade": true,
     "grade_id": "cell-94757a37753d1176",
     "locked": true,
     "points": 3,
     "schema_version": 3,
     "solution": false,
     "task": false
    }
   },
   "outputs": [],
   "source": [
    "valid_bst = Node(4, 421, Node(2, 123, Node(1, \"asd\"), Node(3, None, right=Node(3, \"vwa\"))), Node(6, 234, Node(5, \"abc\"), Node(7, \"abv\", right=Node(8, \"cde\"))))\n",
    "assert_equal([(1, 'asd'), (2, 123), (3, None), (3, 'vwa'), (4, 421), (5, 'abc'), (6, 234), (7, 'abv'), (8, 'cde')],\n",
    "             bin_tree_2_list(valid_bst))\n",
    "\n",
    "\n",
    "invalid_bst = Node(1, 421, Node(2, \"kve\", Node(4, \"abc\", Node(0, \"esi\"))), Node(9, \"agg\", right=Node(4, \"dnf\", Node(2, 123))))\n",
    "assert_equal([(0, 'esi'), (4, 'abc'), (2, 'kve'), (1, 421), (9, 'agg'), (2, 123), (4, 'dnf')],\n",
    "             bin_tree_2_list(invalid_bst))"
   ]
  },
  {
   "cell_type": "code",
   "execution_count": null,
   "metadata": {
    "deletable": false,
    "editable": false,
    "nbgrader": {
     "cell_type": "code",
     "checksum": "3e8519f27d4481c31847315985e43679",
     "grade": true,
     "grade_id": "cell-c763e2a663d7a14c",
     "locked": true,
     "points": 0,
     "schema_version": 3,
     "solution": false,
     "task": false
    }
   },
   "outputs": [],
   "source": [
    "# hidden tests"
   ]
  },
  {
   "cell_type": "markdown",
   "metadata": {
    "deletable": false,
    "editable": false,
    "nbgrader": {
     "cell_type": "markdown",
     "checksum": "277055420bb483a99289968faacc35e0",
     "grade": false,
     "grade_id": "cell-e92fe9cd9697419b",
     "locked": true,
     "schema_version": 3,
     "solution": false,
     "task": false
    }
   },
   "source": [
    "## d) list_2_bin_tree() - 3P.\n",
    "\n",
    "Implementiere Sie die Funktion `list_2_bin_tree()`, die als Parameter einen BT `node` und eine Liste `node_list` übergegeben bekommt. \n",
    "Hierbei werden die Tupel aus Schlüssel und Wert aus der Liste `node_list` mit Inorder-Traversal in den BT eingesetzt."
   ]
  },
  {
   "cell_type": "code",
   "execution_count": null,
   "metadata": {
    "deletable": false,
    "nbgrader": {
     "cell_type": "code",
     "checksum": "02885b29937bb20c9bb6c071f059d8a4",
     "grade": false,
     "grade_id": "cell-7d893db96c304554",
     "locked": false,
     "schema_version": 3,
     "solution": true,
     "task": false
    }
   },
   "outputs": [],
   "source": [
    "def list_2_bin_tree(node, node_list):\n",
    "    \"\"\" Convert keys & values from a list into a binary tree. \"\"\"\n",
    "    # YOUR CODE HERE\n",
    "    raise NotImplementedError()"
   ]
  },
  {
   "cell_type": "markdown",
   "metadata": {
    "deletable": false,
    "editable": false,
    "nbgrader": {
     "cell_type": "markdown",
     "checksum": "ebfc56be5349d1a535c31e40c67576f4",
     "grade": false,
     "grade_id": "cell-cc71e001640da499",
     "locked": true,
     "schema_version": 3,
     "solution": false,
     "task": false
    }
   },
   "source": [
    "## d) Tests"
   ]
  },
  {
   "cell_type": "code",
   "execution_count": null,
   "metadata": {
    "deletable": false,
    "editable": false,
    "nbgrader": {
     "cell_type": "code",
     "checksum": "1a9be0e516e9917b4cf3c49580ebf8e0",
     "grade": true,
     "grade_id": "cell-a3a058f4a5f53af0",
     "locked": true,
     "points": 3,
     "schema_version": 3,
     "solution": false,
     "task": false
    }
   },
   "outputs": [],
   "source": [
    "tree = Node(0, 0, Node(1, 1, Node(2, 2), Node(3, 3)), Node(4, 4, Node(5, 5), Node(6, 6, Node(7, 7))))\n",
    "list = [(1, 'asd'), (2, 123), (3, None), (3, 'vwa'), (4, 421), (5, 'abc'), (6, 234), (7, 'abv'), (8, 'cde')]\n",
    "list_2_bin_tree(tree, list)\n",
    "assert_equal(str(tree), \"(((None, 1|asd, None), 2|123, (None, 3|None, None)), 3|vwa, ((None, 4|421, None), 5|abc, ((None, 6|234, None), 7|abv, None)))\")\n",
    "\n",
    "tree = Node(0, 0, Node(1, 1, Node(2, 2, Node(3, 3, Node(4, 4, Node(5, 5, Node(6, 6)))))))\n",
    "list = [(0, 'esi'), (4, 'abc'), (2, 'kve'), (1, 421), (9, 'agg'), (2, 123), (4, 'dnf')]\n",
    "list_2_bin_tree(tree, list)\n",
    "assert_equal(str(tree), \"(((((((None, 0|esi, None), 4|abc, None), 2|kve, None), 1|421, None), 9|agg, None), 2|123, None), 4|dnf, None)\")"
   ]
  },
  {
   "cell_type": "markdown",
   "metadata": {
    "deletable": false,
    "editable": false,
    "nbgrader": {
     "cell_type": "markdown",
     "checksum": "db04c06db694f947d02892cf4d5ff325",
     "grade": false,
     "grade_id": "cell-fb0b9ee85c769e16",
     "locked": true,
     "schema_version": 3,
     "solution": false,
     "task": false
    }
   },
   "source": [
    "## e) bin_tree_2_bin_search_tree() - 4P.\n",
    "\n",
    "Implementieren Sie die Funktion `bin_tree_2_bin_search_tree()`, die überprüft ob ein übergebener BT `node` auch ein BST ist und falls dies nicht der Fall ist, diesen in einen BST überführt. Hierbei soll die ursprüngliche Form (Verzweigungen) des BT erhalten bleiben. Nutzen Sie bei der Lösung dieser Aufgabe, die von Ihnen zuvor implementierten Funktionen. Sie können davon ausgehen, dass wir als Eingabe nur valide BT verwenden, die z.B. keine doppelten Nodes besitzen.\n",
    "\n",
    "Hinweis: Da der Fokus dieser Aufgabe nicht auf den Sortieralgorithmen selbst liegt, dürfen Sie Funktionen wie `sort()` oder `sorted()` in Ihrer Lösung verwenden."
   ]
  },
  {
   "cell_type": "code",
   "execution_count": null,
   "metadata": {
    "deletable": false,
    "nbgrader": {
     "cell_type": "code",
     "checksum": "a3b9fa1440a20063b0796b6eb7360cec",
     "grade": false,
     "grade_id": "cell-8e1c8cb84c936097",
     "locked": false,
     "schema_version": 3,
     "solution": true,
     "task": false
    }
   },
   "outputs": [],
   "source": [
    "def bin_tree_2_bin_search_tree(node):\n",
    "    \"\"\" Convert a binary tree into a binary search tree. Preserves the original structure of the binary tree. \"\"\"\n",
    "    # YOUR CODE HERE\n",
    "    raise NotImplementedError()"
   ]
  },
  {
   "cell_type": "markdown",
   "metadata": {
    "deletable": false,
    "editable": false,
    "nbgrader": {
     "cell_type": "markdown",
     "checksum": "10ed97f64600aa49e973b259d33d4c06",
     "grade": false,
     "grade_id": "cell-4f85b7eee0f66f57",
     "locked": true,
     "schema_version": 3,
     "solution": false,
     "task": false
    }
   },
   "source": [
    "## e) Tests"
   ]
  },
  {
   "cell_type": "code",
   "execution_count": null,
   "metadata": {
    "deletable": false,
    "editable": false,
    "nbgrader": {
     "cell_type": "code",
     "checksum": "3c1385688a0b15ddd074e5d8b94bd728",
     "grade": true,
     "grade_id": "cell-9d83901cf4e7e5e7",
     "locked": true,
     "points": 4,
     "schema_version": 3,
     "solution": false,
     "task": false
    }
   },
   "outputs": [],
   "source": [
    "invalid_bst = Node(1, 421, Node(2, \"kve\", Node(4, \"abc\", Node(0, \"esi\"))), Node(9, \"agg\", right=Node(7, \"dnf\", Node(3, 123))))\n",
    "bin_tree_2_bin_search_tree(invalid_bst)\n",
    "assert_equal(True, is_bin_search_tree((invalid_bst)))"
   ]
  },
  {
   "cell_type": "code",
   "execution_count": null,
   "metadata": {
    "deletable": false,
    "editable": false,
    "nbgrader": {
     "cell_type": "code",
     "checksum": "1631a9fb1f0d523d6bcd5aab2e63cae6",
     "grade": true,
     "grade_id": "cell-5208d65b8cc53aa3",
     "locked": true,
     "points": 0,
     "schema_version": 3,
     "solution": false,
     "task": false
    }
   },
   "outputs": [],
   "source": [
    "# hidden tests"
   ]
  },
  {
   "cell_type": "markdown",
   "metadata": {
    "deletable": false,
    "editable": false,
    "nbgrader": {
     "cell_type": "markdown",
     "checksum": "b97ff9d57b123e6dee0160d384edd3b6",
     "grade": false,
     "grade_id": "cell-1b974b740c5bee36",
     "locked": true,
     "schema_version": 3,
     "solution": false,
     "task": false
    }
   },
   "source": [
    "## Jupyter Notebook Stolperfalle\n",
    "Bei der Benutzung von Jupyter Notebooks, wird der globale Zustand aller Variablen zwischen der Ausführung von verschiedenen Zellen erhalten. Dies ist auch der Fall, wenn Zellen gelöscht oder hinzugefügt werden.\n",
    "Um sicher zu gehen, dass nicht ausversehen notwendige Variablen überschrieben oder gelöscht wurden, kann der Befehl `Kernel -> Restart & Run All` ausgeführt werden."
   ]
  }
 ],
 "metadata": {
  "interpreter": {
   "hash": "6088285738b255873fa6d72b4bdc15b11b597adc55494487031ae234c12ac3f2"
  },
  "kernelspec": {
   "display_name": "Python 3.10.2 ('venv': venv)",
   "language": "python",
   "name": "python3"
  },
  "language_info": {
   "codemirror_mode": {
    "name": "ipython",
    "version": 3
   },
   "file_extension": ".py",
   "mimetype": "text/x-python",
   "name": "python",
   "nbconvert_exporter": "python",
   "pygments_lexer": "ipython3",
   "version": "3.10.2"
  },
  "metadata": {
   "interpreter": {
    "hash": "31f2aee4e71d21fbe5cf8b01ff0e069b9275f58929596ceb00d14d90e3e16cd6"
   }
  },
  "varInspector": {
   "cols": {
    "lenName": 16,
    "lenType": 16,
    "lenVar": 40
   },
   "kernels_config": {
    "python": {
     "delete_cmd_postfix": "",
     "delete_cmd_prefix": "del ",
     "library": "var_list.py",
     "varRefreshCmd": "print(var_dic_list())"
    },
    "r": {
     "delete_cmd_postfix": ") ",
     "delete_cmd_prefix": "rm(",
     "library": "var_list.r",
     "varRefreshCmd": "cat(var_dic_list()) "
    }
   },
   "types_to_exclude": [
    "module",
    "function",
    "builtin_function_or_method",
    "instance",
    "_Feature"
   ],
   "window_display": false
  }
 },
 "nbformat": 4,
 "nbformat_minor": 2
}
