{
 "cells": [
  {
   "cell_type": "markdown",
   "metadata": {
    "deletable": false,
    "editable": false,
    "nbgrader": {
     "cell_type": "markdown",
     "checksum": "afbce22648f76e2aad38a794086d12bd",
     "grade": false,
     "grade_id": "cell-2e9f551376e73eb9",
     "locked": true,
     "schema_version": 3,
     "solution": false,
     "task": false
    }
   },
   "source": [
    "# Datenstrukturen und Algorithmen\n",
    "\n",
    "## Praktische Aufgabe 4\n",
    "\n",
    "In dieser praktischen Aufgabe werden Sie AVL-Bäume implementieren. Nachdem Sie sich in der letzten praktischen Aufgabe mit allgemeinen binären Suchbäumen beschäftigt haben, möchten wir und diesmal mit balancierten Bäumen beschäftigen. Die Hauptaufgabe besteht also darin einen beliebigen binären Suchbaum in einen AVL-Baum umzuwandeln. Sie werden mit Hilfe einiger Teilaufgaben auf die Lösung geführt. \n",
    "\n",
    "Die Abgaben werden mit der `nbgrader` Erweiterung korrigiert. Das System erwartet, dass der Code zum Lösen der Aufgaben nach der `#YOUR CODE HERE` Anweisung kommt. Außerdem darf die Zellenreihenfolge nicht geändert werden. Damit Sie selbst Ihre Lösungsvorschläge validieren können, werden Ihnen Unittests zur Verfügung gestellt. Beachten Sie, dass diese Tests keine Garantie sind für das Erreichen der vollen Punktzahl, da Sie nur einen Teil der Funktionalität überprüfen.\n",
    "\n",
    "Wichtig: Füllen Sie zunächst die erste Zelle mit `#YOUR ANSWER HERE` unter dem Titel `Abgabeteam` mit ihren Namen und Matrikelnummern vollständig aus. Dies ermöglicht uns auch bei technischen Problemen die Abgaben eindeutig zuordnen zu können. Ändern Sie außerdem nicht den Namen der Datei. \n",
    "\n",
    "**Übersicht der Aufgaben** (20 Punkte):\n",
    "\n",
    "1. **AVL-Tree** - insgesamt: 20 Punkte\n",
    "   - get_balance() - 2P.\n",
    "   - rotate_left() - 6P.\n",
    "   - rotate_right() - 6P.\n",
    "   - balance() - 6P.\n",
    " "
   ]
  },
  {
   "cell_type": "markdown",
   "metadata": {
    "deletable": false,
    "editable": false,
    "nbgrader": {
     "cell_type": "markdown",
     "checksum": "75be49d562fc81fca0ac423586962c48",
     "grade": false,
     "grade_id": "cell-7cf23d3c77998e55",
     "locked": true,
     "schema_version": 3,
     "solution": false,
     "task": false
    }
   },
   "source": [
    "## Abgabeteam\n",
    "Bitte füllen Sie die untenstehende Zelle aus mit \n",
    "\n",
    "Nummer des Tutoriums,\n",
    "\n",
    "Voranme Nachname Matrikelnummer 1,\n",
    "\n",
    "Vorname Nachname Matrikelnummer 2,\n",
    "\n",
    "(Vorname Nachname Matrikelnummer 3)"
   ]
  },
  {
   "cell_type": "markdown",
   "metadata": {
    "deletable": false,
    "nbgrader": {
     "cell_type": "markdown",
     "checksum": "7fe8d5d2606819dddd79077f118cb227",
     "grade": true,
     "grade_id": "cell-7809c128ebe2d0cb",
     "locked": false,
     "points": 0,
     "schema_version": 3,
     "solution": true,
     "task": false
    }
   },
   "source": [
    "YOUR ANSWER HERE"
   ]
  },
  {
   "cell_type": "markdown",
   "metadata": {
    "deletable": false,
    "editable": false,
    "nbgrader": {
     "cell_type": "markdown",
     "checksum": "13031417f034f961147a513ac1eb8942",
     "grade": false,
     "grade_id": "cell-85df1a8ff62140cc",
     "locked": true,
     "schema_version": 3,
     "solution": false,
     "task": false
    }
   },
   "source": [
    "## Module importieren\n",
    "\n",
    "Zuerst werden die benötigten Module importiert. Sie dürfen keine weiteren Module impotieren.\n",
    "\n",
    "Wenn in Ihrer Entwickungsumbegung (z.B Google Colab oder Deepnote) bestimmte Module nicht verfügbar sind, dann kommentieren Sie die erste Zeile aus um die Module in der Umgebung zu installieren."
   ]
  },
  {
   "cell_type": "code",
   "execution_count": 1,
   "metadata": {
    "deletable": false,
    "editable": false,
    "nbgrader": {
     "cell_type": "code",
     "checksum": "5651d468c36c262978ac16c9fd78ad57",
     "grade": false,
     "grade_id": "cell-859a494f7ea8e097",
     "locked": true,
     "schema_version": 3,
     "solution": false,
     "task": false
    }
   },
   "outputs": [],
   "source": [
    "#!pip install nose\n",
    "from nose.tools import assert_equal\n",
    "from random import randint"
   ]
  },
  {
   "cell_type": "markdown",
   "metadata": {
    "deletable": false,
    "editable": false,
    "nbgrader": {
     "cell_type": "markdown",
     "checksum": "03863225072e47377e43db46ee02db4c",
     "grade": false,
     "grade_id": "cell-c6b852cd7e7c1c24",
     "locked": true,
     "schema_version": 3,
     "solution": false,
     "task": false
    }
   },
   "source": [
    "# AVL-Tree\n",
    "\n",
    "Der folgende Code implementiert teilweise einen AVL-Tree.\n",
    "\n",
    "Ihre Aufgabe ist es die fehlenden Funktionen `get_balance()`, `rotate_left()`, `rotate_right()` und `rebalance()` zu implementieren. \n",
    "\n",
    "Der zur Verfügung gestellte Code definiert zunächst die Klass `Node`, sowie die Funktionen `print_tree()`, `get_height()` und `insert()`. Abweichend von der Vorlesung werden wir hier zur Vereinfachung der Implementierung keinen Parent-Pointer nutzen. Zudem speichert jeder Knoten seine Höhe anstatt seines Ungleichgewichts."
   ]
  },
  {
   "cell_type": "code",
   "execution_count": 2,
   "metadata": {
    "deletable": false,
    "editable": false,
    "nbgrader": {
     "cell_type": "code",
     "checksum": "287f8f6beb505eede8d509cc78b63682",
     "grade": false,
     "grade_id": "cell-ce46d9cbcfd56f15",
     "locked": true,
     "schema_version": 3,
     "solution": false,
     "task": false
    }
   },
   "outputs": [],
   "source": [
    "class Node():\n",
    "    def __init__(self, key, left=None, right=None, height=0):\n",
    "        self.key = key\n",
    "        self.left = left\n",
    "        self.right = right\n",
    "        self.height = height\n",
    "\n",
    "    def __repr__(self):\n",
    "        return str(f\"({self.left}, {self.key}|{self.height}, {self.right})\")\n",
    "\n",
    "\n",
    "def print_tree(node, level=0):\n",
    "    \"\"\" Generate a very basic graphical output of the tree. \"\"\"\n",
    "    if node is not None:\n",
    "        print_tree(node.right, level + 1)\n",
    "        print(f\"{' ' * 4 * level}->  {str(node.key)}|{node.height}\")\n",
    "        print_tree(node.left, level + 1)\n",
    "\n",
    "\n",
    "def get_height(node):\n",
    "    \"\"\" Return the height of the tree. \"\"\"\n",
    "    if node is None:\n",
    "        return -1\n",
    "    return node.height\n",
    "\n",
    "\n",
    "def insert(key, node=None):\n",
    "    \"\"\" Inserts a node into the given binary search tree and rebalances it afterwards. \"\"\"\n",
    "    if node is None:\n",
    "        return Node(key)\n",
    "    elif key < node.key:\n",
    "        node.left = insert(key, node.left)\n",
    "    elif key > node.key:\n",
    "        node.right = insert(key, node.right)\n",
    "    else:  # key == node.key\n",
    "        pass\n",
    "\n",
    "    node.height = 1 + max(get_height(node.left), get_height(node.right))\n",
    "    return rebalance(key, node)\n",
    "\n",
    "def insert_list(key_list, node=None):\n",
    "    \"\"\" Inserts a list of nodes into the given binary search tree and rebalances it after every insertion. \"\"\"\n",
    "    for key in key_list:\n",
    "        node = insert(key, node)\n",
    "    return node"
   ]
  },
  {
   "cell_type": "markdown",
   "metadata": {
    "deletable": false,
    "editable": false,
    "nbgrader": {
     "cell_type": "markdown",
     "checksum": "976fdec968c7e23f985755e54377bf81",
     "grade": false,
     "grade_id": "cell-77f98ca71e4b9e94",
     "locked": true,
     "schema_version": 3,
     "solution": false,
     "task": false
    }
   },
   "source": [
    "## a) get_balance() - 2P.\n",
    "\n",
    "Um die Berechnung des Ungleichgewichts bei jedem Einfügen zu vereinfachen, speichern wir in jedem Knoten die Höhe des Baumes. Dadurch müssen wir jedoch das Ungleichgewicht berechnen können. Implementieren Sie hierzu die Funktion `get_balance()`, die das Ungleichgewicht berechnet. \n",
    "\n",
    "Das Ungleichgewicht berechnet sich aus der **Differenz der Höhe des linken und des rechten Teilbaums**. Ist die Höhe des linken Teilbaums also kleiner als die Höhe des rechten, dann ist das Ergebnis negativ, sonst positiv. Sie könnten die Funktion `get_height()` nutzen, um die Höhe eines Teilbaums zu erhalten.\n",
    "\n",
    "Hinweis: Falls der Knoten, dessen Ungleichgewicht Sie berechnen sollen nicht existiert gibt die Funktion `get_balance()` `0` zurück."
   ]
  },
  {
   "cell_type": "code",
   "execution_count": 34,
   "metadata": {
    "deletable": false,
    "nbgrader": {
     "cell_type": "code",
     "checksum": "d997e5304ab004037dc874aac6de4513",
     "grade": false,
     "grade_id": "cell-9ca74ce7d933c3ad",
     "locked": false,
     "schema_version": 3,
     "solution": true,
     "task": false
    }
   },
   "outputs": [],
   "source": [
    "def get_balance(node):\n",
    "    \"\"\" Return the balance of the tree represented by `node`. \"\"\"\n",
    "    if node is None:\n",
    "        return 0\n",
    "    else:\n",
    "        return get_height(node.left) - get_height(node.right)"
   ]
  },
  {
   "cell_type": "markdown",
   "metadata": {
    "deletable": false,
    "editable": false,
    "nbgrader": {
     "cell_type": "markdown",
     "checksum": "5ef9ac8b6a89c823efbb5f2032f43ea7",
     "grade": false,
     "grade_id": "cell-0b0db42a2e1539a7",
     "locked": true,
     "schema_version": 3,
     "solution": false,
     "task": false
    }
   },
   "source": [
    "## a) Tests"
   ]
  },
  {
   "cell_type": "code",
   "execution_count": 35,
   "metadata": {
    "deletable": false,
    "editable": false,
    "nbgrader": {
     "cell_type": "code",
     "checksum": "17bc6e862603a39512e3402c2b856cee",
     "grade": true,
     "grade_id": "cell-b37f6ec274c1a240",
     "locked": true,
     "points": 2,
     "schema_version": 3,
     "solution": false,
     "task": false
    }
   },
   "outputs": [],
   "source": [
    "# unittests\n",
    "assert_equal(get_balance(None), 0)\n",
    "assert_equal(get_balance(Node(2)), 0)\n",
    "assert_equal(get_balance(Node(2, left=Node(1), height=1)), 1)\n",
    "assert_equal(get_balance(Node(2, right=Node(2), height=1)), -1)\n",
    "assert_equal(get_balance(Node(2, left=Node(1),  right=Node(2), height=1)), 0)\n",
    "assert_equal(get_balance(Node(3, height=3, left=Node(2, height=2, left=Node(1, height=1, left=Node(0))))), 3)\n",
    "assert_equal(get_balance(Node(3, height=3, right=Node(2, height=2, right=Node(1, height=1, right=Node(0))))), -3)"
   ]
  },
  {
   "cell_type": "code",
   "execution_count": 21,
   "metadata": {
    "deletable": false,
    "editable": false,
    "nbgrader": {
     "cell_type": "code",
     "checksum": "8acb843eb7b0e94670f99d20d958045c",
     "grade": true,
     "grade_id": "cell-f89c58c4c099e765",
     "locked": true,
     "points": 0,
     "schema_version": 3,
     "solution": false,
     "task": false
    }
   },
   "outputs": [],
   "source": [
    "# hidden tests\n"
   ]
  },
  {
   "cell_type": "code",
   "execution_count": 22,
   "metadata": {
    "deletable": false,
    "editable": false,
    "nbgrader": {
     "cell_type": "code",
     "checksum": "eee7dee6d39ce9fb773f9b0efb0a904c",
     "grade": true,
     "grade_id": "cell-cc50b710dc02d153",
     "locked": true,
     "points": 0,
     "schema_version": 3,
     "solution": false,
     "task": false
    }
   },
   "outputs": [],
   "source": [
    "# hidden tests"
   ]
  },
  {
   "cell_type": "code",
   "execution_count": 23,
   "metadata": {
    "deletable": false,
    "editable": false,
    "nbgrader": {
     "cell_type": "code",
     "checksum": "a6f4595a11325ab5a0f5aea078810d78",
     "grade": true,
     "grade_id": "cell-b3b7fa8ba52eaa26",
     "locked": true,
     "points": 0,
     "schema_version": 3,
     "solution": false,
     "task": false
    }
   },
   "outputs": [],
   "source": [
    "# hidden tests"
   ]
  },
  {
   "cell_type": "code",
   "execution_count": 25,
   "metadata": {
    "deletable": false,
    "editable": false,
    "nbgrader": {
     "cell_type": "code",
     "checksum": "db96e927103df3cb4cd975ce1d164497",
     "grade": true,
     "grade_id": "cell-8321716771a39482",
     "locked": true,
     "points": 0,
     "schema_version": 3,
     "solution": false,
     "task": false
    }
   },
   "outputs": [
    {
     "ename": "NameError",
     "evalue": "name 'insert_list_bst' is not defined",
     "output_type": "error",
     "traceback": [
      "\u001b[1;31m---------------------------------------------------------------------------\u001b[0m",
      "\u001b[1;31mNameError\u001b[0m                                 Traceback (most recent call last)",
      "\u001b[1;32mc:\\github.com\\meesyice\\DSALSS22\\Abgabe8\\blatt08-python.ipynb Cell 15'\u001b[0m in \u001b[0;36m<cell line: 4>\u001b[1;34m()\u001b[0m\n\u001b[0;32m      <a href='vscode-notebook-cell:/c%3A/github.com/meesyice/DSALSS22/Abgabe8/blatt08-python.ipynb#ch0000014?line=0'>1</a>\u001b[0m \u001b[39m# hidden tests\u001b[39;00m\n\u001b[0;32m      <a href='vscode-notebook-cell:/c%3A/github.com/meesyice/DSALSS22/Abgabe8/blatt08-python.ipynb#ch0000014?line=1'>2</a>\u001b[0m \u001b[39m### BEGIN HIDDEN TEST\u001b[39;00m\n\u001b[0;32m      <a href='vscode-notebook-cell:/c%3A/github.com/meesyice/DSALSS22/Abgabe8/blatt08-python.ipynb#ch0000014?line=2'>3</a>\u001b[0m \u001b[39m#unbalances on the left side\u001b[39;00m\n\u001b[1;32m----> <a href='vscode-notebook-cell:/c%3A/github.com/meesyice/DSALSS22/Abgabe8/blatt08-python.ipynb#ch0000014?line=3'>4</a>\u001b[0m tree_3 \u001b[39m=\u001b[39m insert_list_bst([\u001b[39m5\u001b[39m, \u001b[39m4\u001b[39m, \u001b[39m3\u001b[39m, \u001b[39m2\u001b[39m, \u001b[39m1\u001b[39m, \u001b[39m0\u001b[39m])\n\u001b[0;32m      <a href='vscode-notebook-cell:/c%3A/github.com/meesyice/DSALSS22/Abgabe8/blatt08-python.ipynb#ch0000014?line=4'>5</a>\u001b[0m assert_equal(get_balance(tree_3), \u001b[39m5\u001b[39m)\n",
      "\u001b[1;31mNameError\u001b[0m: name 'insert_list_bst' is not defined"
     ]
    }
   ],
   "source": [
    "# hidden tests\n",
    "### BEGIN HIDDEN TEST\n",
    "#unbalances on the left side\n",
    "tree_3 = insert_list_bst([5, 4, 3, 2, 1, 0])\n",
    "assert_equal(get_balance(tree_3), 5)"
   ]
  },
  {
   "cell_type": "markdown",
   "metadata": {
    "deletable": false,
    "editable": false,
    "nbgrader": {
     "cell_type": "markdown",
     "checksum": "c08b0cd0ede0250e3852737b248731f8",
     "grade": false,
     "grade_id": "cell-4b489af9cdfa479b",
     "locked": true,
     "schema_version": 3,
     "solution": false,
     "task": false
    }
   },
   "source": [
    "## b) rotate_left() - 6P."
   ]
  },
  {
   "cell_type": "markdown",
   "metadata": {
    "deletable": false,
    "editable": false,
    "nbgrader": {
     "cell_type": "markdown",
     "checksum": "cfc874fcc13098765598f2aea1f56fad",
     "grade": false,
     "grade_id": "cell-2881a42a0bd74ef1",
     "locked": true,
     "schema_version": 3,
     "solution": false,
     "task": false
    }
   },
   "source": [
    "Um aus einem unbalancierten Baum einen balancierten Baum zu machen, müssen wir rotieren können. Zunächst möchten wir die Rotation nach links implementieren. Schreiben Sie die Funktion `rotate_left()`, die **eine Linksrotation durchführt** und den **neuen Wurzelknoten des Teilbaums zurückgibt**.\n",
    "\n",
    "Sie können die untenstehende Abbildung als Hilfe nutzen. Der neue Wurzelknoten der zurückgegeben wird ist `y`.\n",
    "\n",
    "```\n",
    "Vorher:                     Nachher:\n",
    "        ->  ...                     \n",
    "    ->  y                           ->  ...\n",
    "        ->  z               ->  y \n",
    "->  node                            ->  z\n",
    "    ->  ...                     ->  node\n",
    "                                    ->  ...\n",
    "```\n",
    "\n",
    "Bitte aktualisieren Sie auch die in den Knoten gespeicherte Höhe entsprechend der durchgeführten Rotation. Die Höhe eines Nodes errechnet sich aus **1 + max(Höhe linker Teilbaum, Höhe rechter Teilbaum)**. Hinweis: Überlegen Sie sich zunächst welche Teilbäume ihre Höhe geändert haben und beachten Sie die Abhängigkeiten in der Berechnung der Höhe."
   ]
  },
  {
   "cell_type": "code",
   "execution_count": 39,
   "metadata": {
    "deletable": false,
    "nbgrader": {
     "cell_type": "code",
     "checksum": "ad4088687f0d0a98e77845503615232f",
     "grade": false,
     "grade_id": "cell-88f6b00cd48fbfad",
     "locked": false,
     "schema_version": 3,
     "solution": true,
     "task": false
    }
   },
   "outputs": [],
   "source": [
    "def rotate_left(node):\n",
    "    \"\"\" Perform a rotation to left of the tree based on `node`. \"\"\"\n",
    "    root = node.right\n",
    "    node.right = root.left\n",
    "    root.left = node\n",
    "    node.height = 1 + max(get_height(node.left), get_height(node.right))\n",
    "    root.height = 1 + max(get_height(root.left), get_height(root.right))\n",
    "    return root"
   ]
  },
  {
   "cell_type": "markdown",
   "metadata": {
    "deletable": false,
    "editable": false,
    "nbgrader": {
     "cell_type": "markdown",
     "checksum": "09491aa9b91bd7c44cbee00165db5c91",
     "grade": false,
     "grade_id": "cell-e08ec6e9253850db",
     "locked": true,
     "schema_version": 3,
     "solution": false,
     "task": false
    }
   },
   "source": [
    "## b) Tests"
   ]
  },
  {
   "cell_type": "code",
   "execution_count": 40,
   "metadata": {
    "deletable": false,
    "editable": false,
    "nbgrader": {
     "cell_type": "code",
     "checksum": "537b80adecafbbe3e29426820984d101",
     "grade": true,
     "grade_id": "cell-a4639bcbb8e9115b",
     "locked": true,
     "points": 6,
     "schema_version": 3,
     "solution": false,
     "task": false
    }
   },
   "outputs": [],
   "source": [
    "# unittests\n",
    "for h in [1, 3, 6]:\n",
    "    tree_1 = Node(\"n\", height=h+3, left=Node(\".\", height=h), right=Node(\"y\", height=h+2, left=Node(\"z\", height=h), right=Node(\".\", height=h+1)))\n",
    "    tree_1 = rotate_left(tree_1)\n",
    "    assert_equal(str(tree_1), f\"(((None, .|{h}, None), n|{h+1}, (None, z|{h}, None)), y|{h+2}, (None, .|{h+1}, None))\")"
   ]
  },
  {
   "cell_type": "markdown",
   "metadata": {
    "deletable": false,
    "editable": false,
    "nbgrader": {
     "cell_type": "markdown",
     "checksum": "facf4daabc08a53b0c0e1de4efe27aac",
     "grade": false,
     "grade_id": "cell-d1e9afaacf0d7dc2",
     "locked": true,
     "schema_version": 3,
     "solution": false,
     "task": false
    }
   },
   "source": [
    "## c) rotate_right() - 6P.\n",
    "\n",
    "Äquivalent möchten wir die Rotation nach rechts implementieren. Implementieren Sie dazu die Funktion `rotate_right()` die **eine Rechtsrotation der Knoten durchführt** und den **neuen Wurzelknoten des Baumes zurückgibt**. Aktualisieren Sie anschließen die Höhe der Teilbäume. Sie können die untenstehende Abbildung als Hilfestellung in der Implementierung nutzen.\n",
    "\n",
    "```\n",
    "Vorher:                     Nachher:\n",
    "                                    ->  ...\n",
    "        ->  ...                 ->  node\n",
    "->  node                            ->  z\n",
    "        ->  z               ->  y\n",
    "    >  y                        ->  ...\n",
    "        ->  ...\n",
    "```\n",
    "\n",
    "Bitte beachten Sie, die selben Hinweise, wie in der Funktion `rotate_left()`."
   ]
  },
  {
   "cell_type": "code",
   "execution_count": null,
   "metadata": {
    "deletable": false,
    "nbgrader": {
     "cell_type": "code",
     "checksum": "2accad7423569fad813b5d54efc59498",
     "grade": false,
     "grade_id": "cell-8a627f8319bbb6f6",
     "locked": false,
     "schema_version": 3,
     "solution": true,
     "task": false
    }
   },
   "outputs": [],
   "source": [
    "def rotate_right(node):\n",
    "    \"\"\" Perform a rotation to right of the tree based on `node`. \"\"\"\n",
    "    root = node.left\n",
    "    node.left = root.right\n",
    "    root.right = node\n",
    "    node.height = 1 + max(get_height(node.left), get_height(node.right))\n",
    "    root.height = 1 + max(get_height(root.left), get_height(root.right))\n",
    "    return root"
   ]
  },
  {
   "cell_type": "markdown",
   "metadata": {
    "deletable": false,
    "editable": false,
    "nbgrader": {
     "cell_type": "markdown",
     "checksum": "ffe8b7b19d8972fff1b60d8909b8e140",
     "grade": false,
     "grade_id": "cell-7d265832d27197df",
     "locked": true,
     "schema_version": 3,
     "solution": false,
     "task": false
    }
   },
   "source": [
    "## c) Tests"
   ]
  },
  {
   "cell_type": "code",
   "execution_count": null,
   "metadata": {
    "deletable": false,
    "editable": false,
    "nbgrader": {
     "cell_type": "code",
     "checksum": "c1d1f124b8d01d262f3efe77907787ef",
     "grade": true,
     "grade_id": "cell-8ac327f873d53a63",
     "locked": true,
     "points": 6,
     "schema_version": 3,
     "solution": false,
     "task": false
    }
   },
   "outputs": [],
   "source": [
    "# unittests\n",
    "for h in [1, 3, 6]:\n",
    "    tree_1 = Node(\"n\", height=h+3, left=Node(\"y\", height=h+2, left=Node(\".\", height=h+1), right=Node(\"z\", height=h),), right=Node(\".\", height=h))\n",
    "    tree_1 = rotate_right(tree_1)\n",
    "    assert_equal(str(tree_1), f\"((None, .|{h+1}, None), y|{h+2}, ((None, z|{h}, None), n|{h+1}, (None, .|{h}, None)))\")"
   ]
  },
  {
   "cell_type": "markdown",
   "metadata": {
    "deletable": false,
    "editable": false,
    "nbgrader": {
     "cell_type": "markdown",
     "checksum": "82eadc1d91d51f49337add2c4a636b30",
     "grade": false,
     "grade_id": "cell-19db206a4890334f",
     "locked": true,
     "schema_version": 3,
     "solution": false,
     "task": false
    }
   },
   "source": [
    "## d) rebalance() - 6P.\n",
    "\n",
    "Implementieren Sie die Funktion `rebalance()`, die nach jedem Aufruf von `insert()` aufgerufen wird, um den neuen binären Suchbaum zu balancieren. Geben Sie am Ende der Implementierung den neuen Wurzelknoten des balancierten Teilbaums zurück. \n",
    "\n",
    "Bitte beachten Sie in der Implementierung die vier Fälle die Auftreten können:\n",
    "- Rotation links\n",
    "- Rotation rechts\n",
    "- Doppelte Rotation links / rechts\n",
    "- Deppelte Rotation rechts / links\n",
    "\n",
    "Eine Balancierung der Teilbäume ist nur dann notwendig, wenn sich deren Höhe um mehr als eins unterscheidet. Sie können hierzu die zuvor implementierte Funktion `get_balance()` nutzen, um das Ungleichgewicht zu bestimmen.\n",
    "\n",
    "Falls Sie eine der vorherigen Teilaufgaben nicht lösen konnten, können Sie trotzdem unter der Annahme arbeiten, dass die Funktionen zur Verfügung stehen."
   ]
  },
  {
   "cell_type": "code",
   "execution_count": null,
   "metadata": {
    "deletable": false,
    "nbgrader": {
     "cell_type": "code",
     "checksum": "e62c74f5836e96807c6f550c18e548d9",
     "grade": false,
     "grade_id": "cell-ddd5941afb160b07",
     "locked": false,
     "schema_version": 3,
     "solution": true,
     "task": false
    }
   },
   "outputs": [],
   "source": [
    "def rebalance(key, node):\n",
    "    # YOUR CODE HERE\n",
    "    raise NotImplementedError()"
   ]
  },
  {
   "cell_type": "markdown",
   "metadata": {
    "deletable": false,
    "editable": false,
    "nbgrader": {
     "cell_type": "markdown",
     "checksum": "7a71030596e039344980841f85d70e2b",
     "grade": false,
     "grade_id": "cell-44369536fb27ce08",
     "locked": true,
     "schema_version": 3,
     "solution": false,
     "task": false
    }
   },
   "source": [
    "## d) Tests"
   ]
  },
  {
   "cell_type": "code",
   "execution_count": null,
   "metadata": {
    "deletable": false,
    "editable": false,
    "nbgrader": {
     "cell_type": "code",
     "checksum": "9fea140fcbd3daa23c7a65134128e0be",
     "grade": true,
     "grade_id": "cell-4584c4bf85adddb5",
     "locked": true,
     "points": 6,
     "schema_version": 3,
     "solution": false,
     "task": false
    }
   },
   "outputs": [],
   "source": [
    "# insert random nodes into a tree and check manually\n",
    "node_list = [randint(10, 99) for _ in range(15)]\n",
    "print(\"Node List:\\n\", node_list, \"\\nAVL-Tree:\")\n",
    "print_tree(insert_list(node_list))"
   ]
  },
  {
   "cell_type": "code",
   "execution_count": null,
   "metadata": {
    "deletable": false,
    "editable": false,
    "nbgrader": {
     "cell_type": "code",
     "checksum": "2bb799c09a290de53633921cd0397d56",
     "grade": true,
     "grade_id": "cell-02d910d6dd9c2f6a",
     "locked": true,
     "points": 0,
     "schema_version": 3,
     "solution": false,
     "task": false
    }
   },
   "outputs": [],
   "source": [
    "#hidden tests"
   ]
  },
  {
   "cell_type": "code",
   "execution_count": null,
   "metadata": {
    "deletable": false,
    "editable": false,
    "nbgrader": {
     "cell_type": "code",
     "checksum": "cd98f732c7081f9046ac689574f25a22",
     "grade": true,
     "grade_id": "cell-e7d1efebe2581ba0",
     "locked": true,
     "points": 0,
     "schema_version": 3,
     "solution": false,
     "task": false
    }
   },
   "outputs": [],
   "source": [
    "#hidden tests"
   ]
  },
  {
   "cell_type": "code",
   "execution_count": null,
   "metadata": {
    "deletable": false,
    "editable": false,
    "nbgrader": {
     "cell_type": "code",
     "checksum": "599f30b391b0d774dd1aa413cba8b25e",
     "grade": true,
     "grade_id": "cell-f9bdd8da01bc1d61",
     "locked": true,
     "points": 0,
     "schema_version": 3,
     "solution": false,
     "task": false
    }
   },
   "outputs": [],
   "source": [
    "#hidden tests"
   ]
  },
  {
   "cell_type": "code",
   "execution_count": null,
   "metadata": {
    "deletable": false,
    "editable": false,
    "nbgrader": {
     "cell_type": "code",
     "checksum": "91da0a7442de7380da9b5a64d2f1af89",
     "grade": true,
     "grade_id": "cell-cdb2fde4a211b9e5",
     "locked": true,
     "points": 0,
     "schema_version": 3,
     "solution": false,
     "task": false
    }
   },
   "outputs": [],
   "source": [
    "#hidden tests"
   ]
  },
  {
   "cell_type": "code",
   "execution_count": null,
   "metadata": {
    "deletable": false,
    "editable": false,
    "nbgrader": {
     "cell_type": "code",
     "checksum": "60f5c692c0ab504e72066ebb32b79f29",
     "grade": true,
     "grade_id": "cell-7288b26c453a223a",
     "locked": true,
     "points": 0,
     "schema_version": 3,
     "solution": false,
     "task": false
    }
   },
   "outputs": [],
   "source": [
    "#hidden tests"
   ]
  },
  {
   "cell_type": "code",
   "execution_count": null,
   "metadata": {
    "deletable": false,
    "editable": false,
    "nbgrader": {
     "cell_type": "code",
     "checksum": "f7e81bbbfe5b1d0779045f83183f356a",
     "grade": true,
     "grade_id": "cell-f64df8dd65bdb40f",
     "locked": true,
     "points": 0,
     "schema_version": 3,
     "solution": false,
     "task": false
    }
   },
   "outputs": [],
   "source": [
    "#hidden tests"
   ]
  },
  {
   "cell_type": "code",
   "execution_count": null,
   "metadata": {
    "deletable": false,
    "editable": false,
    "nbgrader": {
     "cell_type": "code",
     "checksum": "582d6111027a1816089617905b66672f",
     "grade": true,
     "grade_id": "cell-4cae42054a6e9490",
     "locked": true,
     "points": 0,
     "schema_version": 3,
     "solution": false,
     "task": false
    }
   },
   "outputs": [],
   "source": [
    "#hidden tests"
   ]
  },
  {
   "cell_type": "markdown",
   "metadata": {
    "deletable": false,
    "editable": false,
    "nbgrader": {
     "cell_type": "markdown",
     "checksum": "b97ff9d57b123e6dee0160d384edd3b6",
     "grade": false,
     "grade_id": "cell-1b974b740c5bee36",
     "locked": true,
     "schema_version": 3,
     "solution": false,
     "task": false
    }
   },
   "source": [
    "## Jupyter Notebook Stolperfalle\n",
    "Bei der Benutzung von Jupyter Notebooks, wird der globale Zustand aller Variablen zwischen der Ausführung von verschiedenen Zellen erhalten. Dies ist auch der Fall, wenn Zellen gelöscht oder hinzugefügt werden.\n",
    "Um sicher zu gehen, dass nicht ausversehen notwendige Variablen überschrieben oder gelöscht wurden, kann der Befehl `Kernel -> Restart & Run All` ausgeführt werden."
   ]
  }
 ],
 "metadata": {
  "kernelspec": {
   "display_name": "Python 3.10.2 ('venv': venv)",
   "language": "python",
   "name": "python3"
  },
  "language_info": {
   "codemirror_mode": {
    "name": "ipython",
    "version": 3
   },
   "file_extension": ".py",
   "mimetype": "text/x-python",
   "name": "python",
   "nbconvert_exporter": "python",
   "pygments_lexer": "ipython3",
   "version": "3.10.2"
  },
  "varInspector": {
   "cols": {
    "lenName": 16,
    "lenType": 16,
    "lenVar": 40
   },
   "kernels_config": {
    "python": {
     "delete_cmd_postfix": "",
     "delete_cmd_prefix": "del ",
     "library": "var_list.py",
     "varRefreshCmd": "print(var_dic_list())"
    },
    "r": {
     "delete_cmd_postfix": ") ",
     "delete_cmd_prefix": "rm(",
     "library": "var_list.r",
     "varRefreshCmd": "cat(var_dic_list()) "
    }
   },
   "types_to_exclude": [
    "module",
    "function",
    "builtin_function_or_method",
    "instance",
    "_Feature"
   ],
   "window_display": false
  },
  "vscode": {
   "interpreter": {
    "hash": "6088285738b255873fa6d72b4bdc15b11b597adc55494487031ae234c12ac3f2"
   }
  }
 },
 "nbformat": 4,
 "nbformat_minor": 4
}
