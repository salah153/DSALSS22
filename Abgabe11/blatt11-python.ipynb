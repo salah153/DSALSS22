{
 "cells": [
  {
   "cell_type": "markdown",
   "metadata": {
    "deletable": false,
    "editable": false,
    "nbgrader": {
     "cell_type": "markdown",
     "checksum": "4adcd2c534eaf9d6f6326a6f1a5be2d6",
     "grade": false,
     "grade_id": "cell-2e9f551376e73eb9",
     "locked": true,
     "schema_version": 3,
     "solution": false,
     "task": false
    }
   },
   "source": [
    "# Datenstrukturen und Algorithmen\n",
    "\n",
    "## Praktische Aufgabe 6\n",
    "\n",
    "In dieser praktischen Aufgabe werden Sie sich mit maximalen Flüssen beschäftigen. Sie werden einerseits Edmonds-Karp implementieren und andererseits mit Hilfe eines Bipartiten Matchings die Zuordnung von Studenten auf Tutorien zu berechnen. Die Hauptaufgabe beim Bipartiten Matching besteht darin einen Graphen zu konstruieren der alle Anforderungen abbildet. Die Lösung erhält man dann indem man den maximalen Fluss auf diesem Graphen ausrechnet. Sie dürfen in dieser Teilaufgabe das Package `networkx` verwenden, um den maximalen Fluss zu berechnen.\n",
    "\n",
    "Die Abgaben werden mit der `nbgrader` Erweiterung korrigiert. Das System erwartet, dass der Code zum Lösen der Aufgaben nach der `#YOUR CODE HERE` Anweisung kommt. Außerdem darf die Zellenreihenfolge nicht geändert werden. Damit Sie selbst Ihre Lösungsvorschläge validieren können, werden Ihnen Unittests zur Verfügung gestellt. Beachten Sie das diese Tests keine Garantie sind für das Erreichen der vollen Punktzahl, da Sie nur einen Teil der Funktionalität testen.\n",
    "\n",
    "Wichtig: Füllen Sie zunächst die erste Zelle mit `#YOUR ANSWER HERE` unter dem Titel `Abgabeteam` mit ihren Namen und Matrikelnummern vollständig aus. Dies ermöglicht uns auch bei technischen Problemen die Abgaben eindeutig zuordnen zu können. Ändern Sie außerdem nicht den Namen der Datei. \n",
    "\n",
    "**Übersicht der Aufgaben** (20 Punkte):\n",
    "1. **Edmonds-Karp** - insgesamt: 10 Punkte\n",
    "   - breadth_first_search() - 5P.\n",
    "   - edmonds_karp() - 5P.\n",
    "\n",
    "2. **Bipartites Matching** - insgesamt: 10 Punkte\n",
    "   - create_graph() - 6P.\n",
    "   - extract_assignment() - 4P."
   ]
  },
  {
   "cell_type": "markdown",
   "metadata": {
    "deletable": false,
    "editable": false,
    "nbgrader": {
     "cell_type": "markdown",
     "checksum": "75be49d562fc81fca0ac423586962c48",
     "grade": false,
     "grade_id": "cell-7cf23d3c77998e55",
     "locked": true,
     "schema_version": 3,
     "solution": false,
     "task": false
    }
   },
   "source": [
    "## Abgabeteam\n",
    "Bitte füllen Sie die untenstehende Zelle aus mit \n",
    "\n",
    "Nummer des Tutoriums,\n",
    "\n",
    "Voranme Nachname Matrikelnummer 1,\n",
    "\n",
    "Vorname Nachname Matrikelnummer 2,\n",
    "\n",
    "(Vorname Nachname Matrikelnummer 3)"
   ]
  },
  {
   "cell_type": "markdown",
   "metadata": {
    "deletable": false,
    "nbgrader": {
     "cell_type": "markdown",
     "checksum": "297ef46259f07215bbdc288766c55930",
     "grade": true,
     "grade_id": "cell-f316a4002e45cf29",
     "locked": false,
     "points": 0,
     "schema_version": 3,
     "solution": true,
     "task": false
    }
   },
   "source": [
    "YOUR ANSWER HERE"
   ]
  },
  {
   "cell_type": "markdown",
   "metadata": {
    "deletable": false,
    "editable": false,
    "nbgrader": {
     "cell_type": "markdown",
     "checksum": "13031417f034f961147a513ac1eb8942",
     "grade": false,
     "grade_id": "cell-85df1a8ff62140cc",
     "locked": true,
     "schema_version": 3,
     "solution": false,
     "task": false
    }
   },
   "source": [
    "## Module importieren\n",
    "\n",
    "Zuerst werden die benötigten Module importiert. Sie dürfen keine weiteren Module impotieren.\n",
    "\n",
    "Wenn in Ihrer Entwickungsumbegung (z.B Google Colab oder Deepnote) bestimmte Module nicht verfügbar sind, dann kommentieren Sie die erste Zeile aus um die Module in der Umgebung zu installieren."
   ]
  },
  {
   "cell_type": "code",
   "execution_count": 1,
   "metadata": {
    "deletable": false,
    "editable": false,
    "nbgrader": {
     "cell_type": "code",
     "checksum": "b899c06024bb118b40b57971e2e5d712",
     "grade": false,
     "grade_id": "cell-859a494f7ea8e097",
     "locked": true,
     "schema_version": 3,
     "solution": false,
     "task": false
    }
   },
   "outputs": [],
   "source": [
    "#!pip install nose\n",
    "from random import randint, sample\n",
    "from nose.tools import assert_equal\n",
    "from numpy import array\n",
    "\n",
    "from networkx import DiGraph, get_edge_attributes\n",
    "from networkx.algorithms.flow import edmonds_karp\n",
    "from networkx import draw_networkx, spring_layout\n",
    "from networkx import draw_networkx_edge_labels, draw_networkx_edges, draw_networkx_nodes\n",
    "\n",
    "# unittests helper functions\n",
    "import pickle\n",
    "\n",
    "def load_data(idx, name):\n",
    "    with open(f'data/{idx}/{name}.pkl', 'rb') as f:\n",
    "        return pickle.load(f)"
   ]
  },
  {
   "cell_type": "markdown",
   "metadata": {
    "deletable": false,
    "editable": false,
    "nbgrader": {
     "cell_type": "markdown",
     "checksum": "a23fceeae3bfa2176faa0d598b9b7677",
     "grade": false,
     "grade_id": "cell-3caeec608d057d05",
     "locked": true,
     "schema_version": 3,
     "solution": false,
     "task": false
    }
   },
   "source": [
    "# Edmonds-Karp\n",
    "\n",
    "In dieser Aufgabe werden Sie in zwei Schritten den Algorithmus von Edmonds-Karp implementieren. Orientieren Sie sich dabei an dem in der Vorlesung vorgestellen Code. \n",
    "Die Funktion `visualize_graph` wird zur Verfügung gestellt und erlaubt es Graphen in Matrixdarstellung zu visualisieren. "
   ]
  },
  {
   "cell_type": "code",
   "execution_count": 2,
   "metadata": {
    "deletable": false,
    "editable": false,
    "nbgrader": {
     "cell_type": "code",
     "checksum": "148473660f7087c990afd1ef0bf31aea",
     "grade": false,
     "grade_id": "cell-99c93d0a41a489d2",
     "locked": true,
     "schema_version": 3,
     "solution": false,
     "task": false
    }
   },
   "outputs": [],
   "source": [
    "def visualize_graph(g, s=None, t=None):\n",
    "    G = DiGraph(array(g))\n",
    "    pos = spring_layout(G)\n",
    "    labels = get_edge_attributes(G, 'weight')\n",
    "\n",
    "    draw_networkx(G, pos, connectionstyle=\"arc3,rad=0.1\")\n",
    "    if s is not None:\n",
    "        draw_networkx_nodes(G, pos, nodelist=[s], node_color=\"g\")\n",
    "    if t is not None:\n",
    "        draw_networkx_nodes(G, pos, nodelist=[t], node_color=\"r\")\n",
    "    draw_networkx_edge_labels(G, pos, edge_labels=labels, label_pos=0.3)"
   ]
  },
  {
   "cell_type": "markdown",
   "metadata": {
    "deletable": false,
    "editable": false,
    "nbgrader": {
     "cell_type": "markdown",
     "checksum": "49d0cd1c3d7e01bf0a1314d71a66be53",
     "grade": false,
     "grade_id": "cell-9bf5dffdbe023600",
     "locked": true,
     "schema_version": 3,
     "solution": false,
     "task": false
    }
   },
   "source": [
    "## a) breadth_first_search() - 5P.\n",
    "\n",
    "Implementieren Sie die Funktion `breadth_first_search()`. Orientieren Sie sich dabei an dem in der Vorlesung vorgestellen Code.\n",
    "Als Eingabe erhalten Sie einen Graphen `G`, einen Startknoten `s`, einen Zielknoten `t` und deine Liste `parent`. Die Liste `parent` wird später benötigt um die Funktion `edmonds_karp_impl()` zu implementieren. Sie speichert den eindeutigen Vorgänger eines Knotens. \n",
    "\n",
    "Folgende Schritte sind zu beachten: \n",
    "- Initialisieren Sie eine Liste `visited`, in der Sie speichern ob ein Konten bereits besucht wurde. \n",
    "- Initialisieren Sie eine Queue `Q` mit dem ersten Element `s`. \n",
    "- die Funktion gibt als Rückgabewert `False` oder `True` zurück, entsprechen ob die Suche erfolgreich war oder nicht. "
   ]
  },
  {
   "cell_type": "code",
   "execution_count": 63,
   "metadata": {
    "deletable": false,
    "nbgrader": {
     "cell_type": "code",
     "checksum": "b1983e826999fcfd401d925cddcb5413",
     "grade": false,
     "grade_id": "cell-e54cd52b9f7c06c8",
     "locked": false,
     "schema_version": 3,
     "solution": true,
     "task": false
    }
   },
   "outputs": [],
   "source": [
    "def breadth_first_search(G, s, t, parent):\n",
    "    \"\"\" Breadth First Search \"\"\"\n",
    "    visited = [False] * len(G)\n",
    "    queue = [s]\n",
    "    \n",
    "    while queue:\n",
    "        curr = queue[0]\n",
    "        \n",
    "        queue.pop(0)\n",
    "        \n",
    "        for v in range(len(G)):\n",
    "            if curr == v:\n",
    "                continue\n",
    "            if G[curr][v] > 0 and not visited[v]:\n",
    "                visited[v] = True\n",
    "                queue.append(v)\n",
    "                if parent[v] == -1 or G[parent[v]][curr] > G[curr][v]:\n",
    "                    parent[v] = curr\n",
    "\n",
    "    return visited[t]\n"
   ]
  },
  {
   "cell_type": "markdown",
   "metadata": {
    "deletable": false,
    "editable": false,
    "nbgrader": {
     "cell_type": "markdown",
     "checksum": "2aac5a6c5495f91fd8b3c6926b6df29e",
     "grade": false,
     "grade_id": "cell-cd934618d07b30f1",
     "locked": true,
     "schema_version": 3,
     "solution": false,
     "task": false
    }
   },
   "source": [
    "## a) Tests"
   ]
  },
  {
   "cell_type": "code",
   "execution_count": 64,
   "metadata": {
    "deletable": false,
    "editable": false,
    "nbgrader": {
     "cell_type": "code",
     "checksum": "d8aae5bd416bd26e9e293eaf476702c9",
     "grade": true,
     "grade_id": "cell-263ce4676e7f47ca",
     "locked": true,
     "points": 5,
     "schema_version": 3,
     "solution": false,
     "task": false
    }
   },
   "outputs": [],
   "source": [
    "#no edges\n",
    "s, t = 0, 1\n",
    "G = [[0, 0],\n",
    "    [0, 0]]\n",
    "parent = [-1] * len(G)\n",
    "assert_equal(False, breadth_first_search(G, s, t, parent))\n",
    "assert_equal([-1, -1], parent)"
   ]
  },
  {
   "cell_type": "code",
   "execution_count": 65,
   "metadata": {
    "deletable": false,
    "editable": false,
    "nbgrader": {
     "cell_type": "code",
     "checksum": "3eba353fa5165fdba75f01d4c371089e",
     "grade": true,
     "grade_id": "cell-25eecca59f479d99",
     "locked": true,
     "points": 0,
     "schema_version": 3,
     "solution": false,
     "task": false
    }
   },
   "outputs": [],
   "source": [
    "#self loop but no other edges\n",
    "s, t = 0, 1\n",
    "G = [[1, 0],\n",
    "    [0, 0]]\n",
    "parent = [-1] * len(G)\n",
    "assert_equal(False, breadth_first_search(G, s, t, parent))\n",
    "assert_equal([-1, -1], parent)"
   ]
  },
  {
   "cell_type": "code",
   "execution_count": 66,
   "metadata": {
    "deletable": false,
    "editable": false,
    "nbgrader": {
     "cell_type": "code",
     "checksum": "f71a99699bfc97503efe97b42c73aa4d",
     "grade": true,
     "grade_id": "cell-121c60753ee4bc9b",
     "locked": true,
     "points": 0,
     "schema_version": 3,
     "solution": false,
     "task": false
    }
   },
   "outputs": [],
   "source": [
    "#connection from 0 to 1\n",
    "s, t = 0, 1\n",
    "G = [[0, 1],\n",
    "    [0, 0]]\n",
    "parent = [-1] * len(G)\n",
    "assert_equal(True, breadth_first_search(G, s, t, parent))\n",
    "assert_equal([-1, 0], parent)"
   ]
  },
  {
   "cell_type": "code",
   "execution_count": 67,
   "metadata": {
    "deletable": false,
    "editable": false,
    "nbgrader": {
     "cell_type": "code",
     "checksum": "e7b123b8dcb9bdfa9a1b56df57aee407",
     "grade": true,
     "grade_id": "cell-5624d73f6d7362b3",
     "locked": true,
     "points": 0,
     "schema_version": 3,
     "solution": false,
     "task": false
    }
   },
   "outputs": [],
   "source": [
    "#no connection from 1 to 0 but from 0 to 1\n",
    "s, t = 1, 0\n",
    "G = [[0, 1],\n",
    "    [0, 0]]\n",
    "parent = [-1] * len(G)\n",
    "assert_equal(False, breadth_first_search(G, s, t, parent))\n",
    "assert_equal([-1, -1], parent)"
   ]
  },
  {
   "cell_type": "code",
   "execution_count": 69,
   "metadata": {
    "deletable": false,
    "editable": false,
    "nbgrader": {
     "cell_type": "code",
     "checksum": "b9952131765724719764bd02f51560ff",
     "grade": true,
     "grade_id": "cell-d25f45b79142e9ae",
     "locked": true,
     "points": 0,
     "schema_version": 3,
     "solution": false,
     "task": false
    }
   },
   "outputs": [],
   "source": [
    "#more general case\n",
    "s, t = 0, 5\n",
    "G = [\n",
    "    [0, 16, 13, 0, 0, 0],\n",
    "    [0, 0, 10, 12, 0, 0],\n",
    "    [0, 4, 0, 0, 14, 0],\n",
    "    [0, 0, 9, 0, 0, 20],\n",
    "    [0, 0, 0, 7, 0, 4],\n",
    "    [0, 0, 0, 0, 0, 0],\n",
    "]\n",
    "parent = [-1] * len(G)\n",
    "assert_equal(True, breadth_first_search(G, s, t, parent))\n",
    "assert_equal([-1, 0, 0, 1, 2, 3], parent)"
   ]
  },
  {
   "cell_type": "markdown",
   "metadata": {
    "deletable": false,
    "editable": false,
    "nbgrader": {
     "cell_type": "markdown",
     "checksum": "cb759e3806c2c5562819d018f50ecaa6",
     "grade": false,
     "grade_id": "cell-8e0f5c5ba2e4c5c2",
     "locked": true,
     "schema_version": 3,
     "solution": false,
     "task": false
    }
   },
   "source": [
    "## b) edmonds_karp_impl() - 5P.\n",
    "\n",
    "Implementieren Sie die Funktion `edmonds_karp_impl()`. Orientieren Sie sich dabei an dem in der Vorlesung vorgestellen Code. Verwenden Sie außerdem die in der Teilaufgabe a) definierte Funktion `breadth_first_search()`. Als Eingabe erhalten Sie einen Graphen `G`, einen Startknoten `s`, einen Zielknoten `t`. Die Funktion `edmonds_karp_impl()` berechnet den maximalen Fluss zwischen dem Startknoten `s` und dem Zielknoten `t`.\n",
    "\n",
    "Folgende Schritte sind zu beachten: \n",
    "- Initialisieren Sie eine Liste `parent` die für jeden Knoten des Graphen den Wert `-1` enthält.\n",
    "- Initialisieren Sie den Namen `max_flow` mit 0.\n",
    "- geben Sie den Wert von `max_flow` am Ende der Berechnungen zurück. Geben Sie außerdem die Liste `parent` zurück."
   ]
  },
  {
   "cell_type": "code",
   "execution_count": null,
   "metadata": {
    "deletable": false,
    "nbgrader": {
     "cell_type": "code",
     "checksum": "afaa33113cba431839b326fe23aba418",
     "grade": false,
     "grade_id": "cell-dd7c5437fe951da5",
     "locked": false,
     "schema_version": 3,
     "solution": true,
     "task": false
    }
   },
   "outputs": [],
   "source": [
    "def edmonds_karp_impl(G, s, t):\n",
    "    \"\"\" Returns the maximum flow from s to t for the given graph G. \"\"\"\n",
    "    \n",
    "    # YOUR CODE HERE\n",
    "    raise NotImplementedError()\n",
    "    "
   ]
  },
  {
   "cell_type": "markdown",
   "metadata": {
    "deletable": false,
    "editable": false,
    "nbgrader": {
     "cell_type": "markdown",
     "checksum": "5c2c66333012a9655a11a309d120d97f",
     "grade": false,
     "grade_id": "cell-88e27a87dd0a2345",
     "locked": true,
     "schema_version": 3,
     "solution": false,
     "task": false
    }
   },
   "source": [
    "## b) Tests"
   ]
  },
  {
   "cell_type": "code",
   "execution_count": null,
   "metadata": {
    "deletable": false,
    "editable": false,
    "nbgrader": {
     "cell_type": "code",
     "checksum": "66e1621419cd9b1da4db55bfa1aac36c",
     "grade": true,
     "grade_id": "cell-d21143403580e1cb",
     "locked": true,
     "points": 5,
     "schema_version": 3,
     "solution": false,
     "task": false
    }
   },
   "outputs": [],
   "source": [
    "s, t = 0, 1\n",
    "G = [[0, 0],\n",
    "    [0, 0]]\n",
    "\n",
    "max_flow, parent = edmonds_karp_impl(G, s, t)\n",
    "\n",
    "assert_equal(0, max_flow)\n",
    "assert_equal([-1, -1], parent)"
   ]
  },
  {
   "cell_type": "code",
   "execution_count": null,
   "metadata": {
    "deletable": false,
    "editable": false,
    "nbgrader": {
     "cell_type": "code",
     "checksum": "0a688e46e5a314d3e8f768609f58131e",
     "grade": true,
     "grade_id": "cell-02ed9ed46ae7b940",
     "locked": true,
     "points": 0,
     "schema_version": 3,
     "solution": false,
     "task": false
    }
   },
   "outputs": [],
   "source": [
    "s, t = 0, 1\n",
    "G = [[0, 1],\n",
    "    [0, 0]]\n",
    "\n",
    "max_flow, parent = edmonds_karp_impl(G, s, t)\n",
    "\n",
    "assert_equal(1, max_flow)\n",
    "assert_equal([-1, 0], parent)"
   ]
  },
  {
   "cell_type": "code",
   "execution_count": null,
   "metadata": {
    "deletable": false,
    "editable": false,
    "nbgrader": {
     "cell_type": "code",
     "checksum": "96bac7b0c482cdb7bf65ebcdf86467fd",
     "grade": true,
     "grade_id": "cell-2fc92eaf2dd41dbb",
     "locked": true,
     "points": 0,
     "schema_version": 3,
     "solution": false,
     "task": false
    }
   },
   "outputs": [],
   "source": [
    "s, t = 0, 1\n",
    "G = [[0, 7],\n",
    "    [5, 0]]\n",
    "\n",
    "max_flow, parent = edmonds_karp_impl(G, s, t)\n",
    "\n",
    "assert_equal(7, max_flow)\n",
    "assert_equal([-1, 0], parent)"
   ]
  },
  {
   "cell_type": "code",
   "execution_count": null,
   "metadata": {
    "deletable": false,
    "editable": false,
    "nbgrader": {
     "cell_type": "code",
     "checksum": "6655d4530ecd2097bb19240059798e19",
     "grade": true,
     "grade_id": "cell-6c76ea516e2b04cc",
     "locked": true,
     "points": 0,
     "schema_version": 3,
     "solution": false,
     "task": false
    }
   },
   "outputs": [],
   "source": [
    "s, t = 0, 5\n",
    "G = [\n",
    "    [0, 16, 13, 0, 0, 0],\n",
    "    [0, 0, 10, 12, 0, 0],\n",
    "    [0, 4, 0, 0, 14, 0],\n",
    "    [0, 0, 9, 0, 0, 20],\n",
    "    [0, 0, 0, 7, 0, 4],\n",
    "    [0, 0, 0, 0, 0, 0],\n",
    "]\n",
    "max_flow, parent = edmonds_karp_impl(G, s, t)\n",
    "assert_equal(23, max_flow)\n",
    "assert_equal([-1, 0, 0, 4, 2, 3], parent)"
   ]
  },
  {
   "cell_type": "markdown",
   "metadata": {
    "deletable": false,
    "editable": false,
    "nbgrader": {
     "cell_type": "markdown",
     "checksum": "059fdb6a90a4cea35aa2be39ce1981cc",
     "grade": false,
     "grade_id": "cell-c6b852cd7e7c1c24",
     "locked": true,
     "schema_version": 3,
     "solution": false,
     "task": false
    }
   },
   "source": [
    "# Bipartites Matching\n",
    "\n",
    "In dieser Aufgabe sollen Sie die optimale Verteilung von Studierenden zu Tutorien berechnen. Dabei soll die Präferenz der Studierenden als auch die Kapazität der Tutorien berücksichtigt werden. Um dieses Problem zu lösen werden Sie alle Informationen in einem Graphen kodieren und anschließend ein Max-Flow Problem beziehungsweise genauer ein Bipartites Matching Problem lösen.\n",
    "\n",
    "Problemformulierung: \n",
    "- Es existieren **n** Tutorien jeweils mit einer Kapazität von **c**. Also jedes Tutorium **n** kann maximal **c** viele Studierende fassen. \n",
    "- Es existieren **m** Studierende. Jeder Studierende wird genau einem Tutorium zugeteilt. \n",
    "- Jeder Studierende darf **p** Tutorien auswählen die er/sie gerne besuchen würde. Er/Sie darf keinem Tutorium zugeteilt werden, das er nicht ausgewählt hat. Es kann vorkommen, dass Studierende nicht zugeordnet werden können. \n",
    "\n",
    "Darstellung: \n",
    "- Das Wörterbuch `students` enthält **m** Einträge. Als Schlüssel verwenden Sie die Matrikelnummer des Studierenden. Als Wert speichern Sie eine Liste mit **p** Verweisen auf Wunschtutorien. \n",
    "- Das Wörterbuch `tutorials`enthält **n** Einträge. Als Schlüssel verwenden Sie die Nummer des Tutoriums und als Wert speichern sie die Kapazität **c** des Tutoriums.\n",
    "- Die Lösung wird in einem Wörterbuch `assignments`gespeichert. `assignments` hat **n** Einträge, wobei der Schlüssel der Nummer des Tutoriums entspricht und der Wert eine Liste mit Matrikelnummern beinhaltet. \n",
    "\n",
    "Ihnen werden die Funktionen `generate_random_problem()`, `load_pregenerated_problem()`, `print_assignment()`, sowie `visualize_graph()` zur Verfügung gestellt: \n",
    "- Die Funktion `generate_random_problem()` erstellt eine zufällige Probleminstanz, die über die übergebenen Parameter gesteuert werden kann.\n",
    "- Die Funktion `load_pregenerated_problem()` lädt eine vorgenerierte Probleminstanz.\n",
    "- Die Funktion `print_assignment()` erzeugt eine formattierte Ausgabe der Lösung.\n",
    "- Die Funktion `visualize_graph()` visualisiert einen Bipartiten Graphen bzw. auch die berechnete Lösung. Bitte beachten Sie, dass diese Funktion nur für die Visualisierung von kleinen Probleminstanzen ausgelegt ist und größere Graphen sehr schnell unübersichtlich und unleserlich werden.\n",
    "\n",
    "Ihre Aufgabe besteht darin die zwei Funktionen `create_graph()` und `extract_assignments()` zu implementieren. Die Funktion `create_graph()` überführt hierbei die Probleminstanz in die richtige Graphdarstellung. Die Funktion `extract_assignments()` extrahiert die Lösung des Problems aus dem Graphen. "
   ]
  },
  {
   "cell_type": "code",
   "execution_count": null,
   "metadata": {
    "deletable": false,
    "editable": false,
    "nbgrader": {
     "cell_type": "code",
     "checksum": "bab8e626ab75e722722fc0fa080a7ce6",
     "grade": false,
     "grade_id": "cell-d9c7f83fde5aac43",
     "locked": true,
     "schema_version": 3,
     "solution": false,
     "task": false
    }
   },
   "outputs": [],
   "source": [
    "def generate_random_problem(n_students=8, n_tutorials=3, n_prios=2, min_capacity=3, max_capacity=4):\n",
    "    num_min_max = (350000+n_tutorials, 450000+n_students+n_tutorials)\n",
    "    students = {randint(*num_min_max): sample(range(1, n_tutorials + 1), n_prios) for _ in range(n_students)}\n",
    "    tutorials = {t: randint(min_capacity, max_capacity) for t in range(1, n_tutorials + 1)}\n",
    "    return students, tutorials\n",
    "\n",
    "def load_problem(idx):\n",
    "    students = load_data(idx, \"students\")\n",
    "    tutorials = load_data(idx, \"tutorials\")\n",
    "    assignments = load_data(idx, \"assignments\")\n",
    "    return students, tutorials, assignments\n",
    "\n",
    "def print_assignment(assignments, students, tutorials):\n",
    "    print(f\"Zugeordnet: {sum(len(v) for v in assignments.values())} / {len(students)}\")\n",
    "    for tut, mat in assignments.items():\n",
    "        print(f\"Tutorium {tut}: #Studenten {len(mat)}/{tutorials[tut]} - Matrikelnummer: {mat}\")\n",
    "    print(f\"Nicht zugeordnet: {list(students.keys() - [i for j in assignments.values() for i in j])}\")\n",
    "\n",
    "\n",
    "def visualize_graph(students, tutorials, G, R=None):\n",
    "    pos = {}\n",
    "    n_students, n_tutorials = len(students), len(tutorials)\n",
    "    pos.update({s: [-0.4, (x - n_students // 2) / n_students] for x, s in enumerate(students.keys())})\n",
    "    pos.update({t: [0.4, (n_tutorials // 2 - x) / n_tutorials] for x, t in enumerate(tutorials.keys())})\n",
    "    pos.update({\"s\": [-1.0, 0.0], \"t\": [1.0, 0.0]})\n",
    "\n",
    "    capacity = get_edge_attributes(G, 'capacity')\n",
    "\n",
    "    if R is not None:\n",
    "        flow = get_edge_attributes(R, 'flow')\n",
    "        flow_non_zero = {k: v for k, v in flow.items() if v > 0}\n",
    "        labels = {k: f\"{flow[k]} / {v}\" for k, v in capacity.items() if v > 1}\n",
    "    else:\n",
    "        labels = {k: f\"- / {v}\" for k, v in capacity.items() if v > 1}\n",
    "\n",
    "    nodes_and_edges = draw_networkx(G, pos)\n",
    "    edge_labels = draw_networkx_edge_labels(G, pos, edge_labels=labels)\n",
    "    if R is not None:\n",
    "        selected_edges = draw_networkx_edges(G, pos, edgelist=flow_non_zero.keys(), edge_color=\"r\")"
   ]
  },
  {
   "cell_type": "markdown",
   "metadata": {
    "deletable": false,
    "editable": false,
    "nbgrader": {
     "cell_type": "markdown",
     "checksum": "e6c82a273989563aab07f2ca98f178cf",
     "grade": false,
     "grade_id": "cell-6d763956b862b864",
     "locked": true,
     "schema_version": 3,
     "solution": false,
     "task": false
    }
   },
   "source": [
    "## a) create_graph() - 6P.\n",
    "\n",
    "Implementieren Sie die Funktion `create_graph()`. Diese Funktion erhält die Wörterbücher `students` und `tutorials` als Parameter und soll die Probleminstanz in eine Graphdarstellung überführen.\n",
    "Um eine Kante in den Graphen `G` einzufügen können Sie die Funktion `add_edge()` auf dem Graphen aufrufen. Die Kapazität können Sie zusätlich mit dem Parameter `capacity` angeben. Falls einer (oder beide) Knoten der Kante noch nicht existiert, wird er automatisch hinzugefügt. \n",
    "\n",
    "Beispiel - Kante zwischen s und t mit Kapazität 10:\n",
    "```\n",
    "G.add_edge(s, t, capacity = 10)\n",
    "```\n",
    "Folgende Schritte sind zu beachten: \n",
    "- Einfügen einer Kante von jedem Studenten zu der Quelle 's'. Die Kapazität dieser Kanten ist 1.\n",
    "- Einfügen einer Kante von jedem Tutorium zu der Senke 't'. Die Kapazität dieser Kanten ist **c**.\n",
    "- Verbinden der Studenten mit den ausgewählten Tutorien. Die Kapazität dieser Kanten ist 1.\n",
    "\n",
    "```\n",
    "Eingabe:\n",
    "\n",
    "´students´: \n",
    "{366649: [2, 3], 364269: [2, 1], 430649: [1, 3], 374654: [2, 1], 435633: [2, 1], 419292: [2, 3], 371115: [1, 2], 427148: [3, 2]}\n",
    "´tutorials´: \n",
    "{1: 3, 2: 4, 3: 3}\n",
    "\n",
    "Ausgabe:\n",
    "```\n",
    "![create_graph_example](img/create_graph_example.png)"
   ]
  },
  {
   "cell_type": "code",
   "execution_count": null,
   "metadata": {
    "deletable": false,
    "nbgrader": {
     "cell_type": "code",
     "checksum": "ba55d68a07b8b3aa83af4f27fcb028bc",
     "grade": false,
     "grade_id": "cell-7be6fcc87f875d19",
     "locked": false,
     "schema_version": 3,
     "solution": true,
     "task": false
    }
   },
   "outputs": [],
   "source": [
    "def create_graph(students, tutorials):\n",
    "    G = DiGraph()\n",
    "    \n",
    "    # YOUR CODE HERE\n",
    "    raise NotImplementedError()\n",
    "    \n",
    "    return G"
   ]
  },
  {
   "cell_type": "markdown",
   "metadata": {
    "deletable": false,
    "editable": false,
    "nbgrader": {
     "cell_type": "markdown",
     "checksum": "1345a6b78e9978b0879050ef4323c6fc",
     "grade": false,
     "grade_id": "cell-583fa6bb653249c2",
     "locked": true,
     "schema_version": 3,
     "solution": false,
     "task": false
    }
   },
   "source": [
    "## a) Tests"
   ]
  },
  {
   "cell_type": "code",
   "execution_count": null,
   "metadata": {
    "deletable": false,
    "editable": false,
    "nbgrader": {
     "cell_type": "code",
     "checksum": "aab6fdb9716736e69761502631244023",
     "grade": true,
     "grade_id": "cell-a4ce10462e49c5d9",
     "locked": true,
     "points": 6,
     "schema_version": 3,
     "solution": false,
     "task": false
    }
   },
   "outputs": [],
   "source": [
    "# 1. create a random or load a pregenerated problem instance\n",
    "students, tutorials, _ = load_problem(1)\n",
    "\n",
    "# 2. transform the problem into a bipartite graph representation\n",
    "G = create_graph(students, tutorials)\n",
    "\n",
    "# 3. visualize the graph\n",
    "visualize_graph(students, tutorials, G)"
   ]
  },
  {
   "cell_type": "code",
   "execution_count": null,
   "metadata": {
    "deletable": false,
    "editable": false,
    "nbgrader": {
     "cell_type": "code",
     "checksum": "be55c30ba1bb930f31e48062ff3f2308",
     "grade": true,
     "grade_id": "cell-3bbb40045fbae2e7",
     "locked": true,
     "points": 0,
     "schema_version": 3,
     "solution": false,
     "task": false
    }
   },
   "outputs": [],
   "source": [
    "students, tutorials, _ = load_problem(2)\n",
    "G = create_graph(students, tutorials)\n",
    "visualize_graph(students, tutorials, G)"
   ]
  },
  {
   "cell_type": "code",
   "execution_count": null,
   "metadata": {
    "deletable": false,
    "editable": false,
    "nbgrader": {
     "cell_type": "code",
     "checksum": "93df88335930c401c86e5fee347c00ad",
     "grade": true,
     "grade_id": "cell-17f899fdb7554f5a",
     "locked": true,
     "points": 0,
     "schema_version": 3,
     "solution": false,
     "task": false
    }
   },
   "outputs": [],
   "source": [
    "students, tutorials = generate_random_problem()\n",
    "G = create_graph(students, tutorials)\n",
    "visualize_graph(students, tutorials, G)"
   ]
  },
  {
   "cell_type": "code",
   "execution_count": null,
   "metadata": {
    "deletable": false,
    "editable": false,
    "nbgrader": {
     "cell_type": "code",
     "checksum": "1e7f190848dfaa6f6f46e4ca0ed563e4",
     "grade": true,
     "grade_id": "cell-45482dfe9435a90a",
     "locked": true,
     "points": 0,
     "schema_version": 3,
     "solution": false,
     "task": false
    }
   },
   "outputs": [],
   "source": [
    "# unittests\n"
   ]
  },
  {
   "cell_type": "code",
   "execution_count": null,
   "metadata": {
    "deletable": false,
    "editable": false,
    "nbgrader": {
     "cell_type": "code",
     "checksum": "e051d705e9aa4f413b14601e17f64099",
     "grade": true,
     "grade_id": "cell-2d1e58265491bea0",
     "locked": true,
     "points": 0,
     "schema_version": 3,
     "solution": false,
     "task": false
    }
   },
   "outputs": [],
   "source": [
    "# unittests\n"
   ]
  },
  {
   "cell_type": "code",
   "execution_count": null,
   "metadata": {
    "deletable": false,
    "editable": false,
    "nbgrader": {
     "cell_type": "code",
     "checksum": "120ee85b5689d0867bd3ca6eda89ae0a",
     "grade": true,
     "grade_id": "cell-bfbdeeb769ec2666",
     "locked": true,
     "points": 0,
     "schema_version": 3,
     "solution": false,
     "task": false
    }
   },
   "outputs": [],
   "source": [
    "# unittests\n"
   ]
  },
  {
   "cell_type": "markdown",
   "metadata": {
    "deletable": false,
    "editable": false,
    "nbgrader": {
     "cell_type": "markdown",
     "checksum": "76d681cbf625a53c051e148546712b10",
     "grade": false,
     "grade_id": "cell-0c757f55c24029fc",
     "locked": true,
     "schema_version": 3,
     "solution": false,
     "task": false
    }
   },
   "source": [
    "## b) extract_assignments() - 4P.\n",
    "\n",
    "Implementieren Sie die Funktion `extract_assignments()`. Diese Funktion erhält als Eingabe die zwei Dictionaries `students` und `tutorials`, sowie den augmentierten Graphen `R`, der den maximalen Fluss von `s` nach `t` beschreibt. `R` erhält man durch: \n",
    "\n",
    "```\n",
    "R = edmonds_karp(G, \"s\", \"t\"),\n",
    "```\n",
    "wobei die Funktion `edmonds_karp()` aus dem Package `networkx` benutzt wird.\n",
    "\n",
    "Die Funktion `G.edges(data=True)` gibt Ihnen eine Liste von Trippeln, die aus zwei Knoten und den Attributen der Kante bestehen. Sie können auf den berechneten Fluss über das Attribut `flow` zugreifen. Beachten Sie hierbei die Dokumentation von `networkx`, falls Sie Probleme haben auf das Attribut zuzugreifen.\n",
    "\n",
    "Schreiben Sie alle Matrikelnummern, die einem Tutorium zugeordnet worden sind in das Dictionary `assignments`, wobei der Schlüssel die Nummer des Tutoriums beschreiben soll und der Werte eine Liste der zugeordneten Studenten darstellt.\n",
    "\n",
    "Hinweis: Beachten Sie, dass wir nur an dem positiven Fluss entlang der Kanten von der Quelle `s` zur Senke `t` interessiert sind. Machen Sie sich mit der Funktion `edmonds_karp` aus dem Package `networkx` vertraut, um den augmentierten Graphen `R` richtig zu deuten.\n",
    "\n",
    "```\n",
    "Eingabe:\n",
    "siehe Beispiel aus `create_graph()`\n",
    "\n",
    "Ausgabe:\n",
    "\n",
    "> print_assignment():\n",
    "Zugeordnet: 8 / 8\n",
    "Tutorium 1: #Studenten 1/3 - Matrikelnummer: [371115]\n",
    "Tutorium 2: #Studenten 4/4 - Matrikelnummer: [366649, 364269, 374654, 435633]\n",
    "Tutorium 3: #Studenten 3/3 - Matrikelnummer: [430649, 419292, 427148]\n",
    "Nicht zugeordnet: []\n",
    "\n",
    "> visualize_graph():\n",
    "```\n",
    "![extract_assignemnts_example](img/extract_assignments_example.png)"
   ]
  },
  {
   "cell_type": "code",
   "execution_count": null,
   "metadata": {
    "deletable": false,
    "nbgrader": {
     "cell_type": "code",
     "checksum": "0fbbac88383889995e993c72bdab333a",
     "grade": false,
     "grade_id": "cell-05e2c693bb3caa67",
     "locked": false,
     "schema_version": 3,
     "solution": true,
     "task": false
    }
   },
   "outputs": [],
   "source": [
    "def extract_assignments(students, tutorials, R):\n",
    "    assignments = {}\n",
    "    \n",
    "    # YOUR CODE HERE\n",
    "    raise NotImplementedError()\n",
    "    \n",
    "    return assignments"
   ]
  },
  {
   "cell_type": "markdown",
   "metadata": {
    "deletable": false,
    "editable": false,
    "nbgrader": {
     "cell_type": "markdown",
     "checksum": "e1d0cbd880de7ac3f7b25309a2ca44e3",
     "grade": false,
     "grade_id": "cell-cbb72bde98545d45",
     "locked": true,
     "schema_version": 3,
     "solution": false,
     "task": false
    }
   },
   "source": [
    "## b) Tests"
   ]
  },
  {
   "cell_type": "code",
   "execution_count": null,
   "metadata": {
    "deletable": false,
    "editable": false,
    "nbgrader": {
     "cell_type": "code",
     "checksum": "0cb19baea4d6ec8b6338ba0ed2f06bbf",
     "grade": false,
     "grade_id": "cell-7bf00bfc235f8836",
     "locked": true,
     "schema_version": 3,
     "solution": false,
     "task": false
    }
   },
   "outputs": [],
   "source": [
    "# unittests\n",
    "def solve_bipartite_matching_problem(students, tutorials):\n",
    "    # 1. transform the problem into a bipartite graph representation\n",
    "    G = create_graph(students, tutorials)\n",
    "    # 2. solve the problem using a max-flow solution\n",
    "    R = edmonds_karp(G, \"s\", \"t\")\n",
    "    # 3. extract the solution from the graph\n",
    "    assignments = extract_assignments(students, tutorials, R)\n",
    "    # 4. output the solution in a human readable form\n",
    "    print_assignment(assignments, students, tutorials)\n",
    "    # 5. optional: visualize the solution as a graph\n",
    "    visualize_graph(students, tutorials, G, R)"
   ]
  },
  {
   "cell_type": "code",
   "execution_count": null,
   "metadata": {
    "deletable": false,
    "editable": false,
    "nbgrader": {
     "cell_type": "code",
     "checksum": "b5c83452e427ba1ee406cc7a0e4aedcc",
     "grade": true,
     "grade_id": "cell-c8912d8d8ff7713c",
     "locked": true,
     "points": 4,
     "schema_version": 3,
     "solution": false,
     "task": false
    }
   },
   "outputs": [],
   "source": [
    "students, tutorials, _ = load_problem(1)\n",
    "solve_bipartite_matching_problem(students, tutorials)"
   ]
  },
  {
   "cell_type": "code",
   "execution_count": null,
   "metadata": {
    "deletable": false,
    "editable": false,
    "nbgrader": {
     "cell_type": "code",
     "checksum": "15e777c0abcfd338fa89d0697f935da5",
     "grade": true,
     "grade_id": "cell-a31b586ad0b513ab",
     "locked": true,
     "points": 0,
     "schema_version": 3,
     "solution": false,
     "task": false
    }
   },
   "outputs": [],
   "source": [
    "students, tutorials, _ = load_problem(2)\n",
    "solve_bipartite_matching_problem(students, tutorials)"
   ]
  },
  {
   "cell_type": "code",
   "execution_count": null,
   "metadata": {
    "deletable": false,
    "editable": false,
    "nbgrader": {
     "cell_type": "code",
     "checksum": "7fa3fd32d5f6390e429d7e08b6d49ca2",
     "grade": true,
     "grade_id": "cell-2c140a1688cef69b",
     "locked": true,
     "points": 0,
     "schema_version": 3,
     "solution": false,
     "task": false
    }
   },
   "outputs": [],
   "source": [
    "# create a random problem instance\n",
    "students, tutorials = generate_random_problem()\n",
    "solve_bipartite_matching_problem(students, tutorials)"
   ]
  },
  {
   "cell_type": "code",
   "execution_count": null,
   "metadata": {
    "deletable": false,
    "editable": false,
    "nbgrader": {
     "cell_type": "code",
     "checksum": "15cd5a95386614e7e29db9c710982307",
     "grade": true,
     "grade_id": "cell-3bf8e1284a238743",
     "locked": true,
     "points": 0,
     "schema_version": 3,
     "solution": false,
     "task": false
    }
   },
   "outputs": [],
   "source": [
    "# create a random problem instance\n",
    "students, tutorials = generate_random_problem(n_students=12, n_tutorials=5, n_prios=3, min_capacity=1, max_capacity=4)\n",
    "solve_bipartite_matching_problem(students, tutorials)"
   ]
  },
  {
   "cell_type": "code",
   "execution_count": null,
   "metadata": {
    "deletable": false,
    "editable": false,
    "nbgrader": {
     "cell_type": "code",
     "checksum": "42eb2cb87bbc50e1361b1249cea720ed",
     "grade": true,
     "grade_id": "cell-efac466b359b0c9a",
     "locked": true,
     "points": 0,
     "schema_version": 3,
     "solution": false,
     "task": false
    }
   },
   "outputs": [],
   "source": [
    "# unittests"
   ]
  },
  {
   "cell_type": "markdown",
   "metadata": {
    "deletable": false,
    "editable": false,
    "nbgrader": {
     "cell_type": "markdown",
     "checksum": "b97ff9d57b123e6dee0160d384edd3b6",
     "grade": false,
     "grade_id": "cell-1b974b740c5bee36",
     "locked": true,
     "schema_version": 3,
     "solution": false,
     "task": false
    }
   },
   "source": [
    "## Jupyter Notebook Stolperfalle\n",
    "Bei der Benutzung von Jupyter Notebooks, wird der globale Zustand aller Variablen zwischen der Ausführung von verschiedenen Zellen erhalten. Dies ist auch der Fall, wenn Zellen gelöscht oder hinzugefügt werden.\n",
    "Um sicher zu gehen, dass nicht ausversehen notwendige Variablen überschrieben oder gelöscht wurden, kann der Befehl `Kernel -> Restart & Run All` ausgeführt werden."
   ]
  }
 ],
 "metadata": {
  "kernelspec": {
   "display_name": "Python 3.10.2 ('venv': venv)",
   "language": "python",
   "name": "python3"
  },
  "language_info": {
   "codemirror_mode": {
    "name": "ipython",
    "version": 3
   },
   "file_extension": ".py",
   "mimetype": "text/x-python",
   "name": "python",
   "nbconvert_exporter": "python",
   "pygments_lexer": "ipython3",
   "version": "3.10.2"
  },
  "varInspector": {
   "cols": {
    "lenName": 16,
    "lenType": 16,
    "lenVar": 40
   },
   "kernels_config": {
    "python": {
     "delete_cmd_postfix": "",
     "delete_cmd_prefix": "del ",
     "library": "var_list.py",
     "varRefreshCmd": "print(var_dic_list())"
    },
    "r": {
     "delete_cmd_postfix": ") ",
     "delete_cmd_prefix": "rm(",
     "library": "var_list.r",
     "varRefreshCmd": "cat(var_dic_list()) "
    }
   },
   "types_to_exclude": [
    "module",
    "function",
    "builtin_function_or_method",
    "instance",
    "_Feature"
   ],
   "window_display": false
  },
  "vscode": {
   "interpreter": {
    "hash": "bd2f0bc07c95d150693dac41446bc3ae1ab5a7e6f01fbabf4ed0d4297109f598"
   }
  }
 },
 "nbformat": 4,
 "nbformat_minor": 4
}
